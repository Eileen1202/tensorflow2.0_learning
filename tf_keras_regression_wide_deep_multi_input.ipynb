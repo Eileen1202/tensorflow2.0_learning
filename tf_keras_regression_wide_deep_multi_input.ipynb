{
  "nbformat": 4,
  "nbformat_minor": 0,
  "metadata": {
    "colab": {
      "name": "tf_keras_regression_wide_deep_multi_input.ipynb",
      "version": "0.3.2",
      "provenance": [],
      "include_colab_link": true
    },
    "kernelspec": {
      "name": "python3",
      "display_name": "Python 3"
    },
    "accelerator": "GPU"
  },
  "cells": [
    {
      "cell_type": "markdown",
      "metadata": {
        "id": "view-in-github",
        "colab_type": "text"
      },
      "source": [
        "<a href=\"https://colab.research.google.com/github/vvshyer/tensorflow2.0_learning/blob/master/tf_keras_regression_wide_deep_multi_input.ipynb\" target=\"_parent\"><img src=\"https://colab.research.google.com/assets/colab-badge.svg\" alt=\"Open In Colab\"/></a>"
      ]
    },
    {
      "cell_type": "code",
      "metadata": {
        "id": "HUoJrGPpbb-h",
        "colab_type": "code",
        "colab": {}
      },
      "source": [
        "!pip install tensorflow==2.0.0-alpha0 "
      ],
      "execution_count": 0,
      "outputs": []
    },
    {
      "cell_type": "code",
      "metadata": {
        "id": "8ezK57pS6ZSF",
        "colab_type": "code",
        "outputId": "0738a118-c760-49d5-d6fb-b65761cd2776",
        "colab": {
          "base_uri": "https://localhost:8080/",
          "height": 173
        }
      },
      "source": [
        "import matplotlib as mpl\n",
        "import matplotlib.pyplot as plt\n",
        "%matplotlib inline\n",
        "import numpy as np\n",
        "import sklearn\n",
        "import pandas as pd\n",
        "import os\n",
        "import sys\n",
        "import time\n",
        "import tensorflow as tf\n",
        "\n",
        "from tensorflow import keras\n",
        "\n",
        "print(tf.__version__)\n",
        "print(sys.version_info)\n",
        "for module in mpl, np, pd, sklearn, tf, keras:\n",
        "    print(module.__name__, module.__version__)"
      ],
      "execution_count": 1,
      "outputs": [
        {
          "output_type": "stream",
          "text": [
            "2.0.0-alpha0\n",
            "sys.version_info(major=3, minor=6, micro=7, releaselevel='final', serial=0)\n",
            "matplotlib 3.0.3\n",
            "numpy 1.16.3\n",
            "pandas 0.24.2\n",
            "sklearn 0.21.1\n",
            "tensorflow 2.0.0-alpha0\n",
            "tensorflow.python.keras.api._v2.keras 2.2.4-tf\n"
          ],
          "name": "stdout"
        }
      ]
    },
    {
      "cell_type": "code",
      "metadata": {
        "id": "hd13Iimm6j7Q",
        "colab_type": "code",
        "outputId": "5f5ae34a-da30-4fe9-c55c-eb1c0eb0d253",
        "colab": {
          "base_uri": "https://localhost:8080/",
          "height": 768
        }
      },
      "source": [
        "from sklearn.datasets import fetch_california_housing\n",
        "\n",
        "housing = fetch_california_housing()\n",
        "print(housing.DESCR)\n",
        "print(housing.data.shape)\n",
        "print(housing.target.shape)"
      ],
      "execution_count": 2,
      "outputs": [
        {
          "output_type": "stream",
          "text": [
            ".. _california_housing_dataset:\n",
            "\n",
            "California Housing dataset\n",
            "--------------------------\n",
            "\n",
            "**Data Set Characteristics:**\n",
            "\n",
            "    :Number of Instances: 20640\n",
            "\n",
            "    :Number of Attributes: 8 numeric, predictive attributes and the target\n",
            "\n",
            "    :Attribute Information:\n",
            "        - MedInc        median income in block\n",
            "        - HouseAge      median house age in block\n",
            "        - AveRooms      average number of rooms\n",
            "        - AveBedrms     average number of bedrooms\n",
            "        - Population    block population\n",
            "        - AveOccup      average house occupancy\n",
            "        - Latitude      house block latitude\n",
            "        - Longitude     house block longitude\n",
            "\n",
            "    :Missing Attribute Values: None\n",
            "\n",
            "This dataset was obtained from the StatLib repository.\n",
            "http://lib.stat.cmu.edu/datasets/\n",
            "\n",
            "The target variable is the median house value for California districts.\n",
            "\n",
            "This dataset was derived from the 1990 U.S. census, using one row per census\n",
            "block group. A block group is the smallest geographical unit for which the U.S.\n",
            "Census Bureau publishes sample data (a block group typically has a population\n",
            "of 600 to 3,000 people).\n",
            "\n",
            "It can be downloaded/loaded using the\n",
            ":func:`sklearn.datasets.fetch_california_housing` function.\n",
            "\n",
            ".. topic:: References\n",
            "\n",
            "    - Pace, R. Kelley and Ronald Barry, Sparse Spatial Autoregressions,\n",
            "      Statistics and Probability Letters, 33 (1997) 291-297\n",
            "\n",
            "(20640, 8)\n",
            "(20640,)\n"
          ],
          "name": "stdout"
        }
      ]
    },
    {
      "cell_type": "code",
      "metadata": {
        "id": "sy2zeFXF7O6V",
        "colab_type": "code",
        "outputId": "15eeb91c-1764-42b4-d365-56f3f6462a6a",
        "colab": {
          "base_uri": "https://localhost:8080/",
          "height": 68
        }
      },
      "source": [
        "from sklearn.model_selection import train_test_split\n",
        "\n",
        "# test_size默认为0.25\n",
        "x_train_all, x_test, y_train_all, y_test = train_test_split(\n",
        "    housing.data, housing.target, random_state = 7, test_size = 0.25)\n",
        "\n",
        "x_train, x_valid, y_train, y_valid = train_test_split(\n",
        "    x_train_all, y_train_all, random_state = 11)\n",
        "\n",
        "print(x_train.shape, y_train.shape)\n",
        "print(x_valid.shape, y_valid.shape)\n",
        "print(x_test.shape, y_test.shape)"
      ],
      "execution_count": 3,
      "outputs": [
        {
          "output_type": "stream",
          "text": [
            "(11610, 8) (11610,)\n",
            "(3870, 8) (3870,)\n",
            "(5160, 8) (5160,)\n"
          ],
          "name": "stdout"
        }
      ]
    },
    {
      "cell_type": "code",
      "metadata": {
        "id": "TvaW64pQ7418",
        "colab_type": "code",
        "colab": {}
      },
      "source": [
        "from sklearn.preprocessing import StandardScaler\n",
        "\n",
        "scaler = StandardScaler()\n",
        "x_train_scaled = scaler.fit_transform(x_train)\n",
        "x_valid_scaled = scaler.transform(x_valid)\n",
        "x_test_scaled = scaler.transform(x_test)"
      ],
      "execution_count": 0,
      "outputs": []
    },
    {
      "cell_type": "code",
      "metadata": {
        "id": "7IkL0UAt8Qzo",
        "colab_type": "code",
        "outputId": "e37671f9-1cd0-44df-c7f5-a7b83d375d35",
        "colab": {
          "base_uri": "https://localhost:8080/",
          "height": 394
        }
      },
      "source": [
        "# 多输入\n",
        "input_wide = keras.layers.Input(shape=[5])\n",
        "input_deep = keras.layers.Input(shape=[6])\n",
        "hidden1 = keras.layers.Dense(30, activation='relu')(input_deep)\n",
        "hidden2 = keras.layers.Dense(30, activation='relu')(hidden1)\n",
        "concat = keras.layers.concatenate([input_wide, hidden2])\n",
        "output = keras.layers.Dense(1)(concat)\n",
        "model = keras.models.Model(inputs = [input_wide, input_deep],\n",
        "                          outputs = [output])\n",
        "\n",
        "model.summary()\n",
        "model.compile(loss=\"mean_squared_error\", optimizer = \"sgd\")\n",
        "callbacks = [keras.callbacks.EarlyStopping(patience=5, min_delta=1e-3)]"
      ],
      "execution_count": 7,
      "outputs": [
        {
          "output_type": "stream",
          "text": [
            "Model: \"model\"\n",
            "__________________________________________________________________________________________________\n",
            "Layer (type)                    Output Shape         Param #     Connected to                     \n",
            "==================================================================================================\n",
            "input_6 (InputLayer)            [(None, 6)]          0                                            \n",
            "__________________________________________________________________________________________________\n",
            "dense_6 (Dense)                 (None, 30)           210         input_6[0][0]                    \n",
            "__________________________________________________________________________________________________\n",
            "input_5 (InputLayer)            [(None, 5)]          0                                            \n",
            "__________________________________________________________________________________________________\n",
            "dense_7 (Dense)                 (None, 30)           930         dense_6[0][0]                    \n",
            "__________________________________________________________________________________________________\n",
            "concatenate_2 (Concatenate)     (None, 35)           0           input_5[0][0]                    \n",
            "                                                                 dense_7[0][0]                    \n",
            "__________________________________________________________________________________________________\n",
            "dense_8 (Dense)                 (None, 1)            36          concatenate_2[0][0]              \n",
            "==================================================================================================\n",
            "Total params: 1,176\n",
            "Trainable params: 1,176\n",
            "Non-trainable params: 0\n",
            "__________________________________________________________________________________________________\n"
          ],
          "name": "stdout"
        }
      ]
    },
    {
      "cell_type": "code",
      "metadata": {
        "id": "P3g9RQd287SJ",
        "colab_type": "code",
        "outputId": "f97bbfb2-5b15-4cde-a907-9caf7e473028",
        "colab": {
          "base_uri": "https://localhost:8080/",
          "height": 3454
        }
      },
      "source": [
        "x_train_scaled_wide = x_train_scaled[:, :5]\n",
        "x_train_scaled_deep = x_train_scaled[:, 2:]\n",
        "x_valid_scaled_wide = x_valid_scaled[:, :5]\n",
        "x_valid_scaled_deep = x_valid_scaled[:, 2:]\n",
        "x_test_scaled_wide = x_test_scaled[:, :5]\n",
        "x_test_scaled_deep = x_test_scaled[:, 2:]\n",
        "\n",
        "history = model.fit([x_train_scaled_wide, x_train_scaled_deep], y_train,\n",
        "                   validation_data = ([x_valid_scaled_wide, x_valid_scaled_deep], y_valid),\n",
        "                   epochs = 100,\n",
        "                   callbacks = callbacks)"
      ],
      "execution_count": 8,
      "outputs": [
        {
          "output_type": "stream",
          "text": [
            "Train on 11610 samples, validate on 3870 samples\n",
            "Epoch 1/100\n",
            "11610/11610 [==============================] - 1s 54us/sample - loss: 1.4866 - val_loss: 0.9208\n",
            "Epoch 2/100\n",
            "11610/11610 [==============================] - 0s 39us/sample - loss: 0.7761 - val_loss: 0.8010\n",
            "Epoch 3/100\n",
            "11610/11610 [==============================] - 0s 38us/sample - loss: 0.6999 - val_loss: 0.7343\n",
            "Epoch 4/100\n",
            "11610/11610 [==============================] - 0s 36us/sample - loss: 0.6525 - val_loss: 0.6917\n",
            "Epoch 5/100\n",
            "11610/11610 [==============================] - 0s 37us/sample - loss: 0.6150 - val_loss: 0.6551\n",
            "Epoch 6/100\n",
            "11610/11610 [==============================] - 0s 39us/sample - loss: 0.5852 - val_loss: 0.6200\n",
            "Epoch 7/100\n",
            "11610/11610 [==============================] - 0s 39us/sample - loss: 0.5602 - val_loss: 0.5952\n",
            "Epoch 8/100\n",
            "11610/11610 [==============================] - 0s 40us/sample - loss: 0.5399 - val_loss: 0.5737\n",
            "Epoch 9/100\n",
            "11610/11610 [==============================] - 0s 39us/sample - loss: 0.5234 - val_loss: 0.5553\n",
            "Epoch 10/100\n",
            "11610/11610 [==============================] - 0s 40us/sample - loss: 0.5093 - val_loss: 0.5402\n",
            "Epoch 11/100\n",
            "11610/11610 [==============================] - 0s 38us/sample - loss: 0.4980 - val_loss: 0.5298\n",
            "Epoch 12/100\n",
            "11610/11610 [==============================] - 0s 39us/sample - loss: 0.4893 - val_loss: 0.5223\n",
            "Epoch 13/100\n",
            "11610/11610 [==============================] - 0s 39us/sample - loss: 0.4818 - val_loss: 0.5123\n",
            "Epoch 14/100\n",
            "11610/11610 [==============================] - 0s 41us/sample - loss: 0.4755 - val_loss: 0.5067\n",
            "Epoch 15/100\n",
            "11610/11610 [==============================] - 0s 39us/sample - loss: 0.4703 - val_loss: 0.4987\n",
            "Epoch 16/100\n",
            "11610/11610 [==============================] - 0s 39us/sample - loss: 0.4651 - val_loss: 0.4949\n",
            "Epoch 17/100\n",
            "11610/11610 [==============================] - 0s 39us/sample - loss: 0.4610 - val_loss: 0.4894\n",
            "Epoch 18/100\n",
            "11610/11610 [==============================] - 0s 39us/sample - loss: 0.4567 - val_loss: 0.4839\n",
            "Epoch 19/100\n",
            "11610/11610 [==============================] - 0s 40us/sample - loss: 0.4529 - val_loss: 0.4812\n",
            "Epoch 20/100\n",
            "11610/11610 [==============================] - 0s 39us/sample - loss: 0.4495 - val_loss: 0.4772\n",
            "Epoch 21/100\n",
            "11610/11610 [==============================] - 0s 40us/sample - loss: 0.4460 - val_loss: 0.4734\n",
            "Epoch 22/100\n",
            "11610/11610 [==============================] - 0s 38us/sample - loss: 0.4432 - val_loss: 0.4707\n",
            "Epoch 23/100\n",
            "11610/11610 [==============================] - 0s 39us/sample - loss: 0.4402 - val_loss: 0.4660\n",
            "Epoch 24/100\n",
            "11610/11610 [==============================] - 0s 39us/sample - loss: 0.4377 - val_loss: 0.4634\n",
            "Epoch 25/100\n",
            "11610/11610 [==============================] - 0s 40us/sample - loss: 0.4351 - val_loss: 0.4623\n",
            "Epoch 26/100\n",
            "11610/11610 [==============================] - 0s 40us/sample - loss: 0.4328 - val_loss: 0.4590\n",
            "Epoch 27/100\n",
            "11610/11610 [==============================] - 0s 40us/sample - loss: 0.4305 - val_loss: 0.4561\n",
            "Epoch 28/100\n",
            "11610/11610 [==============================] - 0s 39us/sample - loss: 0.4281 - val_loss: 0.4563\n",
            "Epoch 29/100\n",
            "11610/11610 [==============================] - 0s 38us/sample - loss: 0.4267 - val_loss: 0.4534\n",
            "Epoch 30/100\n",
            "11610/11610 [==============================] - 0s 39us/sample - loss: 0.4247 - val_loss: 0.4499\n",
            "Epoch 31/100\n",
            "11610/11610 [==============================] - 0s 40us/sample - loss: 0.4227 - val_loss: 0.4503\n",
            "Epoch 32/100\n",
            "11610/11610 [==============================] - 0s 38us/sample - loss: 0.4212 - val_loss: 0.4454\n",
            "Epoch 33/100\n",
            "11610/11610 [==============================] - 0s 38us/sample - loss: 0.4197 - val_loss: 0.4453\n",
            "Epoch 34/100\n",
            "11610/11610 [==============================] - 0s 39us/sample - loss: 0.4183 - val_loss: 0.4422\n",
            "Epoch 35/100\n",
            "11610/11610 [==============================] - 0s 39us/sample - loss: 0.4166 - val_loss: 0.4401\n",
            "Epoch 36/100\n",
            "11610/11610 [==============================] - 0s 39us/sample - loss: 0.4150 - val_loss: 0.4404\n",
            "Epoch 37/100\n",
            "11610/11610 [==============================] - 0s 39us/sample - loss: 0.4141 - val_loss: 0.4383\n",
            "Epoch 38/100\n",
            "11610/11610 [==============================] - 0s 41us/sample - loss: 0.4126 - val_loss: 0.4393\n",
            "Epoch 39/100\n",
            "11610/11610 [==============================] - 0s 39us/sample - loss: 0.4115 - val_loss: 0.4366\n",
            "Epoch 40/100\n",
            "11610/11610 [==============================] - 0s 39us/sample - loss: 0.4102 - val_loss: 0.4348\n",
            "Epoch 41/100\n",
            "11610/11610 [==============================] - 0s 39us/sample - loss: 0.4091 - val_loss: 0.4339\n",
            "Epoch 42/100\n",
            "11610/11610 [==============================] - 0s 39us/sample - loss: 0.4081 - val_loss: 0.4311\n",
            "Epoch 43/100\n",
            "11610/11610 [==============================] - 0s 39us/sample - loss: 0.4068 - val_loss: 0.4302\n",
            "Epoch 44/100\n",
            "11610/11610 [==============================] - 0s 40us/sample - loss: 0.4056 - val_loss: 0.4299\n",
            "Epoch 45/100\n",
            "11610/11610 [==============================] - 0s 39us/sample - loss: 0.4048 - val_loss: 0.4287\n",
            "Epoch 46/100\n",
            "11610/11610 [==============================] - 0s 39us/sample - loss: 0.4038 - val_loss: 0.4272\n",
            "Epoch 47/100\n",
            "11610/11610 [==============================] - 0s 39us/sample - loss: 0.4024 - val_loss: 0.4259\n",
            "Epoch 48/100\n",
            "11610/11610 [==============================] - 0s 40us/sample - loss: 0.4014 - val_loss: 0.4251\n",
            "Epoch 49/100\n",
            "11610/11610 [==============================] - 0s 42us/sample - loss: 0.4006 - val_loss: 0.4244\n",
            "Epoch 50/100\n",
            "11610/11610 [==============================] - 1s 44us/sample - loss: 0.3995 - val_loss: 0.4240\n",
            "Epoch 51/100\n",
            "11610/11610 [==============================] - 1s 44us/sample - loss: 0.3988 - val_loss: 0.4224\n",
            "Epoch 52/100\n",
            "11610/11610 [==============================] - 1s 44us/sample - loss: 0.3978 - val_loss: 0.4212\n",
            "Epoch 53/100\n",
            "11610/11610 [==============================] - 1s 44us/sample - loss: 0.3968 - val_loss: 0.4210\n",
            "Epoch 54/100\n",
            "11610/11610 [==============================] - 1s 44us/sample - loss: 0.3960 - val_loss: 0.4190\n",
            "Epoch 55/100\n",
            "11610/11610 [==============================] - 1s 44us/sample - loss: 0.3951 - val_loss: 0.4186\n",
            "Epoch 56/100\n",
            "11610/11610 [==============================] - 1s 45us/sample - loss: 0.3944 - val_loss: 0.4180\n",
            "Epoch 57/100\n",
            "11610/11610 [==============================] - 1s 44us/sample - loss: 0.3934 - val_loss: 0.4161\n",
            "Epoch 58/100\n",
            "11610/11610 [==============================] - 1s 45us/sample - loss: 0.3923 - val_loss: 0.4153\n",
            "Epoch 59/100\n",
            "11610/11610 [==============================] - 1s 45us/sample - loss: 0.3920 - val_loss: 0.4154\n",
            "Epoch 60/100\n",
            "11610/11610 [==============================] - 1s 46us/sample - loss: 0.3912 - val_loss: 0.4139\n",
            "Epoch 61/100\n",
            "11610/11610 [==============================] - 1s 44us/sample - loss: 0.3905 - val_loss: 0.4135\n",
            "Epoch 62/100\n",
            "11610/11610 [==============================] - 1s 44us/sample - loss: 0.3895 - val_loss: 0.4146\n",
            "Epoch 63/100\n",
            "11610/11610 [==============================] - 1s 44us/sample - loss: 0.3887 - val_loss: 0.4110\n",
            "Epoch 64/100\n",
            "11610/11610 [==============================] - 1s 44us/sample - loss: 0.3880 - val_loss: 0.4113\n",
            "Epoch 65/100\n",
            "11610/11610 [==============================] - 1s 45us/sample - loss: 0.3874 - val_loss: 0.4116\n",
            "Epoch 66/100\n",
            "11610/11610 [==============================] - 1s 45us/sample - loss: 0.3868 - val_loss: 0.4099\n",
            "Epoch 67/100\n",
            "11610/11610 [==============================] - 1s 44us/sample - loss: 0.3859 - val_loss: 0.4094\n",
            "Epoch 68/100\n",
            "11610/11610 [==============================] - 1s 44us/sample - loss: 0.3853 - val_loss: 0.4082\n",
            "Epoch 69/100\n",
            "11610/11610 [==============================] - 0s 39us/sample - loss: 0.3846 - val_loss: 0.4077\n",
            "Epoch 70/100\n",
            "11610/11610 [==============================] - 0s 39us/sample - loss: 0.3838 - val_loss: 0.4063\n",
            "Epoch 71/100\n",
            "11610/11610 [==============================] - 0s 39us/sample - loss: 0.3832 - val_loss: 0.4054\n",
            "Epoch 72/100\n",
            "11610/11610 [==============================] - 0s 39us/sample - loss: 0.3823 - val_loss: 0.4064\n",
            "Epoch 73/100\n",
            "11610/11610 [==============================] - 0s 38us/sample - loss: 0.3819 - val_loss: 0.4054\n",
            "Epoch 74/100\n",
            "11610/11610 [==============================] - 0s 38us/sample - loss: 0.3812 - val_loss: 0.4043\n",
            "Epoch 75/100\n",
            "11610/11610 [==============================] - 0s 39us/sample - loss: 0.3806 - val_loss: 0.4023\n",
            "Epoch 76/100\n",
            "11610/11610 [==============================] - 0s 40us/sample - loss: 0.3798 - val_loss: 0.4019\n",
            "Epoch 77/100\n",
            "11610/11610 [==============================] - 0s 39us/sample - loss: 0.3789 - val_loss: 0.4015\n",
            "Epoch 78/100\n",
            "11610/11610 [==============================] - 0s 38us/sample - loss: 0.3786 - val_loss: 0.4006\n",
            "Epoch 79/100\n",
            "11610/11610 [==============================] - 0s 38us/sample - loss: 0.3777 - val_loss: 0.4004\n",
            "Epoch 80/100\n",
            "11610/11610 [==============================] - 0s 38us/sample - loss: 0.3771 - val_loss: 0.3993\n",
            "Epoch 81/100\n",
            "11610/11610 [==============================] - 0s 40us/sample - loss: 0.3765 - val_loss: 0.3981\n",
            "Epoch 82/100\n",
            "11610/11610 [==============================] - 0s 41us/sample - loss: 0.3757 - val_loss: 0.3980\n",
            "Epoch 83/100\n",
            "11610/11610 [==============================] - 0s 39us/sample - loss: 0.3751 - val_loss: 0.3974\n",
            "Epoch 84/100\n",
            "11610/11610 [==============================] - 0s 40us/sample - loss: 0.3743 - val_loss: 0.3961\n",
            "Epoch 85/100\n",
            "11610/11610 [==============================] - 0s 38us/sample - loss: 0.3737 - val_loss: 0.3961\n",
            "Epoch 86/100\n",
            "11610/11610 [==============================] - 0s 39us/sample - loss: 0.3731 - val_loss: 0.3944\n",
            "Epoch 87/100\n",
            "11610/11610 [==============================] - 0s 38us/sample - loss: 0.3724 - val_loss: 0.3945\n",
            "Epoch 88/100\n",
            "11610/11610 [==============================] - 0s 40us/sample - loss: 0.3717 - val_loss: 0.3935\n",
            "Epoch 89/100\n",
            "11610/11610 [==============================] - 0s 38us/sample - loss: 0.3709 - val_loss: 0.3933\n",
            "Epoch 90/100\n",
            "11610/11610 [==============================] - 0s 40us/sample - loss: 0.3705 - val_loss: 0.3927\n",
            "Epoch 91/100\n",
            "11610/11610 [==============================] - 0s 38us/sample - loss: 0.3697 - val_loss: 0.3924\n",
            "Epoch 92/100\n",
            "11610/11610 [==============================] - 0s 39us/sample - loss: 0.3688 - val_loss: 0.3913\n",
            "Epoch 93/100\n",
            "11610/11610 [==============================] - 0s 39us/sample - loss: 0.3683 - val_loss: 0.3906\n",
            "Epoch 94/100\n",
            "11610/11610 [==============================] - 0s 38us/sample - loss: 0.3675 - val_loss: 0.3900\n",
            "Epoch 95/100\n",
            "11610/11610 [==============================] - 0s 39us/sample - loss: 0.3672 - val_loss: 0.3895\n",
            "Epoch 96/100\n",
            "11610/11610 [==============================] - 0s 38us/sample - loss: 0.3660 - val_loss: 0.3870\n",
            "Epoch 97/100\n",
            "11610/11610 [==============================] - 0s 40us/sample - loss: 0.3656 - val_loss: 0.3868\n",
            "Epoch 98/100\n",
            "11610/11610 [==============================] - 0s 38us/sample - loss: 0.3648 - val_loss: 0.3858\n",
            "Epoch 99/100\n",
            "11610/11610 [==============================] - 0s 39us/sample - loss: 0.3641 - val_loss: 0.3853\n",
            "Epoch 100/100\n",
            "11610/11610 [==============================] - 0s 38us/sample - loss: 0.3635 - val_loss: 0.3844\n"
          ],
          "name": "stdout"
        }
      ]
    },
    {
      "cell_type": "code",
      "metadata": {
        "id": "QMlYp_ol9Qmz",
        "colab_type": "code",
        "outputId": "d93a81b9-0615-48ce-9214-c924f33287b9",
        "colab": {
          "base_uri": "https://localhost:8080/",
          "height": 324
        }
      },
      "source": [
        "def plot_learning_curves(history):\n",
        "    pd.DataFrame(history.history).plot(figsize=(8,5))\n",
        "    plt.grid(True)\n",
        "    plt.gca().set_ylim(0,1)\n",
        "    plt.show()\n",
        "\n",
        "plot_learning_curves(history)"
      ],
      "execution_count": 9,
      "outputs": [
        {
          "output_type": "display_data",
          "data": {
            "image/png": "[encoded data removed]",
            "text/plain": [
              "<Figure size 576x360 with 1 Axes>"
            ]
          },
          "metadata": {
            "tags": []
          }
        }
      ]
    },
    {
      "cell_type": "code",
      "metadata": {
        "id": "hP7LY8Sa9iX4",
        "colab_type": "code",
        "outputId": "6393b27c-f477-4b3e-9a7e-6c0af24f1f7f",
        "colab": {
          "base_uri": "https://localhost:8080/",
          "height": 71
        }
      },
      "source": [
        "model.evaluate([x_test_scaled_wide, x_test_scaled_deep], y_test)"
      ],
      "execution_count": 10,
      "outputs": [
        {
          "output_type": "stream",
          "text": [
            "5160/5160 [==============================] - 0s 21us/sample - loss: 0.3740\n"
          ],
          "name": "stdout"
        },
        {
          "output_type": "execute_result",
          "data": {
            "text/plain": [
              "0.37398104103960733"
            ]
          },
          "metadata": {
            "tags": []
          },
          "execution_count": 10
        }
      ]
    },
    {
      "cell_type": "code",
      "metadata": {
        "id": "yZAMB_v0kqDF",
        "colab_type": "code",
        "colab": {}
      },
      "source": [
        ""
      ],
      "execution_count": 0,
      "outputs": []
    }
  ]
}