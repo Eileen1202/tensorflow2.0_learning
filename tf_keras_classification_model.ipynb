{
  "nbformat": 4,
  "nbformat_minor": 0,
  "metadata": {
    "colab": {
      "name": "tf_keras_classification_model.ipynb",
      "version": "0.3.2",
      "provenance": [],
      "include_colab_link": true
    },
    "kernelspec": {
      "name": "python3",
      "display_name": "Python 3"
    },
    "accelerator": "GPU"
  },
  "cells": [
    {
      "cell_type": "markdown",
      "metadata": {
        "id": "view-in-github",
        "colab_type": "text"
      },
      "source": [
        "<a href=\"https://colab.research.google.com/github/vvshyer/tensorflow2.0_learning/blob/master/tf_keras_classification_model.ipynb\" target=\"_parent\"><img src=\"https://colab.research.google.com/assets/colab-badge.svg\" alt=\"Open In Colab\"/></a>"
      ]
    },
    {
      "cell_type": "code",
      "metadata": {
        "id": "XHw-sfvAkD1N",
        "colab_type": "code",
        "outputId": "2a63f0b4-826d-4cd5-d330-fb10d6c0724c",
        "colab": {
          "base_uri": "https://localhost:8080/",
          "height": 173
        }
      },
      "source": [
        "import matplotlib as mpl\n",
        "import matplotlib.pyplot as plt\n",
        "%matplotlib inline\n",
        "import numpy as np\n",
        "import sklearn\n",
        "import pandas as pd\n",
        "import os\n",
        "import sys\n",
        "import time\n",
        "import tensorflow as tf\n",
        "\n",
        "from tensorflow import keras\n",
        "\n",
        "print(tf.__version__)\n",
        "print(sys.version_info)\n",
        "for module in mpl, np, pd, sklearn, tf, keras:\n",
        "    print(module.__name__, module.__version__)"
      ],
      "execution_count": 0,
      "outputs": [
        {
          "output_type": "stream",
          "text": [
            "2.0.0-alpha0\n",
            "sys.version_info(major=3, minor=6, micro=7, releaselevel='final', serial=0)\n",
            "matplotlib 3.0.3\n",
            "numpy 1.16.3\n",
            "pandas 0.24.2\n",
            "sklearn 0.21.1\n",
            "tensorflow 2.0.0-alpha0\n",
            "tensorflow.python.keras.api._v2.keras 2.2.4-tf\n"
          ],
          "name": "stdout"
        }
      ]
    },
    {
      "cell_type": "code",
      "metadata": {
        "id": "mD9guLXTk__z",
        "colab_type": "code",
        "outputId": "b1c468ef-d0c6-44a7-a682-2246a5a1620b",
        "colab": {
          "base_uri": "https://localhost:8080/",
          "height": 173
        }
      },
      "source": [
        "fashion_mnist = keras.datasets.fashion_mnist\n",
        "(x_train_all, y_train_all), (x_test, y_test) = fashion_mnist.load_data()"
      ],
      "execution_count": 0,
      "outputs": [
        {
          "output_type": "stream",
          "text": [
            "Downloading data from https://storage.googleapis.com/tensorflow/tf-keras-datasets/train-labels-idx1-ubyte.gz\n",
            "32768/29515 [=================================] - 0s 0us/step\n",
            "Downloading data from https://storage.googleapis.com/tensorflow/tf-keras-datasets/train-images-idx3-ubyte.gz\n",
            "26427392/26421880 [==============================] - 0s 0us/step\n",
            "Downloading data from https://storage.googleapis.com/tensorflow/tf-keras-datasets/t10k-labels-idx1-ubyte.gz\n",
            "8192/5148 [===============================================] - 0s 0us/step\n",
            "Downloading data from https://storage.googleapis.com/tensorflow/tf-keras-datasets/t10k-images-idx3-ubyte.gz\n",
            "4423680/4422102 [==============================] - 0s 0us/step\n"
          ],
          "name": "stdout"
        }
      ]
    },
    {
      "cell_type": "code",
      "metadata": {
        "id": "xFI2nQwOmb7H",
        "colab_type": "code",
        "outputId": "0edbe2d3-7c1f-44d5-8018-8e8e7458a7f0",
        "colab": {
          "base_uri": "https://localhost:8080/",
          "height": 68
        }
      },
      "source": [
        "x_valid, x_train = x_train_all[:5000], x_train_all[5000:]\n",
        "y_valid, y_train = y_train_all[:5000], y_train_all[5000:]\n",
        "\n",
        "print(x_valid.shape, y_valid.shape)\n",
        "print(x_train.shape, y_train.shape)\n",
        "print(x_test.shape, y_test.shape)"
      ],
      "execution_count": 0,
      "outputs": [
        {
          "output_type": "stream",
          "text": [
            "(5000, 28, 28) (5000,)\n",
            "(55000, 28, 28) (55000,)\n",
            "(10000, 28, 28) (10000,)\n"
          ],
          "name": "stdout"
        }
      ]
    },
    {
      "cell_type": "code",
      "metadata": {
        "id": "0zDeGIQlm1hs",
        "colab_type": "code",
        "outputId": "9ad0efab-c596-402e-a773-0fb2395ec417",
        "colab": {
          "base_uri": "https://localhost:8080/",
          "height": 269
        }
      },
      "source": [
        "def show_single_image(img_arr):\n",
        "    plt.imshow(img_arr, cmap=\"binary\")\n",
        "    plt.show()\n",
        "    \n",
        "show_single_image(x_train[0])"
      ],
      "execution_count": 0,
      "outputs": [
        {
          "output_type": "display_data",
          "data": {
            "image/png": "[encoded data removed]",
            "text/plain": [
              "<Figure size 432x288 with 1 Axes>"
            ]
          },
          "metadata": {
            "tags": []
          }
        }
      ]
    },
    {
      "cell_type": "code",
      "metadata": {
        "id": "LaOPEhzonIYH",
        "colab_type": "code",
        "colab": {}
      },
      "source": [
        "def show_imgs(n_rows, n_cols, x_data, y_data, class_names):\n",
        "    assert len(x_data) == len(y_data)\n",
        "    assert n_rows * n_cols < len(x_data)\n",
        "    plt.figure(figsize = (n_cols*1.4, n_rows*1.6))\n",
        "    for row in range(n_rows):\n",
        "        for col in range(n_cols):\n",
        "            index = n_cols * row + col\n",
        "            plt.subplot(n_rows, n_cols, index+1)\n",
        "            plt.imshow(x_data[index], cmap=\"binary\",\n",
        "                       interpolation = 'nearest')\n",
        "            plt.axis('off')\n",
        "            plt.title(class_names[y_data[index]])\n",
        "    plt.show()\n",
        "\n",
        "class_names = ['T-shirt', 'Trouser', 'Pullover', 'Dress',\n",
        "               'Coat', 'Sandal', 'Shirt', 'Sneaker',\n",
        "               'Bag', 'Ankle boot']\n"
      ],
      "execution_count": 0,
      "outputs": []
    },
    {
      "cell_type": "code",
      "metadata": {
        "id": "1WaTL_CJoHfp",
        "colab_type": "code",
        "outputId": "e7ca965d-11f4-4f04-dc2d-8610cdf64bb0",
        "colab": {
          "base_uri": "https://localhost:8080/",
          "height": 315
        }
      },
      "source": [
        "show_imgs(3, 5, x_train, y_train, class_names)"
      ],
      "execution_count": 0,
      "outputs": [
        {
          "output_type": "display_data",
          "data": {
            "image/png": "[encoded data removed]",
            "text/plain": [
              "<Figure size 504x345.6 with 15 Axes>"
            ]
          },
          "metadata": {
            "tags": []
          }
        }
      ]
    },
    {
      "cell_type": "code",
      "metadata": {
        "id": "0qo1dX2bon-7",
        "colab_type": "code",
        "colab": {}
      },
      "source": [
        "# tf.keras.models.Sequential()\n",
        "model = keras.models.Sequential()\n",
        "\n",
        "model.add(keras.layers.Flatten(input_shape = [28, 28]))\n",
        "model.add(keras.layers.Dense(300, activation='relu'))\n",
        "model.add(keras.layers.Dense(100, activation='relu'))\n",
        "model.add(keras.layers.Dense(10, activation='softmax'))\n",
        "\n",
        "# relu: y=max(0, x)\n",
        "# softmax: 将向量变为概率分布. x = [x1, x2, x3]\n",
        "#          y = [e^x1/sum, e^x2/sum, e^x3/sum]\n",
        "#          sum = e^x1 + e^x2 + e^x3\n",
        "\n",
        "# 第二种Sequential使用方式：\n",
        "# model = keras.model.Sequential([\n",
        "#     keras.layers.Flatten(input_shape = [28, 28]),\n",
        "#     keras.layers.Dense(300, activation='relu'),\n",
        "#     keras.layers.Dense(100, activation='relu'),\n",
        "#     keras.layers.Dense(10, activation='softmax')\n",
        "# ])\n",
        "\n",
        "\n",
        "# sparse的原因：因为y->index.\n",
        "model.compile(loss=\"sparse_categorical_crossentropy\",\n",
        "              optimizer = 'sgd',\n",
        "              metrics = ['accuracy'])\n"
      ],
      "execution_count": 0,
      "outputs": []
    },
    {
      "cell_type": "code",
      "metadata": {
        "id": "0O2TQDphq2sl",
        "colab_type": "code",
        "outputId": "b1987011-5dc8-4085-9266-5f79439f4796",
        "colab": {
          "base_uri": "https://localhost:8080/",
          "height": 85
        }
      },
      "source": [
        "model.layers"
      ],
      "execution_count": 0,
      "outputs": [
        {
          "output_type": "execute_result",
          "data": {
            "text/plain": [
              "[<tensorflow.python.keras.layers.core.Flatten at 0x7f26616faac8>,\n",
              " <tensorflow.python.keras.layers.core.Dense at 0x7f2673570fd0>,\n",
              " <tensorflow.python.keras.layers.core.Dense at 0x7f26798b6e10>,\n",
              " <tensorflow.python.keras.layers.core.Dense at 0x7f26798b6b00>]"
            ]
          },
          "metadata": {
            "tags": []
          },
          "execution_count": 17
        }
      ]
    },
    {
      "cell_type": "code",
      "metadata": {
        "id": "H-75QyOHq_iG",
        "colab_type": "code",
        "outputId": "d11643ba-856a-40c7-8e9b-f049bac33da5",
        "colab": {
          "base_uri": "https://localhost:8080/",
          "height": 289
        }
      },
      "source": [
        "model.summary()"
      ],
      "execution_count": 0,
      "outputs": [
        {
          "output_type": "stream",
          "text": [
            "Model: \"sequential\"\n",
            "_________________________________________________________________\n",
            "Layer (type)                 Output Shape              Param #   \n",
            "=================================================================\n",
            "flatten (Flatten)            (None, 784)               0         \n",
            "_________________________________________________________________\n",
            "dense (Dense)                (None, 300)               235500    \n",
            "_________________________________________________________________\n",
            "dense_1 (Dense)              (None, 100)               30100     \n",
            "_________________________________________________________________\n",
            "dense_2 (Dense)              (None, 10)                1010      \n",
            "=================================================================\n",
            "Total params: 266,610\n",
            "Trainable params: 266,610\n",
            "Non-trainable params: 0\n",
            "_________________________________________________________________\n"
          ],
          "name": "stdout"
        }
      ]
    },
    {
      "cell_type": "code",
      "metadata": {
        "id": "0JdT59XNrDXj",
        "colab_type": "code",
        "colab": {}
      },
      "source": [
        "# 第一层: [None, 784] * W + b -> [None, 300]\n",
        "# W.shape [784, 300], b.shape = [300, 1]"
      ],
      "execution_count": 0,
      "outputs": []
    },
    {
      "cell_type": "code",
      "metadata": {
        "id": "P9PM0CDOrV7j",
        "colab_type": "code",
        "outputId": "1f739f07-da80-495a-cbf6-272ba25c63ed",
        "colab": {
          "base_uri": "https://localhost:8080/",
          "height": 394
        }
      },
      "source": [
        "history = model.fit(x_train, y_train, epochs = 10,\n",
        "          validation_data = (x_valid, y_valid))"
      ],
      "execution_count": 0,
      "outputs": [
        {
          "output_type": "stream",
          "text": [
            "Train on 55000 samples, validate on 5000 samples\n",
            "Epoch 1/10\n",
            "55000/55000 [==============================] - 6s 107us/sample - loss: 3.6217 - accuracy: 0.6184 - val_loss: 0.8330 - val_accuracy: 0.7034\n",
            "Epoch 2/10\n",
            "55000/55000 [==============================] - 6s 101us/sample - loss: 0.7370 - accuracy: 0.7038 - val_loss: 0.7376 - val_accuracy: 0.7190\n",
            "Epoch 3/10\n",
            "55000/55000 [==============================] - 6s 102us/sample - loss: 0.6747 - accuracy: 0.7195 - val_loss: 0.6743 - val_accuracy: 0.7400\n",
            "Epoch 4/10\n",
            "55000/55000 [==============================] - 5s 100us/sample - loss: 0.6322 - accuracy: 0.7425 - val_loss: 0.6189 - val_accuracy: 0.7732\n",
            "Epoch 5/10\n",
            "55000/55000 [==============================] - 5s 100us/sample - loss: 0.5844 - accuracy: 0.7784 - val_loss: 0.5872 - val_accuracy: 0.7922\n",
            "Epoch 6/10\n",
            "55000/55000 [==============================] - 5s 99us/sample - loss: 0.5505 - accuracy: 0.7924 - val_loss: 0.5871 - val_accuracy: 0.7980\n",
            "Epoch 7/10\n",
            "55000/55000 [==============================] - 6s 100us/sample - loss: 0.5240 - accuracy: 0.8058 - val_loss: 0.5491 - val_accuracy: 0.8050\n",
            "Epoch 8/10\n",
            "55000/55000 [==============================] - 6s 110us/sample - loss: 0.5009 - accuracy: 0.8157 - val_loss: 0.5729 - val_accuracy: 0.8056\n",
            "Epoch 9/10\n",
            "55000/55000 [==============================] - 6s 106us/sample - loss: 0.4790 - accuracy: 0.8234 - val_loss: 0.5238 - val_accuracy: 0.8162\n",
            "Epoch 10/10\n",
            "55000/55000 [==============================] - 5s 98us/sample - loss: 0.4637 - accuracy: 0.8285 - val_loss: 0.5243 - val_accuracy: 0.8202\n"
          ],
          "name": "stdout"
        }
      ]
    },
    {
      "cell_type": "code",
      "metadata": {
        "id": "6MQVZe1trbpN",
        "colab_type": "code",
        "outputId": "3e8260ff-1494-42dd-b5e9-29ceaade1458",
        "colab": {
          "base_uri": "https://localhost:8080/",
          "height": 34
        }
      },
      "source": [
        "type(history)"
      ],
      "execution_count": 0,
      "outputs": [
        {
          "output_type": "execute_result",
          "data": {
            "text/plain": [
              "tensorflow.python.keras.callbacks.History"
            ]
          },
          "metadata": {
            "tags": []
          },
          "execution_count": 22
        }
      ]
    },
    {
      "cell_type": "code",
      "metadata": {
        "id": "qvxhCx6-rqJM",
        "colab_type": "code",
        "outputId": "3b47d901-c38c-46dd-a4be-24f871fa359a",
        "colab": {
          "base_uri": "https://localhost:8080/",
          "height": 697
        }
      },
      "source": [
        "history.history"
      ],
      "execution_count": 0,
      "outputs": [
        {
          "output_type": "execute_result",
          "data": {
            "text/plain": [
              "{'accuracy': [0.6184,\n",
              "  0.7038,\n",
              "  0.71952724,\n",
              "  0.7424727,\n",
              "  0.77836365,\n",
              "  0.79236364,\n",
              "  0.8058182,\n",
              "  0.81567276,\n",
              "  0.8234364,\n",
              "  0.8285091],\n",
              " 'loss': [3.6217354177128187,\n",
              "  0.737037527552518,\n",
              "  0.6747083189704202,\n",
              "  0.6321580974665555,\n",
              "  0.5844484705058011,\n",
              "  0.5504864022818479,\n",
              "  0.5239874147198417,\n",
              "  0.5009088442065499,\n",
              "  0.47904718188372525,\n",
              "  0.46369601648504083],\n",
              " 'val_accuracy': [0.7034,\n",
              "  0.719,\n",
              "  0.74,\n",
              "  0.7732,\n",
              "  0.7922,\n",
              "  0.798,\n",
              "  0.805,\n",
              "  0.8056,\n",
              "  0.8162,\n",
              "  0.8202],\n",
              " 'val_loss': [0.8329788307189941,\n",
              "  0.7376028469085694,\n",
              "  0.6742705291748047,\n",
              "  0.6188737306118012,\n",
              "  0.5871880910873413,\n",
              "  0.587092352104187,\n",
              "  0.5491470623016358,\n",
              "  0.572897251701355,\n",
              "  0.5237925946235656,\n",
              "  0.5243386300086975]}"
            ]
          },
          "metadata": {
            "tags": []
          },
          "execution_count": 23
        }
      ]
    },
    {
      "cell_type": "code",
      "metadata": {
        "id": "a6emmBwbrtwj",
        "colab_type": "code",
        "outputId": "8a807e19-eff6-4c04-ad0b-f1714c024408",
        "colab": {
          "base_uri": "https://localhost:8080/",
          "height": 324
        }
      },
      "source": [
        "def plot_learning_curves(history):\n",
        "    pd.DataFrame(history.history).plot(figsize=(8, 5))\n",
        "    plt.grid(True)\n",
        "    plt.gca().set_ylim(0, 1)\n",
        "    plt.show()\n",
        "    \n",
        "plot_learning_curves(history)"
      ],
      "execution_count": 0,
      "outputs": [
        {
          "output_type": "display_data",
          "data": {
            "image/png": "[encoded data removed]",
            "text/plain": [
              "<Figure size 576x360 with 1 Axes>"
            ]
          },
          "metadata": {
            "tags": []
          }
        }
      ]
    }
  ]
}