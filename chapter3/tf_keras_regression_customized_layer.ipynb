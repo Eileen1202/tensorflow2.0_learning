{
  "nbformat": 4,
  "nbformat_minor": 0,
  "metadata": {
    "colab": {
      "name": "tf_keras_regression_customized_layer.ipynb",
      "version": "0.3.2",
      "provenance": [],
      "include_colab_link": true
    },
    "kernelspec": {
      "name": "python3",
      "display_name": "Python 3"
    },
    "accelerator": "GPU"
  },
  "cells": [
    {
      "cell_type": "markdown",
      "metadata": {
        "id": "view-in-github",
        "colab_type": "text"
      },
      "source": [
        "<a href=\"https://colab.research.google.com/github/vvshyer/tensorflow2.0_learning/blob/master/tf_keras_regression_customized_layer.ipynb\" target=\"_parent\"><img src=\"https://colab.research.google.com/assets/colab-badge.svg\" alt=\"Open In Colab\"/></a>"
      ]
    },
    {
      "cell_type": "code",
      "metadata": {
        "id": "8ezK57pS6ZSF",
        "colab_type": "code",
        "outputId": "407c6783-ff3d-4709-ae26-6edb611321c3",
        "colab": {
          "base_uri": "https://localhost:8080/",
          "height": 173
        }
      },
      "source": [
        "import matplotlib as mpl\n",
        "import matplotlib.pyplot as plt\n",
        "%matplotlib inline\n",
        "import numpy as np\n",
        "import sklearn\n",
        "import pandas as pd\n",
        "import os\n",
        "import sys\n",
        "import time\n",
        "import tensorflow as tf\n",
        "\n",
        "from tensorflow import keras\n",
        "\n",
        "print(tf.__version__)\n",
        "print(sys.version_info)\n",
        "for module in mpl, np, pd, sklearn, tf, keras:\n",
        "    print(module.__name__, module.__version__)"
      ],
      "execution_count": 1,
      "outputs": [
        {
          "output_type": "stream",
          "text": [
            "2.0.0-alpha0\n",
            "sys.version_info(major=3, minor=6, micro=7, releaselevel='final', serial=0)\n",
            "matplotlib 3.0.3\n",
            "numpy 1.16.3\n",
            "pandas 0.24.2\n",
            "sklearn 0.21.2\n",
            "tensorflow 2.0.0-alpha0\n",
            "tensorflow.python.keras.api._v2.keras 2.2.4-tf\n"
          ],
          "name": "stdout"
        }
      ]
    },
    {
      "cell_type": "code",
      "metadata": {
        "id": "hd13Iimm6j7Q",
        "colab_type": "code",
        "outputId": "125ec2cf-6c84-4e5d-e2d7-46f2ff8cba75",
        "colab": {
          "base_uri": "https://localhost:8080/",
          "height": 768
        }
      },
      "source": [
        "from sklearn.datasets import fetch_california_housing\n",
        "\n",
        "housing = fetch_california_housing()\n",
        "print(housing.DESCR)\n",
        "print(housing.data.shape)\n",
        "print(housing.target.shape)"
      ],
      "execution_count": 2,
      "outputs": [
        {
          "output_type": "stream",
          "text": [
            ".. _california_housing_dataset:\n",
            "\n",
            "California Housing dataset\n",
            "--------------------------\n",
            "\n",
            "**Data Set Characteristics:**\n",
            "\n",
            "    :Number of Instances: 20640\n",
            "\n",
            "    :Number of Attributes: 8 numeric, predictive attributes and the target\n",
            "\n",
            "    :Attribute Information:\n",
            "        - MedInc        median income in block\n",
            "        - HouseAge      median house age in block\n",
            "        - AveRooms      average number of rooms\n",
            "        - AveBedrms     average number of bedrooms\n",
            "        - Population    block population\n",
            "        - AveOccup      average house occupancy\n",
            "        - Latitude      house block latitude\n",
            "        - Longitude     house block longitude\n",
            "\n",
            "    :Missing Attribute Values: None\n",
            "\n",
            "This dataset was obtained from the StatLib repository.\n",
            "http://lib.stat.cmu.edu/datasets/\n",
            "\n",
            "The target variable is the median house value for California districts.\n",
            "\n",
            "This dataset was derived from the 1990 U.S. census, using one row per census\n",
            "block group. A block group is the smallest geographical unit for which the U.S.\n",
            "Census Bureau publishes sample data (a block group typically has a population\n",
            "of 600 to 3,000 people).\n",
            "\n",
            "It can be downloaded/loaded using the\n",
            ":func:`sklearn.datasets.fetch_california_housing` function.\n",
            "\n",
            ".. topic:: References\n",
            "\n",
            "    - Pace, R. Kelley and Ronald Barry, Sparse Spatial Autoregressions,\n",
            "      Statistics and Probability Letters, 33 (1997) 291-297\n",
            "\n",
            "(20640, 8)\n",
            "(20640,)\n"
          ],
          "name": "stdout"
        }
      ]
    },
    {
      "cell_type": "code",
      "metadata": {
        "id": "sy2zeFXF7O6V",
        "colab_type": "code",
        "outputId": "83543280-bb51-48cb-ff47-90955d8b481b",
        "colab": {
          "base_uri": "https://localhost:8080/",
          "height": 68
        }
      },
      "source": [
        "from sklearn.model_selection import train_test_split\n",
        "\n",
        "# test_size默认为0.25\n",
        "x_train_all, x_test, y_train_all, y_test = train_test_split(\n",
        "    housing.data, housing.target, random_state = 7, test_size = 0.25)\n",
        "\n",
        "x_train, x_valid, y_train, y_valid = train_test_split(\n",
        "    x_train_all, y_train_all, random_state = 11)\n",
        "\n",
        "print(x_train.shape, y_train.shape)\n",
        "print(x_valid.shape, y_valid.shape)\n",
        "print(x_test.shape, y_test.shape)"
      ],
      "execution_count": 3,
      "outputs": [
        {
          "output_type": "stream",
          "text": [
            "(11610, 8) (11610,)\n",
            "(3870, 8) (3870,)\n",
            "(5160, 8) (5160,)\n"
          ],
          "name": "stdout"
        }
      ]
    },
    {
      "cell_type": "code",
      "metadata": {
        "id": "TvaW64pQ7418",
        "colab_type": "code",
        "colab": {}
      },
      "source": [
        "from sklearn.preprocessing import StandardScaler\n",
        "\n",
        "scaler = StandardScaler()\n",
        "x_train_scaled = scaler.fit_transform(x_train)\n",
        "x_valid_scaled = scaler.transform(x_valid)\n",
        "x_test_scaled = scaler.transform(x_test)"
      ],
      "execution_count": 0,
      "outputs": []
    },
    {
      "cell_type": "code",
      "metadata": {
        "id": "oGNhsZWrxVeV",
        "colab_type": "code",
        "colab": {
          "base_uri": "https://localhost:8080/",
          "height": 54
        },
        "outputId": "e0466f27-3ceb-4e6b-96f7-04d03146f25c"
      },
      "source": [
        "# tf.nn.softplus: log(1+e^x)\n",
        "customized_softplus = keras.layers.Lambda(lambda x: tf.nn.softplus(x))\n",
        "print(customized_softplus([-10., -5., 0., 5., 10.]))"
      ],
      "execution_count": 15,
      "outputs": [
        {
          "output_type": "stream",
          "text": [
            "tf.Tensor([4.5417706e-05 6.7153489e-03 6.9314718e-01 5.0067153e+00 1.0000046e+01], shape=(5,), dtype=float32)\n"
          ],
          "name": "stdout"
        }
      ]
    },
    {
      "cell_type": "code",
      "metadata": {
        "id": "7IkL0UAt8Qzo",
        "colab_type": "code",
        "outputId": "ae4ab44a-0e72-4889-e74d-dd67abc28a88",
        "colab": {
          "base_uri": "https://localhost:8080/",
          "height": 255
        }
      },
      "source": [
        "# customized dense layer\n",
        "class CustomizedDenseLayer(keras.layers.Layer):\n",
        "    def __init__(self, units, activation=None, **kwargs):\n",
        "        self.units = units\n",
        "        self.activation = keras.layers.Activation(activation)\n",
        "        super(CustomizedDenseLayer, self).__init__(**kwargs)\n",
        "        \n",
        "    def build(self, input_shape):\n",
        "        \"\"\"构建所需要的参数\"\"\"\n",
        "        self.kernel = self.add_weight(name = \"kernel\",\n",
        "                                      shape = (input_shape[1], self.units),\n",
        "                                      initializer = 'uniform',\n",
        "                                      trainable = True)\n",
        "        self.bias = self.add_weight(name = \"bias\",\n",
        "                                    shape = (self.units,),\n",
        "                                    initializer = 'zeros',\n",
        "                                    trainable = True)\n",
        "        super(CustomizedDenseLayer, self).build(input_shape)\n",
        "    \n",
        "    def call(self, x):\n",
        "        return self.activation(x @ self.kernel + self.bias)\n",
        "\n",
        "model = keras.models.Sequential([\n",
        "    CustomizedDenseLayer(30, activation='relu',\n",
        "                       input_shape=x_train.shape[1:]),\n",
        "    CustomizedDenseLayer(1),\n",
        "    customized_softplus,\n",
        "    # keras.layers.Dense(1, activation=\"softplus\"),\n",
        "    # keras.layers.Dense(1), keras.layers.Activation(\"softplus\"),\n",
        "])\n",
        "model.summary()\n",
        "model.compile(loss=\"mean_squared_error\", optimizer = \"sgd\")\n",
        "callbacks = [keras.callbacks.EarlyStopping(patience=5, min_delta=1e-3)]"
      ],
      "execution_count": 16,
      "outputs": [
        {
          "output_type": "stream",
          "text": [
            "Model: \"sequential_2\"\n",
            "_________________________________________________________________\n",
            "Layer (type)                 Output Shape              Param #   \n",
            "=================================================================\n",
            "customized_dense_layer_4 (Cu (None, 30)                270       \n",
            "_________________________________________________________________\n",
            "customized_dense_layer_5 (Cu (None, 1)                 31        \n",
            "_________________________________________________________________\n",
            "lambda (Lambda)              (None, 1)                 0         \n",
            "=================================================================\n",
            "Total params: 301\n",
            "Trainable params: 301\n",
            "Non-trainable params: 0\n",
            "_________________________________________________________________\n"
          ],
          "name": "stdout"
        }
      ]
    },
    {
      "cell_type": "code",
      "metadata": {
        "id": "P3g9RQd287SJ",
        "colab_type": "code",
        "outputId": "9f92a667-0e51-4e66-b7f6-1200c2cd3023",
        "colab": {
          "base_uri": "https://localhost:8080/",
          "height": 3454
        }
      },
      "source": [
        "history = model.fit(x_train_scaled, y_train,\n",
        "                   validation_data = (x_valid_scaled, y_valid),\n",
        "                   epochs = 100,\n",
        "                   callbacks = callbacks)"
      ],
      "execution_count": 17,
      "outputs": [
        {
          "output_type": "stream",
          "text": [
            "Train on 11610 samples, validate on 3870 samples\n",
            "Epoch 1/100\n",
            "11610/11610 [==============================] - 1s 47us/sample - loss: 2.7886 - val_loss: 2.5886\n",
            "Epoch 2/100\n",
            "11610/11610 [==============================] - 0s 37us/sample - loss: 2.0985 - val_loss: 1.9169\n",
            "Epoch 3/100\n",
            "11610/11610 [==============================] - 0s 38us/sample - loss: 1.5352 - val_loss: 1.3846\n",
            "Epoch 4/100\n",
            "11610/11610 [==============================] - 0s 37us/sample - loss: 1.1036 - val_loss: 0.9833\n",
            "Epoch 5/100\n",
            "11610/11610 [==============================] - 0s 37us/sample - loss: 0.8304 - val_loss: 0.7897\n",
            "Epoch 6/100\n",
            "11610/11610 [==============================] - 0s 34us/sample - loss: 0.7216 - val_loss: 0.7299\n",
            "Epoch 7/100\n",
            "11610/11610 [==============================] - 0s 33us/sample - loss: 0.6819 - val_loss: 0.7056\n",
            "Epoch 8/100\n",
            "11610/11610 [==============================] - 0s 33us/sample - loss: 0.6606 - val_loss: 0.6902\n",
            "Epoch 9/100\n",
            "11610/11610 [==============================] - 0s 34us/sample - loss: 0.6454 - val_loss: 0.6783\n",
            "Epoch 10/100\n",
            "11610/11610 [==============================] - 0s 33us/sample - loss: 0.6331 - val_loss: 0.6676\n",
            "Epoch 11/100\n",
            "11610/11610 [==============================] - 0s 33us/sample - loss: 0.6223 - val_loss: 0.6578\n",
            "Epoch 12/100\n",
            "11610/11610 [==============================] - 0s 32us/sample - loss: 0.6123 - val_loss: 0.6484\n",
            "Epoch 13/100\n",
            "11610/11610 [==============================] - 0s 35us/sample - loss: 0.6030 - val_loss: 0.6392\n",
            "Epoch 14/100\n",
            "11610/11610 [==============================] - 0s 34us/sample - loss: 0.5940 - val_loss: 0.6300\n",
            "Epoch 15/100\n",
            "11610/11610 [==============================] - 0s 39us/sample - loss: 0.5853 - val_loss: 0.6210\n",
            "Epoch 16/100\n",
            "11610/11610 [==============================] - 0s 43us/sample - loss: 0.5770 - val_loss: 0.6122\n",
            "Epoch 17/100\n",
            "11610/11610 [==============================] - 0s 42us/sample - loss: 0.5688 - val_loss: 0.6036\n",
            "Epoch 18/100\n",
            "11610/11610 [==============================] - 0s 43us/sample - loss: 0.5609 - val_loss: 0.5952\n",
            "Epoch 19/100\n",
            "11610/11610 [==============================] - 0s 42us/sample - loss: 0.5532 - val_loss: 0.5872\n",
            "Epoch 20/100\n",
            "11610/11610 [==============================] - 0s 43us/sample - loss: 0.5458 - val_loss: 0.5792\n",
            "Epoch 21/100\n",
            "11610/11610 [==============================] - 0s 43us/sample - loss: 0.5386 - val_loss: 0.5713\n",
            "Epoch 22/100\n",
            "11610/11610 [==============================] - 0s 43us/sample - loss: 0.5319 - val_loss: 0.5637\n",
            "Epoch 23/100\n",
            "11610/11610 [==============================] - 0s 42us/sample - loss: 0.5253 - val_loss: 0.5565\n",
            "Epoch 24/100\n",
            "11610/11610 [==============================] - 0s 42us/sample - loss: 0.5192 - val_loss: 0.5501\n",
            "Epoch 25/100\n",
            "11610/11610 [==============================] - 0s 42us/sample - loss: 0.5134 - val_loss: 0.5437\n",
            "Epoch 26/100\n",
            "11610/11610 [==============================] - 0s 43us/sample - loss: 0.5078 - val_loss: 0.5374\n",
            "Epoch 27/100\n",
            "11610/11610 [==============================] - 0s 42us/sample - loss: 0.5027 - val_loss: 0.5315\n",
            "Epoch 28/100\n",
            "11610/11610 [==============================] - 0s 42us/sample - loss: 0.4978 - val_loss: 0.5259\n",
            "Epoch 29/100\n",
            "11610/11610 [==============================] - 0s 42us/sample - loss: 0.4933 - val_loss: 0.5211\n",
            "Epoch 30/100\n",
            "11610/11610 [==============================] - 0s 42us/sample - loss: 0.4889 - val_loss: 0.5166\n",
            "Epoch 31/100\n",
            "11610/11610 [==============================] - 0s 42us/sample - loss: 0.4849 - val_loss: 0.5120\n",
            "Epoch 32/100\n",
            "11610/11610 [==============================] - 0s 43us/sample - loss: 0.4811 - val_loss: 0.5079\n",
            "Epoch 33/100\n",
            "11610/11610 [==============================] - 0s 41us/sample - loss: 0.4776 - val_loss: 0.5039\n",
            "Epoch 34/100\n",
            "11610/11610 [==============================] - 0s 42us/sample - loss: 0.4744 - val_loss: 0.5004\n",
            "Epoch 35/100\n",
            "11610/11610 [==============================] - 0s 41us/sample - loss: 0.4716 - val_loss: 0.4971\n",
            "Epoch 36/100\n",
            "11610/11610 [==============================] - 0s 33us/sample - loss: 0.4687 - val_loss: 0.4939\n",
            "Epoch 37/100\n",
            "11610/11610 [==============================] - 0s 33us/sample - loss: 0.4661 - val_loss: 0.4911\n",
            "Epoch 38/100\n",
            "11610/11610 [==============================] - 0s 32us/sample - loss: 0.4637 - val_loss: 0.4883\n",
            "Epoch 39/100\n",
            "11610/11610 [==============================] - 0s 34us/sample - loss: 0.4614 - val_loss: 0.4850\n",
            "Epoch 40/100\n",
            "11610/11610 [==============================] - 0s 33us/sample - loss: 0.4592 - val_loss: 0.4831\n",
            "Epoch 41/100\n",
            "11610/11610 [==============================] - 0s 32us/sample - loss: 0.4574 - val_loss: 0.4805\n",
            "Epoch 42/100\n",
            "11610/11610 [==============================] - 0s 33us/sample - loss: 0.4554 - val_loss: 0.4782\n",
            "Epoch 43/100\n",
            "11610/11610 [==============================] - 0s 32us/sample - loss: 0.4536 - val_loss: 0.4760\n",
            "Epoch 44/100\n",
            "11610/11610 [==============================] - 0s 32us/sample - loss: 0.4520 - val_loss: 0.4742\n",
            "Epoch 45/100\n",
            "11610/11610 [==============================] - 0s 34us/sample - loss: 0.4501 - val_loss: 0.4720\n",
            "Epoch 46/100\n",
            "11610/11610 [==============================] - 0s 34us/sample - loss: 0.4489 - val_loss: 0.4708\n",
            "Epoch 47/100\n",
            "11610/11610 [==============================] - 0s 33us/sample - loss: 0.4472 - val_loss: 0.4687\n",
            "Epoch 48/100\n",
            "11610/11610 [==============================] - 0s 34us/sample - loss: 0.4459 - val_loss: 0.4667\n",
            "Epoch 49/100\n",
            "11610/11610 [==============================] - 0s 32us/sample - loss: 0.4444 - val_loss: 0.4649\n",
            "Epoch 50/100\n",
            "11610/11610 [==============================] - 0s 33us/sample - loss: 0.4430 - val_loss: 0.4631\n",
            "Epoch 51/100\n",
            "11610/11610 [==============================] - 0s 33us/sample - loss: 0.4420 - val_loss: 0.4628\n",
            "Epoch 52/100\n",
            "11610/11610 [==============================] - 0s 32us/sample - loss: 0.4406 - val_loss: 0.4602\n",
            "Epoch 53/100\n",
            "11610/11610 [==============================] - 0s 34us/sample - loss: 0.4393 - val_loss: 0.4596\n",
            "Epoch 54/100\n",
            "11610/11610 [==============================] - 0s 33us/sample - loss: 0.4377 - val_loss: 0.4572\n",
            "Epoch 55/100\n",
            "11610/11610 [==============================] - 0s 34us/sample - loss: 0.4367 - val_loss: 0.4552\n",
            "Epoch 56/100\n",
            "11610/11610 [==============================] - 0s 33us/sample - loss: 0.4361 - val_loss: 0.4550\n",
            "Epoch 57/100\n",
            "11610/11610 [==============================] - 0s 32us/sample - loss: 0.4344 - val_loss: 0.4532\n",
            "Epoch 58/100\n",
            "11610/11610 [==============================] - 0s 34us/sample - loss: 0.4338 - val_loss: 0.4528\n",
            "Epoch 59/100\n",
            "11610/11610 [==============================] - 0s 33us/sample - loss: 0.4322 - val_loss: 0.4513\n",
            "Epoch 60/100\n",
            "11610/11610 [==============================] - 0s 32us/sample - loss: 0.4314 - val_loss: 0.4504\n",
            "Epoch 61/100\n",
            "11610/11610 [==============================] - 0s 34us/sample - loss: 0.4302 - val_loss: 0.4481\n",
            "Epoch 62/100\n",
            "11610/11610 [==============================] - 0s 33us/sample - loss: 0.4291 - val_loss: 0.4476\n",
            "Epoch 63/100\n",
            "11610/11610 [==============================] - 0s 33us/sample - loss: 0.4284 - val_loss: 0.4462\n",
            "Epoch 64/100\n",
            "11610/11610 [==============================] - 0s 33us/sample - loss: 0.4271 - val_loss: 0.4445\n",
            "Epoch 65/100\n",
            "11610/11610 [==============================] - 0s 33us/sample - loss: 0.4265 - val_loss: 0.4454\n",
            "Epoch 66/100\n",
            "11610/11610 [==============================] - 0s 33us/sample - loss: 0.4252 - val_loss: 0.4425\n",
            "Epoch 67/100\n",
            "11610/11610 [==============================] - 0s 33us/sample - loss: 0.4245 - val_loss: 0.4415\n",
            "Epoch 68/100\n",
            "11610/11610 [==============================] - 0s 33us/sample - loss: 0.4236 - val_loss: 0.4414\n",
            "Epoch 69/100\n",
            "11610/11610 [==============================] - 0s 33us/sample - loss: 0.4228 - val_loss: 0.4397\n",
            "Epoch 70/100\n",
            "11610/11610 [==============================] - 0s 33us/sample - loss: 0.4218 - val_loss: 0.4390\n",
            "Epoch 71/100\n",
            "11610/11610 [==============================] - 0s 33us/sample - loss: 0.4209 - val_loss: 0.4374\n",
            "Epoch 72/100\n",
            "11610/11610 [==============================] - 0s 33us/sample - loss: 0.4200 - val_loss: 0.4365\n",
            "Epoch 73/100\n",
            "11610/11610 [==============================] - 0s 34us/sample - loss: 0.4195 - val_loss: 0.4360\n",
            "Epoch 74/100\n",
            "11610/11610 [==============================] - 0s 34us/sample - loss: 0.4183 - val_loss: 0.4345\n",
            "Epoch 75/100\n",
            "11610/11610 [==============================] - 0s 33us/sample - loss: 0.4178 - val_loss: 0.4337\n",
            "Epoch 76/100\n",
            "11610/11610 [==============================] - 0s 34us/sample - loss: 0.4171 - val_loss: 0.4328\n",
            "Epoch 77/100\n",
            "11610/11610 [==============================] - 0s 34us/sample - loss: 0.4160 - val_loss: 0.4319\n",
            "Epoch 78/100\n",
            "11610/11610 [==============================] - 0s 33us/sample - loss: 0.4155 - val_loss: 0.4317\n",
            "Epoch 79/100\n",
            "11610/11610 [==============================] - 0s 33us/sample - loss: 0.4147 - val_loss: 0.4301\n",
            "Epoch 80/100\n",
            "11610/11610 [==============================] - 0s 33us/sample - loss: 0.4138 - val_loss: 0.4304\n",
            "Epoch 81/100\n",
            "11610/11610 [==============================] - 0s 32us/sample - loss: 0.4132 - val_loss: 0.4285\n",
            "Epoch 82/100\n",
            "11610/11610 [==============================] - 0s 33us/sample - loss: 0.4125 - val_loss: 0.4282\n",
            "Epoch 83/100\n",
            "11610/11610 [==============================] - 0s 33us/sample - loss: 0.4116 - val_loss: 0.4288\n",
            "Epoch 84/100\n",
            "11610/11610 [==============================] - 0s 33us/sample - loss: 0.4110 - val_loss: 0.4263\n",
            "Epoch 85/100\n",
            "11610/11610 [==============================] - 0s 34us/sample - loss: 0.4104 - val_loss: 0.4254\n",
            "Epoch 86/100\n",
            "11610/11610 [==============================] - 0s 33us/sample - loss: 0.4097 - val_loss: 0.4254\n",
            "Epoch 87/100\n",
            "11610/11610 [==============================] - 0s 33us/sample - loss: 0.4089 - val_loss: 0.4235\n",
            "Epoch 88/100\n",
            "11610/11610 [==============================] - 0s 33us/sample - loss: 0.4085 - val_loss: 0.4234\n",
            "Epoch 89/100\n",
            "11610/11610 [==============================] - 0s 33us/sample - loss: 0.4077 - val_loss: 0.4229\n",
            "Epoch 90/100\n",
            "11610/11610 [==============================] - 0s 34us/sample - loss: 0.4071 - val_loss: 0.4216\n",
            "Epoch 91/100\n",
            "11610/11610 [==============================] - 0s 32us/sample - loss: 0.4063 - val_loss: 0.4205\n",
            "Epoch 92/100\n",
            "11610/11610 [==============================] - 0s 33us/sample - loss: 0.4061 - val_loss: 0.4203\n",
            "Epoch 93/100\n",
            "11610/11610 [==============================] - 0s 33us/sample - loss: 0.4052 - val_loss: 0.4195\n",
            "Epoch 94/100\n",
            "11610/11610 [==============================] - 0s 34us/sample - loss: 0.4046 - val_loss: 0.4195\n",
            "Epoch 95/100\n",
            "11610/11610 [==============================] - 0s 34us/sample - loss: 0.4039 - val_loss: 0.4194\n",
            "Epoch 96/100\n",
            "11610/11610 [==============================] - 0s 33us/sample - loss: 0.4034 - val_loss: 0.4178\n",
            "Epoch 97/100\n",
            "11610/11610 [==============================] - 0s 33us/sample - loss: 0.4027 - val_loss: 0.4165\n",
            "Epoch 98/100\n",
            "11610/11610 [==============================] - 0s 34us/sample - loss: 0.4022 - val_loss: 0.4167\n",
            "Epoch 99/100\n",
            "11610/11610 [==============================] - 0s 33us/sample - loss: 0.4014 - val_loss: 0.4144\n",
            "Epoch 100/100\n",
            "11610/11610 [==============================] - 0s 33us/sample - loss: 0.4008 - val_loss: 0.4143\n"
          ],
          "name": "stdout"
        }
      ]
    },
    {
      "cell_type": "code",
      "metadata": {
        "id": "QMlYp_ol9Qmz",
        "colab_type": "code",
        "outputId": "f0dbdc7a-303b-4ca0-e4ee-4fccd884eb36",
        "colab": {
          "base_uri": "https://localhost:8080/",
          "height": 324
        }
      },
      "source": [
        "def plot_learning_curves(history):\n",
        "    pd.DataFrame(history.history).plot(figsize=(8,5))\n",
        "    plt.grid(True)\n",
        "    plt.gca().set_ylim(0,1)\n",
        "    plt.show()\n",
        "\n",
        "plot_learning_curves(history)"
      ],
      "execution_count": 18,
      "outputs": [
        {
          "output_type": "display_data",
          "data": {
            "image/png": "[encoded data removed]",
            "text/plain": [
              "<Figure size 576x360 with 1 Axes>"
            ]
          },
          "metadata": {
            "tags": []
          }
        }
      ]
    },
    {
      "cell_type": "code",
      "metadata": {
        "id": "hP7LY8Sa9iX4",
        "colab_type": "code",
        "outputId": "c2191eca-d6d6-4c74-8d38-acd32031de38",
        "colab": {
          "base_uri": "https://localhost:8080/",
          "height": 71
        }
      },
      "source": [
        "model.evaluate(x_test_scaled, y_test)"
      ],
      "execution_count": 19,
      "outputs": [
        {
          "output_type": "stream",
          "text": [
            "5160/5160 [==============================] - 0s 18us/sample - loss: 0.4167\n"
          ],
          "name": "stdout"
        },
        {
          "output_type": "execute_result",
          "data": {
            "text/plain": [
              "0.4167179967081824"
            ]
          },
          "metadata": {
            "tags": []
          },
          "execution_count": 19
        }
      ]
    },
    {
      "cell_type": "code",
      "metadata": {
        "id": "qsIxnZqD9o3P",
        "colab_type": "code",
        "colab": {}
      },
      "source": [
        ""
      ],
      "execution_count": 0,
      "outputs": []
    }
  ]
}