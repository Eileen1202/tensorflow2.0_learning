{
  "nbformat": 4,
  "nbformat_minor": 0,
  "metadata": {
    "colab": {
      "name": "tf_keras_regression_manu_diffs.ipynb",
      "version": "0.3.2",
      "provenance": [],
      "include_colab_link": true
    },
    "kernelspec": {
      "name": "python3",
      "display_name": "Python 3"
    },
    "accelerator": "GPU"
  },
  "cells": [
    {
      "cell_type": "markdown",
      "metadata": {
        "id": "view-in-github",
        "colab_type": "text"
      },
      "source": [
        "<a href=\"https://colab.research.google.com/github/vvshyer/tensorflow2.0_learning/blob/master/tf_keras_regression_manu_diffs.ipynb\" target=\"_parent\"><img src=\"https://colab.research.google.com/assets/colab-badge.svg\" alt=\"Open In Colab\"/></a>"
      ]
    },
    {
      "cell_type": "code",
      "metadata": {
        "id": "8ezK57pS6ZSF",
        "colab_type": "code",
        "outputId": "2007e2a1-19ba-4a4f-d78f-a24b7d549b1e",
        "colab": {
          "base_uri": "https://localhost:8080/",
          "height": 173
        }
      },
      "source": [
        "import matplotlib as mpl\n",
        "import matplotlib.pyplot as plt\n",
        "%matplotlib inline\n",
        "import numpy as np\n",
        "import sklearn\n",
        "import pandas as pd\n",
        "import os\n",
        "import sys\n",
        "import time\n",
        "import tensorflow as tf\n",
        "\n",
        "from tensorflow import keras\n",
        "\n",
        "print(tf.__version__)\n",
        "print(sys.version_info)\n",
        "for module in mpl, np, pd, sklearn, tf, keras:\n",
        "    print(module.__name__, module.__version__)"
      ],
      "execution_count": 1,
      "outputs": [
        {
          "output_type": "stream",
          "text": [
            "2.0.0-alpha0\n",
            "sys.version_info(major=3, minor=6, micro=7, releaselevel='final', serial=0)\n",
            "matplotlib 3.0.3\n",
            "numpy 1.16.3\n",
            "pandas 0.24.2\n",
            "sklearn 0.21.2\n",
            "tensorflow 2.0.0-alpha0\n",
            "tensorflow.python.keras.api._v2.keras 2.2.4-tf\n"
          ],
          "name": "stdout"
        }
      ]
    },
    {
      "cell_type": "code",
      "metadata": {
        "id": "hd13Iimm6j7Q",
        "colab_type": "code",
        "outputId": "5531eb63-f007-474a-d1cf-3afeff058e36",
        "colab": {
          "base_uri": "https://localhost:8080/",
          "height": 768
        }
      },
      "source": [
        "from sklearn.datasets import fetch_california_housing\n",
        "\n",
        "housing = fetch_california_housing()\n",
        "print(housing.DESCR)\n",
        "print(housing.data.shape)\n",
        "print(housing.target.shape)"
      ],
      "execution_count": 2,
      "outputs": [
        {
          "output_type": "stream",
          "text": [
            ".. _california_housing_dataset:\n",
            "\n",
            "California Housing dataset\n",
            "--------------------------\n",
            "\n",
            "**Data Set Characteristics:**\n",
            "\n",
            "    :Number of Instances: 20640\n",
            "\n",
            "    :Number of Attributes: 8 numeric, predictive attributes and the target\n",
            "\n",
            "    :Attribute Information:\n",
            "        - MedInc        median income in block\n",
            "        - HouseAge      median house age in block\n",
            "        - AveRooms      average number of rooms\n",
            "        - AveBedrms     average number of bedrooms\n",
            "        - Population    block population\n",
            "        - AveOccup      average house occupancy\n",
            "        - Latitude      house block latitude\n",
            "        - Longitude     house block longitude\n",
            "\n",
            "    :Missing Attribute Values: None\n",
            "\n",
            "This dataset was obtained from the StatLib repository.\n",
            "http://lib.stat.cmu.edu/datasets/\n",
            "\n",
            "The target variable is the median house value for California districts.\n",
            "\n",
            "This dataset was derived from the 1990 U.S. census, using one row per census\n",
            "block group. A block group is the smallest geographical unit for which the U.S.\n",
            "Census Bureau publishes sample data (a block group typically has a population\n",
            "of 600 to 3,000 people).\n",
            "\n",
            "It can be downloaded/loaded using the\n",
            ":func:`sklearn.datasets.fetch_california_housing` function.\n",
            "\n",
            ".. topic:: References\n",
            "\n",
            "    - Pace, R. Kelley and Ronald Barry, Sparse Spatial Autoregressions,\n",
            "      Statistics and Probability Letters, 33 (1997) 291-297\n",
            "\n",
            "(20640, 8)\n",
            "(20640,)\n"
          ],
          "name": "stdout"
        }
      ]
    },
    {
      "cell_type": "code",
      "metadata": {
        "id": "sy2zeFXF7O6V",
        "colab_type": "code",
        "outputId": "823cf7ef-0423-4b03-be4c-2689a2cc52a9",
        "colab": {
          "base_uri": "https://localhost:8080/",
          "height": 68
        }
      },
      "source": [
        "from sklearn.model_selection import train_test_split\n",
        "\n",
        "# test_size默认为0.25\n",
        "x_train_all, x_test, y_train_all, y_test = train_test_split(\n",
        "    housing.data, housing.target, random_state = 7, test_size = 0.25)\n",
        "\n",
        "x_train, x_valid, y_train, y_valid = train_test_split(\n",
        "    x_train_all, y_train_all, random_state = 11)\n",
        "\n",
        "print(x_train.shape, y_train.shape)\n",
        "print(x_valid.shape, y_valid.shape)\n",
        "print(x_test.shape, y_test.shape)"
      ],
      "execution_count": 3,
      "outputs": [
        {
          "output_type": "stream",
          "text": [
            "(11610, 8) (11610,)\n",
            "(3870, 8) (3870,)\n",
            "(5160, 8) (5160,)\n"
          ],
          "name": "stdout"
        }
      ]
    },
    {
      "cell_type": "code",
      "metadata": {
        "id": "TvaW64pQ7418",
        "colab_type": "code",
        "colab": {}
      },
      "source": [
        "from sklearn.preprocessing import StandardScaler\n",
        "\n",
        "scaler = StandardScaler()\n",
        "x_train_scaled = scaler.fit_transform(x_train)\n",
        "x_valid_scaled = scaler.transform(x_valid)\n",
        "x_test_scaled = scaler.transform(x_test)"
      ],
      "execution_count": 0,
      "outputs": []
    },
    {
      "cell_type": "code",
      "metadata": {
        "id": "01ktqcWh_rpo",
        "colab_type": "code",
        "colab": {
          "base_uri": "https://localhost:8080/",
          "height": 85
        },
        "outputId": "1e65574c-2962-4ebe-fa4e-58afb3c11f6b"
      },
      "source": [
        "# metric使用\n",
        "metric = keras.metrics.MeanSquaredError()\n",
        "print(metric([5.], [2.]))\n",
        "print(metric([0.], [1.]))\n",
        "print(metric.result())\n",
        "\n",
        "metric.reset_states()\n",
        "metric([1.], [3.])\n",
        "print(metric.result())"
      ],
      "execution_count": 8,
      "outputs": [
        {
          "output_type": "stream",
          "text": [
            "tf.Tensor(9.0, shape=(), dtype=float32)\n",
            "tf.Tensor(5.0, shape=(), dtype=float32)\n",
            "tf.Tensor(5.0, shape=(), dtype=float32)\n",
            "tf.Tensor(4.0, shape=(), dtype=float32)\n"
          ],
          "name": "stdout"
        }
      ]
    },
    {
      "cell_type": "code",
      "metadata": {
        "id": "7IkL0UAt8Qzo",
        "colab_type": "code",
        "outputId": "6b6efdcc-e9fc-4914-ff92-8ffb1087c8aa",
        "colab": {
          "base_uri": "https://localhost:8080/",
          "height": 1717
        }
      },
      "source": [
        "epochs = 100\n",
        "batch_size = 32\n",
        "steps_per_epoch = len(x_train_scaled) // batch_size\n",
        "optimizer = keras.optimizers.SGD()\n",
        "metric = keras.metrics.MeanSquaredError()\n",
        "\n",
        "def random_batch(x,y, batch_size=32):\n",
        "    idx = np.random.randint(0, len(x), size=batch_size)\n",
        "    return x[idx], y[idx]\n",
        "\n",
        "model = keras.models.Sequential([\n",
        "    keras.layers.Dense(30, activation='relu',\n",
        "                       input_shape=x_train.shape[1:]),\n",
        "    keras.layers.Dense(1),\n",
        "])\n",
        "\n",
        "for epoch in range(epochs):\n",
        "    metric.reset_states()\n",
        "    for step in range(steps_per_epoch):\n",
        "        x_batch, y_batch = random_batch(x_train_scaled, y_train, batch_size)\n",
        "        with tf.GradientTape() as tape:\n",
        "            y_pred = model(x_batch)\n",
        "            loss = tf.reduce_mean(\n",
        "                    keras.losses.mean_squared_error(y_batch, y_pred))\n",
        "            metric(y_batch, y_pred)\n",
        "        grads = tape.gradient(loss, model.variables)\n",
        "        grads_and_vars = zip(grads, model.variables)\n",
        "        optimizer.apply_gradients(grads_and_vars)\n",
        "        print(\"\\rEpoch\", epoch, \"train mse:\",\n",
        "              metric.result().numpy(), end=\"\")\n",
        "    y_valid_pred = model(x_valid_scaled)\n",
        "    valid_loss = tf.reduce_mean(\n",
        "                keras.losses.mean_squared_error(y_valid_pred, y_valid))\n",
        "    print(\"\\t\", \"valid mse: \", valid_loss.numpy())"
      ],
      "execution_count": 9,
      "outputs": [
        {
          "output_type": "stream",
          "text": [
            "Epoch 0 train mse: 2.247279\t valid mse:  1.7011961531516882\n",
            "Epoch 1 train mse: 1.3384527\t valid mse:  1.5404234019894822\n",
            "Epoch 2 train mse: 1.3313824\t valid mse:  1.5016952284020104\n",
            "Epoch 3 train mse: 1.3383665\t valid mse:  1.4807081192618654\n",
            "Epoch 4 train mse: 1.3063377\t valid mse:  1.4654895720341874\n",
            "Epoch 5 train mse: 1.3262293\t valid mse:  1.4550655081925015\n",
            "Epoch 6 train mse: 1.3175818\t valid mse:  1.447584071549841\n",
            "Epoch 7 train mse: 1.3047773\t valid mse:  1.4388451259813955\n",
            "Epoch 8 train mse: 1.2778804\t valid mse:  1.4330746454479528\n",
            "Epoch 9 train mse: 1.3117801\t valid mse:  1.4300118088301632\n",
            "Epoch 10 train mse: 1.2682518\t valid mse:  1.4263759155192959\n",
            "Epoch 11 train mse: 1.2962025\t valid mse:  1.4200810215021462\n",
            "Epoch 12 train mse: 1.2844954\t valid mse:  1.4171759208653967\n",
            "Epoch 13 train mse: 1.29357\t valid mse:  1.4134596350220454\n",
            "Epoch 14 train mse: 1.2524283\t valid mse:  1.4121645322954532\n",
            "Epoch 15 train mse: 1.3006049\t valid mse:  1.4089728322898902\n",
            "Epoch 16 train mse: 1.2736804\t valid mse:  1.408622604489505\n",
            "Epoch 17 train mse: 1.2724977\t valid mse:  1.4061814402138004\n",
            "Epoch 18 train mse: 1.2545333\t valid mse:  1.4069171374933247\n",
            "Epoch 19 train mse: 1.2799325\t valid mse:  1.4028636003521093\n",
            "Epoch 20 train mse: 1.262557\t valid mse:  1.401660974877301\n",
            "Epoch 21 train mse: 1.2658902\t valid mse:  1.4002163800768874\n",
            "Epoch 22 train mse: 1.2366625\t valid mse:  1.4001811002294091\n",
            "Epoch 23 train mse: 1.2517478\t valid mse:  1.3980884714597834\n",
            "Epoch 24 train mse: 1.2623328\t valid mse:  1.3966902012095805\n",
            "Epoch 25 train mse: 1.2779425\t valid mse:  1.3963386261648034\n",
            "Epoch 26 train mse: 1.2663963\t valid mse:  1.3949233810947128\n",
            "Epoch 27 train mse: 1.2724041\t valid mse:  1.3949591164848913\n",
            "Epoch 28 train mse: 1.2733715\t valid mse:  1.3946458149034813\n",
            "Epoch 29 train mse: 1.2880665\t valid mse:  1.3935786787538336\n",
            "Epoch 30 train mse: 1.2604502\t valid mse:  1.3929269399823934\n",
            "Epoch 31 train mse: 1.2807313\t valid mse:  1.3917176714221826\n",
            "Epoch 32 train mse: 1.2412444\t valid mse:  1.392066842107821\n",
            "Epoch 33 train mse: 1.2686872\t valid mse:  1.3908263613184706\n",
            "Epoch 34 train mse: 1.2346373\t valid mse:  1.3919038258360223\n",
            "Epoch 35 train mse: 1.2850343\t valid mse:  1.3907981352599286\n",
            "Epoch 36 train mse: 1.2546595\t valid mse:  1.390825503794515\n",
            "Epoch 37 train mse: 1.2947541\t valid mse:  1.390861333692974\n",
            "Epoch 38 train mse: 1.2719165\t valid mse:  1.3892013281280304\n",
            "Epoch 39 train mse: 1.261936\t valid mse:  1.3890706684542007\n",
            "Epoch 40 train mse: 1.2431258\t valid mse:  1.3890302059164787\n",
            "Epoch 41 train mse: 1.2301084\t valid mse:  1.3928335843355046\n",
            "Epoch 42 train mse: 1.2364831\t valid mse:  1.3907270163780865\n",
            "Epoch 43 train mse: 1.2046013\t valid mse:  1.39222816134167\n",
            "Epoch 44 train mse: 1.2687842\t valid mse:  1.3898401946310013\n",
            "Epoch 45 train mse: 1.2831384\t valid mse:  1.3892563581222652\n",
            "Epoch 46 train mse: 1.2650282\t valid mse:  1.3881310968036653\n",
            "Epoch 47 train mse: 1.2835736\t valid mse:  1.3882793627447385\n",
            "Epoch 48 train mse: 1.2664572\t valid mse:  1.3876307852423153\n",
            "Epoch 49 train mse: 1.2598879\t valid mse:  1.392448367322802\n",
            "Epoch 50 train mse: 1.2748113\t valid mse:  1.3892373654291108\n",
            "Epoch 51 train mse: 1.2501069\t valid mse:  1.3897014416478226\n",
            "Epoch 52 train mse: 1.2708815\t valid mse:  1.387762895077948\n",
            "Epoch 53 train mse: 1.2688715\t valid mse:  1.388019378052688\n",
            "Epoch 54 train mse: 1.2471001\t valid mse:  1.3895028844374986\n",
            "Epoch 55 train mse: 1.2529894\t valid mse:  1.3877358541735807\n",
            "Epoch 56 train mse: 1.2449163\t valid mse:  1.3888813593301323\n",
            "Epoch 57 train mse: 1.2610829\t valid mse:  1.3883789636741626\n",
            "Epoch 58 train mse: 1.2545228\t valid mse:  1.3890584400973116\n",
            "Epoch 59 train mse: 1.2718601\t valid mse:  1.3872323303404333\n",
            "Epoch 60 train mse: 1.2736933\t valid mse:  1.3879527695157845\n",
            "Epoch 61 train mse: 1.2320843\t valid mse:  1.3894933975315154\n",
            "Epoch 62 train mse: 1.2594568\t valid mse:  1.3877468476925907\n",
            "Epoch 63 train mse: 1.2649395\t valid mse:  1.3886616891715602\n",
            "Epoch 64 train mse: 1.2432063\t valid mse:  1.389562015096261\n",
            "Epoch 65 train mse: 1.2634264\t valid mse:  1.3869308988651095\n",
            "Epoch 66 train mse: 1.2546084\t valid mse:  1.3881460729389712\n",
            "Epoch 67 train mse: 1.2801566\t valid mse:  1.3879720904731292\n",
            "Epoch 68 train mse: 1.2242616\t valid mse:  1.3888298584221583\n",
            "Epoch 69 train mse: 1.2511029\t valid mse:  1.3893628645635225\n",
            "Epoch 70 train mse: 1.235222\t valid mse:  1.388122062985465\n",
            "Epoch 71 train mse: 1.2186409\t valid mse:  1.3891299400741335\n",
            "Epoch 72 train mse: 1.2354025\t valid mse:  1.38874388230092\n",
            "Epoch 73 train mse: 1.2859458\t valid mse:  1.3870928263215232\n",
            "Epoch 74 train mse: 1.2559942\t valid mse:  1.3870668468731575\n",
            "Epoch 75 train mse: 1.2467903\t valid mse:  1.3871938249990903\n",
            "Epoch 76 train mse: 1.2890038\t valid mse:  1.3859819286093518\n",
            "Epoch 77 train mse: 1.245231\t valid mse:  1.387082533119549\n",
            "Epoch 78 train mse: 1.2663388\t valid mse:  1.3865458831852586\n",
            "Epoch 79 train mse: 1.266931\t valid mse:  1.3885865710725322\n",
            "Epoch 80 train mse: 1.2547615\t valid mse:  1.3873654431410671\n",
            "Epoch 81 train mse: 1.2299472\t valid mse:  1.3874374977041444\n",
            "Epoch 82 train mse: 1.224252\t valid mse:  1.3880671307325982\n",
            "Epoch 83 train mse: 1.294342\t valid mse:  1.3859266352770672\n",
            "Epoch 84 train mse: 1.2599262\t valid mse:  1.3872805580289564\n",
            "Epoch 85 train mse: 1.2738551\t valid mse:  1.3873869575106235\n",
            "Epoch 86 train mse: 1.2300043\t valid mse:  1.3881736454021334\n",
            "Epoch 87 train mse: 1.283148\t valid mse:  1.3884679576443244\n",
            "Epoch 88 train mse: 1.2505244\t valid mse:  1.3868377891624415\n",
            "Epoch 89 train mse: 1.2570865\t valid mse:  1.3869454275073103\n",
            "Epoch 90 train mse: 1.2497903\t valid mse:  1.3863822919019173\n",
            "Epoch 91 train mse: 1.2639498\t valid mse:  1.386760829609371\n",
            "Epoch 92 train mse: 1.2458282\t valid mse:  1.3873680246125226\n",
            "Epoch 93 train mse: 1.2816507\t valid mse:  1.386358294457955\n",
            "Epoch 94 train mse: 1.2727636\t valid mse:  1.3861834381496234\n",
            "Epoch 95 train mse: 1.2686005\t valid mse:  1.3864989029958512\n",
            "Epoch 96 train mse: 1.2789106\t valid mse:  1.3864413878929787\n",
            "Epoch 97 train mse: 1.268855\t valid mse:  1.3866103087661763\n",
            "Epoch 98 train mse: 1.2629763\t valid mse:  1.3863235230347424\n",
            "Epoch 99 train mse: 1.263797\t valid mse:  1.38582911659867\n"
          ],
          "name": "stdout"
        }
      ]
    }
  ]
}