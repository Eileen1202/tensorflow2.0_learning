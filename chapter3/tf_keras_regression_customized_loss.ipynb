{
  "nbformat": 4,
  "nbformat_minor": 0,
  "metadata": {
    "colab": {
      "name": "tf_keras_regression_customized_loss.ipynb",
      "version": "0.3.2",
      "provenance": [],
      "include_colab_link": true
    },
    "kernelspec": {
      "name": "python3",
      "display_name": "Python 3"
    },
    "accelerator": "GPU"
  },
  "cells": [
    {
      "cell_type": "markdown",
      "metadata": {
        "id": "view-in-github",
        "colab_type": "text"
      },
      "source": [
        "<a href=\"https://colab.research.google.com/github/vvshyer/tensorflow2.0_learning/blob/master/tf_keras_regression_customized_loss.ipynb\" target=\"_parent\"><img src=\"https://colab.research.google.com/assets/colab-badge.svg\" alt=\"Open In Colab\"/></a>"
      ]
    },
    {
      "cell_type": "code",
      "metadata": {
        "id": "8ezK57pS6ZSF",
        "colab_type": "code",
        "outputId": "4aefffdd-580f-4737-c1da-cc016e72d0e0",
        "colab": {
          "base_uri": "https://localhost:8080/",
          "height": 173
        }
      },
      "source": [
        "import matplotlib as mpl\n",
        "import matplotlib.pyplot as plt\n",
        "%matplotlib inline\n",
        "import numpy as np\n",
        "import sklearn\n",
        "import pandas as pd\n",
        "import os\n",
        "import sys\n",
        "import time\n",
        "import tensorflow as tf\n",
        "\n",
        "from tensorflow import keras\n",
        "\n",
        "print(tf.__version__)\n",
        "print(sys.version_info)\n",
        "for module in mpl, np, pd, sklearn, tf, keras:\n",
        "    print(module.__name__, module.__version__)"
      ],
      "execution_count": 1,
      "outputs": [
        {
          "output_type": "stream",
          "text": [
            "2.0.0-alpha0\n",
            "sys.version_info(major=3, minor=6, micro=7, releaselevel='final', serial=0)\n",
            "matplotlib 3.0.3\n",
            "numpy 1.16.3\n",
            "pandas 0.24.2\n",
            "sklearn 0.21.2\n",
            "tensorflow 2.0.0-alpha0\n",
            "tensorflow.python.keras.api._v2.keras 2.2.4-tf\n"
          ],
          "name": "stdout"
        }
      ]
    },
    {
      "cell_type": "code",
      "metadata": {
        "id": "hd13Iimm6j7Q",
        "colab_type": "code",
        "outputId": "1fe48891-d689-4143-fa9c-b11bc4edd01f",
        "colab": {
          "base_uri": "https://localhost:8080/",
          "height": 819
        }
      },
      "source": [
        "from sklearn.datasets import fetch_california_housing\n",
        "\n",
        "housing = fetch_california_housing()\n",
        "print(housing.DESCR)\n",
        "print(housing.data.shape)\n",
        "print(housing.target.shape)"
      ],
      "execution_count": 2,
      "outputs": [
        {
          "output_type": "stream",
          "text": [
            "Downloading Cal. housing from https://ndownloader.figshare.com/files/5976036 to /root/scikit_learn_data\n",
            "WARNING: Logging before flag parsing goes to stderr.\n",
            "I0531 02:25:02.601166 140648860743552 california_housing.py:114] Downloading Cal. housing from https://ndownloader.figshare.com/files/5976036 to /root/scikit_learn_data\n"
          ],
          "name": "stderr"
        },
        {
          "output_type": "stream",
          "text": [
            ".. _california_housing_dataset:\n",
            "\n",
            "California Housing dataset\n",
            "--------------------------\n",
            "\n",
            "**Data Set Characteristics:**\n",
            "\n",
            "    :Number of Instances: 20640\n",
            "\n",
            "    :Number of Attributes: 8 numeric, predictive attributes and the target\n",
            "\n",
            "    :Attribute Information:\n",
            "        - MedInc        median income in block\n",
            "        - HouseAge      median house age in block\n",
            "        - AveRooms      average number of rooms\n",
            "        - AveBedrms     average number of bedrooms\n",
            "        - Population    block population\n",
            "        - AveOccup      average house occupancy\n",
            "        - Latitude      house block latitude\n",
            "        - Longitude     house block longitude\n",
            "\n",
            "    :Missing Attribute Values: None\n",
            "\n",
            "This dataset was obtained from the StatLib repository.\n",
            "http://lib.stat.cmu.edu/datasets/\n",
            "\n",
            "The target variable is the median house value for California districts.\n",
            "\n",
            "This dataset was derived from the 1990 U.S. census, using one row per census\n",
            "block group. A block group is the smallest geographical unit for which the U.S.\n",
            "Census Bureau publishes sample data (a block group typically has a population\n",
            "of 600 to 3,000 people).\n",
            "\n",
            "It can be downloaded/loaded using the\n",
            ":func:`sklearn.datasets.fetch_california_housing` function.\n",
            "\n",
            ".. topic:: References\n",
            "\n",
            "    - Pace, R. Kelley and Ronald Barry, Sparse Spatial Autoregressions,\n",
            "      Statistics and Probability Letters, 33 (1997) 291-297\n",
            "\n",
            "(20640, 8)\n",
            "(20640,)\n"
          ],
          "name": "stdout"
        }
      ]
    },
    {
      "cell_type": "code",
      "metadata": {
        "id": "sy2zeFXF7O6V",
        "colab_type": "code",
        "outputId": "baf3f89b-f1d0-41c8-a080-93c90963547e",
        "colab": {
          "base_uri": "https://localhost:8080/",
          "height": 68
        }
      },
      "source": [
        "from sklearn.model_selection import train_test_split\n",
        "\n",
        "# test_size默认为0.25\n",
        "x_train_all, x_test, y_train_all, y_test = train_test_split(\n",
        "    housing.data, housing.target, random_state = 7, test_size = 0.25)\n",
        "\n",
        "x_train, x_valid, y_train, y_valid = train_test_split(\n",
        "    x_train_all, y_train_all, random_state = 11)\n",
        "\n",
        "print(x_train.shape, y_train.shape)\n",
        "print(x_valid.shape, y_valid.shape)\n",
        "print(x_test.shape, y_test.shape)"
      ],
      "execution_count": 3,
      "outputs": [
        {
          "output_type": "stream",
          "text": [
            "(11610, 8) (11610,)\n",
            "(3870, 8) (3870,)\n",
            "(5160, 8) (5160,)\n"
          ],
          "name": "stdout"
        }
      ]
    },
    {
      "cell_type": "code",
      "metadata": {
        "id": "TvaW64pQ7418",
        "colab_type": "code",
        "colab": {}
      },
      "source": [
        "from sklearn.preprocessing import StandardScaler\n",
        "\n",
        "scaler = StandardScaler()\n",
        "x_train_scaled = scaler.fit_transform(x_train)\n",
        "x_valid_scaled = scaler.transform(x_valid)\n",
        "x_test_scaled = scaler.transform(x_test)"
      ],
      "execution_count": 0,
      "outputs": []
    },
    {
      "cell_type": "code",
      "metadata": {
        "id": "7IkL0UAt8Qzo",
        "colab_type": "code",
        "outputId": "9fc26d77-6f81-424b-9f21-6dfc1cf7da11",
        "colab": {
          "base_uri": "https://localhost:8080/",
          "height": 221
        }
      },
      "source": [
        "def customized_mse(y_true, y_pred):\n",
        "    return tf.reduce_mean(tf.square(y_pred - y_true))\n",
        "\n",
        "model = keras.models.Sequential([\n",
        "    keras.layers.Dense(30, activation='relu',\n",
        "                       input_shape=x_train.shape[1:]),\n",
        "    keras.layers.Dense(1),\n",
        "])\n",
        "model.summary()\n",
        "model.compile(loss=customized_mse, optimizer = \"sgd\",\n",
        "              metrics = [\"mean_squared_error\"])\n",
        "callbacks = [keras.callbacks.EarlyStopping(patience=5, min_delta=1e-3)]"
      ],
      "execution_count": 5,
      "outputs": [
        {
          "output_type": "stream",
          "text": [
            "Model: \"sequential\"\n",
            "_________________________________________________________________\n",
            "Layer (type)                 Output Shape              Param #   \n",
            "=================================================================\n",
            "dense (Dense)                (None, 30)                270       \n",
            "_________________________________________________________________\n",
            "dense_1 (Dense)              (None, 1)                 31        \n",
            "=================================================================\n",
            "Total params: 301\n",
            "Trainable params: 301\n",
            "Non-trainable params: 0\n",
            "_________________________________________________________________\n"
          ],
          "name": "stdout"
        }
      ]
    },
    {
      "cell_type": "code",
      "metadata": {
        "id": "P3g9RQd287SJ",
        "colab_type": "code",
        "outputId": "f199db6d-b56a-47ad-fdba-ec1a349cd836",
        "colab": {
          "base_uri": "https://localhost:8080/",
          "height": 3454
        }
      },
      "source": [
        "history = model.fit(x_train_scaled, y_train,\n",
        "                   validation_data = (x_valid_scaled, y_valid),\n",
        "                   epochs = 100,\n",
        "                   callbacks = callbacks)"
      ],
      "execution_count": 6,
      "outputs": [
        {
          "output_type": "stream",
          "text": [
            "Train on 11610 samples, validate on 3870 samples\n",
            "Epoch 1/100\n",
            "11610/11610 [==============================] - 1s 45us/sample - loss: 2.1712 - mean_squared_error: 2.1712 - val_loss: 0.9674 - val_mean_squared_error: 0.9674\n",
            "Epoch 2/100\n",
            "11610/11610 [==============================] - 0s 37us/sample - loss: 0.7602 - mean_squared_error: 0.7602 - val_loss: 0.7459 - val_mean_squared_error: 0.7459\n",
            "Epoch 3/100\n",
            "11610/11610 [==============================] - 0s 35us/sample - loss: 0.6673 - mean_squared_error: 0.6673 - val_loss: 0.7015 - val_mean_squared_error: 0.7015\n",
            "Epoch 4/100\n",
            "11610/11610 [==============================] - 0s 34us/sample - loss: 0.6374 - mean_squared_error: 0.6374 - val_loss: 0.6741 - val_mean_squared_error: 0.6741\n",
            "Epoch 5/100\n",
            "11610/11610 [==============================] - 0s 34us/sample - loss: 0.6150 - mean_squared_error: 0.6150 - val_loss: 0.6537 - val_mean_squared_error: 0.6537\n",
            "Epoch 6/100\n",
            "11610/11610 [==============================] - 0s 32us/sample - loss: 0.5960 - mean_squared_error: 0.5960 - val_loss: 0.6336 - val_mean_squared_error: 0.6336\n",
            "Epoch 7/100\n",
            "11610/11610 [==============================] - 0s 32us/sample - loss: 0.5800 - mean_squared_error: 0.5800 - val_loss: 0.6177 - val_mean_squared_error: 0.6177\n",
            "Epoch 8/100\n",
            "11610/11610 [==============================] - 0s 32us/sample - loss: 0.5659 - mean_squared_error: 0.5659 - val_loss: 0.6028 - val_mean_squared_error: 0.6028\n",
            "Epoch 9/100\n",
            "11610/11610 [==============================] - 0s 32us/sample - loss: 0.5536 - mean_squared_error: 0.5536 - val_loss: 0.5902 - val_mean_squared_error: 0.5902\n",
            "Epoch 10/100\n",
            "11610/11610 [==============================] - 0s 33us/sample - loss: 0.5429 - mean_squared_error: 0.5429 - val_loss: 0.5813 - val_mean_squared_error: 0.5813\n",
            "Epoch 11/100\n",
            "11610/11610 [==============================] - 0s 32us/sample - loss: 0.5326 - mean_squared_error: 0.5326 - val_loss: 0.5718 - val_mean_squared_error: 0.5718\n",
            "Epoch 12/100\n",
            "11610/11610 [==============================] - 0s 32us/sample - loss: 0.5235 - mean_squared_error: 0.5235 - val_loss: 0.5609 - val_mean_squared_error: 0.5609\n",
            "Epoch 13/100\n",
            "11610/11610 [==============================] - 0s 32us/sample - loss: 0.5165 - mean_squared_error: 0.5165 - val_loss: 0.5592 - val_mean_squared_error: 0.5592\n",
            "Epoch 14/100\n",
            "11610/11610 [==============================] - 0s 32us/sample - loss: 0.5097 - mean_squared_error: 0.5097 - val_loss: 0.5496 - val_mean_squared_error: 0.5496\n",
            "Epoch 15/100\n",
            "11610/11610 [==============================] - 0s 32us/sample - loss: 0.5030 - mean_squared_error: 0.5030 - val_loss: 0.5380 - val_mean_squared_error: 0.5380\n",
            "Epoch 16/100\n",
            "11610/11610 [==============================] - 0s 32us/sample - loss: 0.4979 - mean_squared_error: 0.4979 - val_loss: 0.5335 - val_mean_squared_error: 0.5335\n",
            "Epoch 17/100\n",
            "11610/11610 [==============================] - 0s 32us/sample - loss: 0.4908 - mean_squared_error: 0.4908 - val_loss: 0.5253 - val_mean_squared_error: 0.5253\n",
            "Epoch 18/100\n",
            "11610/11610 [==============================] - 0s 31us/sample - loss: 0.4866 - mean_squared_error: 0.4866 - val_loss: 0.5215 - val_mean_squared_error: 0.5215\n",
            "Epoch 19/100\n",
            "11610/11610 [==============================] - 0s 32us/sample - loss: 0.4814 - mean_squared_error: 0.4814 - val_loss: 0.5156 - val_mean_squared_error: 0.5156\n",
            "Epoch 20/100\n",
            "11610/11610 [==============================] - 0s 32us/sample - loss: 0.4769 - mean_squared_error: 0.4769 - val_loss: 0.5092 - val_mean_squared_error: 0.5092\n",
            "Epoch 21/100\n",
            "11610/11610 [==============================] - 0s 32us/sample - loss: 0.4725 - mean_squared_error: 0.4725 - val_loss: 0.5044 - val_mean_squared_error: 0.5044\n",
            "Epoch 22/100\n",
            "11610/11610 [==============================] - 0s 32us/sample - loss: 0.4687 - mean_squared_error: 0.4687 - val_loss: 0.4999 - val_mean_squared_error: 0.4999\n",
            "Epoch 23/100\n",
            "11610/11610 [==============================] - 0s 32us/sample - loss: 0.4658 - mean_squared_error: 0.4658 - val_loss: 0.4974 - val_mean_squared_error: 0.4974\n",
            "Epoch 24/100\n",
            "11610/11610 [==============================] - 0s 32us/sample - loss: 0.4624 - mean_squared_error: 0.4624 - val_loss: 0.4936 - val_mean_squared_error: 0.4936\n",
            "Epoch 25/100\n",
            "11610/11610 [==============================] - 0s 32us/sample - loss: 0.4593 - mean_squared_error: 0.4593 - val_loss: 0.4898 - val_mean_squared_error: 0.4898\n",
            "Epoch 26/100\n",
            "11610/11610 [==============================] - 0s 32us/sample - loss: 0.4568 - mean_squared_error: 0.4568 - val_loss: 0.4874 - val_mean_squared_error: 0.4874\n",
            "Epoch 27/100\n",
            "11610/11610 [==============================] - 0s 32us/sample - loss: 0.4539 - mean_squared_error: 0.4539 - val_loss: 0.4834 - val_mean_squared_error: 0.4834\n",
            "Epoch 28/100\n",
            "11610/11610 [==============================] - 0s 32us/sample - loss: 0.4515 - mean_squared_error: 0.4515 - val_loss: 0.4804 - val_mean_squared_error: 0.4804\n",
            "Epoch 29/100\n",
            "11610/11610 [==============================] - 0s 32us/sample - loss: 0.4490 - mean_squared_error: 0.4490 - val_loss: 0.4789 - val_mean_squared_error: 0.4789\n",
            "Epoch 30/100\n",
            "11610/11610 [==============================] - 0s 32us/sample - loss: 0.4469 - mean_squared_error: 0.4469 - val_loss: 0.4752 - val_mean_squared_error: 0.4752\n",
            "Epoch 31/100\n",
            "11610/11610 [==============================] - 0s 31us/sample - loss: 0.4446 - mean_squared_error: 0.4446 - val_loss: 0.4725 - val_mean_squared_error: 0.4725\n",
            "Epoch 32/100\n",
            "11610/11610 [==============================] - 0s 32us/sample - loss: 0.4423 - mean_squared_error: 0.4423 - val_loss: 0.4695 - val_mean_squared_error: 0.4695\n",
            "Epoch 33/100\n",
            "11610/11610 [==============================] - 0s 32us/sample - loss: 0.4404 - mean_squared_error: 0.4404 - val_loss: 0.4683 - val_mean_squared_error: 0.4683\n",
            "Epoch 34/100\n",
            "11610/11610 [==============================] - 0s 34us/sample - loss: 0.4383 - mean_squared_error: 0.4383 - val_loss: 0.4656 - val_mean_squared_error: 0.4656\n",
            "Epoch 35/100\n",
            "11610/11610 [==============================] - 0s 32us/sample - loss: 0.4363 - mean_squared_error: 0.4363 - val_loss: 0.4641 - val_mean_squared_error: 0.4641\n",
            "Epoch 36/100\n",
            "11610/11610 [==============================] - 0s 33us/sample - loss: 0.4348 - mean_squared_error: 0.4348 - val_loss: 0.4612 - val_mean_squared_error: 0.4612\n",
            "Epoch 37/100\n",
            "11610/11610 [==============================] - 0s 31us/sample - loss: 0.4332 - mean_squared_error: 0.4332 - val_loss: 0.4588 - val_mean_squared_error: 0.4588\n",
            "Epoch 38/100\n",
            "11610/11610 [==============================] - 0s 32us/sample - loss: 0.4313 - mean_squared_error: 0.4313 - val_loss: 0.4568 - val_mean_squared_error: 0.4568\n",
            "Epoch 39/100\n",
            "11610/11610 [==============================] - 0s 32us/sample - loss: 0.4297 - mean_squared_error: 0.4297 - val_loss: 0.4556 - val_mean_squared_error: 0.4556\n",
            "Epoch 40/100\n",
            "11610/11610 [==============================] - 0s 32us/sample - loss: 0.4280 - mean_squared_error: 0.4280 - val_loss: 0.4535 - val_mean_squared_error: 0.4535\n",
            "Epoch 41/100\n",
            "11610/11610 [==============================] - 0s 32us/sample - loss: 0.4266 - mean_squared_error: 0.4266 - val_loss: 0.4513 - val_mean_squared_error: 0.4513\n",
            "Epoch 42/100\n",
            "11610/11610 [==============================] - 0s 30us/sample - loss: 0.4249 - mean_squared_error: 0.4249 - val_loss: 0.4496 - val_mean_squared_error: 0.4496\n",
            "Epoch 43/100\n",
            "11610/11610 [==============================] - 0s 32us/sample - loss: 0.4235 - mean_squared_error: 0.4235 - val_loss: 0.4477 - val_mean_squared_error: 0.4477\n",
            "Epoch 44/100\n",
            "11610/11610 [==============================] - 0s 32us/sample - loss: 0.4221 - mean_squared_error: 0.4221 - val_loss: 0.4461 - val_mean_squared_error: 0.4461\n",
            "Epoch 45/100\n",
            "11610/11610 [==============================] - 0s 31us/sample - loss: 0.4207 - mean_squared_error: 0.4207 - val_loss: 0.4441 - val_mean_squared_error: 0.4441\n",
            "Epoch 46/100\n",
            "11610/11610 [==============================] - 0s 32us/sample - loss: 0.4194 - mean_squared_error: 0.4194 - val_loss: 0.4428 - val_mean_squared_error: 0.4428\n",
            "Epoch 47/100\n",
            "11610/11610 [==============================] - 0s 31us/sample - loss: 0.4180 - mean_squared_error: 0.4180 - val_loss: 0.4405 - val_mean_squared_error: 0.4405\n",
            "Epoch 48/100\n",
            "11610/11610 [==============================] - 0s 31us/sample - loss: 0.4166 - mean_squared_error: 0.4166 - val_loss: 0.4390 - val_mean_squared_error: 0.4390\n",
            "Epoch 49/100\n",
            "11610/11610 [==============================] - 0s 31us/sample - loss: 0.4153 - mean_squared_error: 0.4153 - val_loss: 0.4382 - val_mean_squared_error: 0.4382\n",
            "Epoch 50/100\n",
            "11610/11610 [==============================] - 0s 30us/sample - loss: 0.4141 - mean_squared_error: 0.4141 - val_loss: 0.4364 - val_mean_squared_error: 0.4364\n",
            "Epoch 51/100\n",
            "11610/11610 [==============================] - 0s 30us/sample - loss: 0.4129 - mean_squared_error: 0.4129 - val_loss: 0.4354 - val_mean_squared_error: 0.4354\n",
            "Epoch 52/100\n",
            "11610/11610 [==============================] - 0s 31us/sample - loss: 0.4117 - mean_squared_error: 0.4117 - val_loss: 0.4333 - val_mean_squared_error: 0.4333\n",
            "Epoch 53/100\n",
            "11610/11610 [==============================] - 0s 30us/sample - loss: 0.4106 - mean_squared_error: 0.4106 - val_loss: 0.4321 - val_mean_squared_error: 0.4321\n",
            "Epoch 54/100\n",
            "11610/11610 [==============================] - 0s 31us/sample - loss: 0.4094 - mean_squared_error: 0.4094 - val_loss: 0.4310 - val_mean_squared_error: 0.4310\n",
            "Epoch 55/100\n",
            "11610/11610 [==============================] - 0s 32us/sample - loss: 0.4084 - mean_squared_error: 0.4084 - val_loss: 0.4298 - val_mean_squared_error: 0.4298\n",
            "Epoch 56/100\n",
            "11610/11610 [==============================] - 0s 31us/sample - loss: 0.4072 - mean_squared_error: 0.4072 - val_loss: 0.4287 - val_mean_squared_error: 0.4287\n",
            "Epoch 57/100\n",
            "11610/11610 [==============================] - 0s 32us/sample - loss: 0.4062 - mean_squared_error: 0.4062 - val_loss: 0.4267 - val_mean_squared_error: 0.4267\n",
            "Epoch 58/100\n",
            "11610/11610 [==============================] - 0s 32us/sample - loss: 0.4053 - mean_squared_error: 0.4053 - val_loss: 0.4256 - val_mean_squared_error: 0.4256\n",
            "Epoch 59/100\n",
            "11610/11610 [==============================] - 0s 32us/sample - loss: 0.4041 - mean_squared_error: 0.4041 - val_loss: 0.4248 - val_mean_squared_error: 0.4248\n",
            "Epoch 60/100\n",
            "11610/11610 [==============================] - 0s 32us/sample - loss: 0.4032 - mean_squared_error: 0.4032 - val_loss: 0.4235 - val_mean_squared_error: 0.4235\n",
            "Epoch 61/100\n",
            "11610/11610 [==============================] - 0s 30us/sample - loss: 0.4023 - mean_squared_error: 0.4023 - val_loss: 0.4225 - val_mean_squared_error: 0.4225\n",
            "Epoch 62/100\n",
            "11610/11610 [==============================] - 0s 32us/sample - loss: 0.4012 - mean_squared_error: 0.4012 - val_loss: 0.4212 - val_mean_squared_error: 0.4212\n",
            "Epoch 63/100\n",
            "11610/11610 [==============================] - 0s 32us/sample - loss: 0.4003 - mean_squared_error: 0.4003 - val_loss: 0.4201 - val_mean_squared_error: 0.4201\n",
            "Epoch 64/100\n",
            "11610/11610 [==============================] - 0s 33us/sample - loss: 0.3993 - mean_squared_error: 0.3993 - val_loss: 0.4189 - val_mean_squared_error: 0.4189\n",
            "Epoch 65/100\n",
            "11610/11610 [==============================] - 0s 32us/sample - loss: 0.3985 - mean_squared_error: 0.3985 - val_loss: 0.4176 - val_mean_squared_error: 0.4176\n",
            "Epoch 66/100\n",
            "11610/11610 [==============================] - 0s 31us/sample - loss: 0.3976 - mean_squared_error: 0.3976 - val_loss: 0.4169 - val_mean_squared_error: 0.4169\n",
            "Epoch 67/100\n",
            "11610/11610 [==============================] - 0s 32us/sample - loss: 0.3969 - mean_squared_error: 0.3969 - val_loss: 0.4163 - val_mean_squared_error: 0.4163\n",
            "Epoch 68/100\n",
            "11610/11610 [==============================] - 0s 32us/sample - loss: 0.3960 - mean_squared_error: 0.3960 - val_loss: 0.4153 - val_mean_squared_error: 0.4153\n",
            "Epoch 69/100\n",
            "11610/11610 [==============================] - 0s 31us/sample - loss: 0.3952 - mean_squared_error: 0.3952 - val_loss: 0.4145 - val_mean_squared_error: 0.4145\n",
            "Epoch 70/100\n",
            "11610/11610 [==============================] - 0s 32us/sample - loss: 0.3944 - mean_squared_error: 0.3944 - val_loss: 0.4134 - val_mean_squared_error: 0.4134\n",
            "Epoch 71/100\n",
            "11610/11610 [==============================] - 0s 41us/sample - loss: 0.3937 - mean_squared_error: 0.3937 - val_loss: 0.4121 - val_mean_squared_error: 0.4121\n",
            "Epoch 72/100\n",
            "11610/11610 [==============================] - 0s 40us/sample - loss: 0.3930 - mean_squared_error: 0.3930 - val_loss: 0.4112 - val_mean_squared_error: 0.4112\n",
            "Epoch 73/100\n",
            "11610/11610 [==============================] - 0s 41us/sample - loss: 0.3922 - mean_squared_error: 0.3922 - val_loss: 0.4105 - val_mean_squared_error: 0.4105\n",
            "Epoch 74/100\n",
            "11610/11610 [==============================] - 0s 40us/sample - loss: 0.3915 - mean_squared_error: 0.3915 - val_loss: 0.4091 - val_mean_squared_error: 0.4091\n",
            "Epoch 75/100\n",
            "11610/11610 [==============================] - 0s 41us/sample - loss: 0.3907 - mean_squared_error: 0.3907 - val_loss: 0.4089 - val_mean_squared_error: 0.4089\n",
            "Epoch 76/100\n",
            "11610/11610 [==============================] - 0s 41us/sample - loss: 0.3902 - mean_squared_error: 0.3902 - val_loss: 0.4083 - val_mean_squared_error: 0.4083\n",
            "Epoch 77/100\n",
            "11610/11610 [==============================] - 0s 41us/sample - loss: 0.3895 - mean_squared_error: 0.3895 - val_loss: 0.4072 - val_mean_squared_error: 0.4072\n",
            "Epoch 78/100\n",
            "11610/11610 [==============================] - 0s 40us/sample - loss: 0.3888 - mean_squared_error: 0.3888 - val_loss: 0.4062 - val_mean_squared_error: 0.4062\n",
            "Epoch 79/100\n",
            "11610/11610 [==============================] - 0s 41us/sample - loss: 0.3880 - mean_squared_error: 0.3880 - val_loss: 0.4053 - val_mean_squared_error: 0.4053\n",
            "Epoch 80/100\n",
            "11610/11610 [==============================] - 0s 41us/sample - loss: 0.3876 - mean_squared_error: 0.3876 - val_loss: 0.4050 - val_mean_squared_error: 0.4050\n",
            "Epoch 81/100\n",
            "11610/11610 [==============================] - 0s 40us/sample - loss: 0.3868 - mean_squared_error: 0.3868 - val_loss: 0.4046 - val_mean_squared_error: 0.4046\n",
            "Epoch 82/100\n",
            "11610/11610 [==============================] - 0s 39us/sample - loss: 0.3864 - mean_squared_error: 0.3864 - val_loss: 0.4032 - val_mean_squared_error: 0.4032\n",
            "Epoch 83/100\n",
            "11610/11610 [==============================] - 0s 41us/sample - loss: 0.3858 - mean_squared_error: 0.3858 - val_loss: 0.4022 - val_mean_squared_error: 0.4022\n",
            "Epoch 84/100\n",
            "11610/11610 [==============================] - 0s 40us/sample - loss: 0.3853 - mean_squared_error: 0.3853 - val_loss: 0.4019 - val_mean_squared_error: 0.4019\n",
            "Epoch 85/100\n",
            "11610/11610 [==============================] - 0s 41us/sample - loss: 0.3847 - mean_squared_error: 0.3847 - val_loss: 0.4014 - val_mean_squared_error: 0.4014\n",
            "Epoch 86/100\n",
            "11610/11610 [==============================] - 0s 40us/sample - loss: 0.3841 - mean_squared_error: 0.3841 - val_loss: 0.4002 - val_mean_squared_error: 0.4002\n",
            "Epoch 87/100\n",
            "11610/11610 [==============================] - 0s 42us/sample - loss: 0.3838 - mean_squared_error: 0.3838 - val_loss: 0.3997 - val_mean_squared_error: 0.3997\n",
            "Epoch 88/100\n",
            "11610/11610 [==============================] - 0s 41us/sample - loss: 0.3830 - mean_squared_error: 0.3830 - val_loss: 0.3990 - val_mean_squared_error: 0.3990\n",
            "Epoch 89/100\n",
            "11610/11610 [==============================] - 0s 41us/sample - loss: 0.3826 - mean_squared_error: 0.3826 - val_loss: 0.3986 - val_mean_squared_error: 0.3986\n",
            "Epoch 90/100\n",
            "11610/11610 [==============================] - 0s 41us/sample - loss: 0.3819 - mean_squared_error: 0.3819 - val_loss: 0.3980 - val_mean_squared_error: 0.3980\n",
            "Epoch 91/100\n",
            "11610/11610 [==============================] - 0s 41us/sample - loss: 0.3816 - mean_squared_error: 0.3816 - val_loss: 0.3969 - val_mean_squared_error: 0.3969\n",
            "Epoch 92/100\n",
            "11610/11610 [==============================] - 0s 32us/sample - loss: 0.3810 - mean_squared_error: 0.3810 - val_loss: 0.3962 - val_mean_squared_error: 0.3962\n",
            "Epoch 93/100\n",
            "11610/11610 [==============================] - 0s 31us/sample - loss: 0.3805 - mean_squared_error: 0.3805 - val_loss: 0.3958 - val_mean_squared_error: 0.3958\n",
            "Epoch 94/100\n",
            "11610/11610 [==============================] - 0s 33us/sample - loss: 0.3799 - mean_squared_error: 0.3799 - val_loss: 0.3952 - val_mean_squared_error: 0.3952\n",
            "Epoch 95/100\n",
            "11610/11610 [==============================] - 0s 33us/sample - loss: 0.3793 - mean_squared_error: 0.3793 - val_loss: 0.3948 - val_mean_squared_error: 0.3948\n",
            "Epoch 96/100\n",
            "11610/11610 [==============================] - 0s 31us/sample - loss: 0.3791 - mean_squared_error: 0.3791 - val_loss: 0.3946 - val_mean_squared_error: 0.3946\n",
            "Epoch 97/100\n",
            "11610/11610 [==============================] - 0s 32us/sample - loss: 0.3784 - mean_squared_error: 0.3784 - val_loss: 0.3935 - val_mean_squared_error: 0.3935\n",
            "Epoch 98/100\n",
            "11610/11610 [==============================] - 0s 32us/sample - loss: 0.3782 - mean_squared_error: 0.3782 - val_loss: 0.3926 - val_mean_squared_error: 0.3926\n",
            "Epoch 99/100\n",
            "11610/11610 [==============================] - 0s 32us/sample - loss: 0.3777 - mean_squared_error: 0.3777 - val_loss: 0.3921 - val_mean_squared_error: 0.3921\n",
            "Epoch 100/100\n",
            "11610/11610 [==============================] - 0s 32us/sample - loss: 0.3770 - mean_squared_error: 0.3770 - val_loss: 0.3920 - val_mean_squared_error: 0.3920\n"
          ],
          "name": "stdout"
        }
      ]
    },
    {
      "cell_type": "code",
      "metadata": {
        "id": "QMlYp_ol9Qmz",
        "colab_type": "code",
        "outputId": "0b9c8068-4f58-458c-df3e-8620bff30719",
        "colab": {
          "base_uri": "https://localhost:8080/",
          "height": 324
        }
      },
      "source": [
        "def plot_learning_curves(history):\n",
        "    pd.DataFrame(history.history).plot(figsize=(8,5))\n",
        "    plt.grid(True)\n",
        "    plt.gca().set_ylim(0,1)\n",
        "    plt.show()\n",
        "\n",
        "plot_learning_curves(history)"
      ],
      "execution_count": 7,
      "outputs": [
        {
          "output_type": "display_data",
          "data": {
            "image/png": "[encoded data removed]",
            "text/plain": [
              "<Figure size 576x360 with 1 Axes>"
            ]
          },
          "metadata": {
            "tags": []
          }
        }
      ]
    },
    {
      "cell_type": "code",
      "metadata": {
        "id": "hP7LY8Sa9iX4",
        "colab_type": "code",
        "outputId": "6da4a02b-75d7-451d-85cd-8aa4955a0225",
        "colab": {
          "base_uri": "https://localhost:8080/",
          "height": 71
        }
      },
      "source": [
        "model.evaluate(x_test_scaled, y_test)"
      ],
      "execution_count": 8,
      "outputs": [
        {
          "output_type": "stream",
          "text": [
            "5160/5160 [==============================] - 0s 16us/sample - loss: 0.3984 - mean_squared_error: 0.3984\n"
          ],
          "name": "stdout"
        },
        {
          "output_type": "execute_result",
          "data": {
            "text/plain": [
              "[0.398385553859001, 0.3983855]"
            ]
          },
          "metadata": {
            "tags": []
          },
          "execution_count": 8
        }
      ]
    },
    {
      "cell_type": "code",
      "metadata": {
        "id": "qsIxnZqD9o3P",
        "colab_type": "code",
        "colab": {}
      },
      "source": [
        ""
      ],
      "execution_count": 0,
      "outputs": []
    }
  ]
}