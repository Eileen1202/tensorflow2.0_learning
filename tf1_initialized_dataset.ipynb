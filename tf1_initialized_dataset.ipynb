{
  "nbformat": 4,
  "nbformat_minor": 0,
  "metadata": {
    "colab": {
      "name": "tf1_initialized_dataset.ipynb",
      "version": "0.3.2",
      "provenance": [],
      "collapsed_sections": [],
      "include_colab_link": true
    },
    "kernelspec": {
      "name": "python3",
      "display_name": "Python 3"
    },
    "accelerator": "GPU"
  },
  "cells": [
    {
      "cell_type": "markdown",
      "metadata": {
        "id": "view-in-github",
        "colab_type": "text"
      },
      "source": [
        "<a href=\"https://colab.research.google.com/github/vvshyer/tensorflow2.0_learning/blob/master/tf1_initialized_dataset.ipynb\" target=\"_parent\"><img src=\"https://colab.research.google.com/assets/colab-badge.svg\" alt=\"Open In Colab\"/></a>"
      ]
    },
    {
      "cell_type": "code",
      "metadata": {
        "id": "LdgXF14bvIXE",
        "colab_type": "code",
        "colab": {}
      },
      "source": [
        "!pip install tensorflow==1.13.1"
      ],
      "execution_count": 0,
      "outputs": []
    },
    {
      "cell_type": "code",
      "metadata": {
        "id": "XHw-sfvAkD1N",
        "colab_type": "code",
        "outputId": "be4eb897-1153-476c-8935-d15d0e66042b",
        "colab": {
          "base_uri": "https://localhost:8080/",
          "height": 173
        }
      },
      "source": [
        "import matplotlib as mpl\n",
        "import matplotlib.pyplot as plt\n",
        "%matplotlib inline\n",
        "import numpy as np\n",
        "import sklearn\n",
        "import pandas as pd\n",
        "import os\n",
        "import sys\n",
        "import time\n",
        "import tensorflow as tf\n",
        "\n",
        "from tensorflow import keras\n",
        "\n",
        "print(tf.__version__)\n",
        "print(sys.version_info)\n",
        "for module in mpl, np, pd, sklearn, tf, keras:\n",
        "    print(module.__name__, module.__version__)"
      ],
      "execution_count": 1,
      "outputs": [
        {
          "output_type": "stream",
          "text": [
            "1.13.1\n",
            "sys.version_info(major=3, minor=6, micro=7, releaselevel='final', serial=0)\n",
            "matplotlib 3.0.3\n",
            "numpy 1.16.4\n",
            "pandas 0.24.2\n",
            "sklearn 0.21.2\n",
            "tensorflow 1.13.1\n",
            "tensorflow._api.v1.keras 2.2.4-tf\n"
          ],
          "name": "stdout"
        }
      ]
    },
    {
      "cell_type": "code",
      "metadata": {
        "id": "mD9guLXTk__z",
        "colab_type": "code",
        "colab": {}
      },
      "source": [
        "fashion_mnist = keras.datasets.fashion_mnist\n",
        "(x_train_all, y_train_all), (x_test, y_test) = fashion_mnist.load_data()"
      ],
      "execution_count": 0,
      "outputs": []
    },
    {
      "cell_type": "code",
      "metadata": {
        "id": "xFI2nQwOmb7H",
        "colab_type": "code",
        "outputId": "d4da519e-6394-40b4-f1b2-df10b82c84d8",
        "colab": {
          "base_uri": "https://localhost:8080/",
          "height": 68
        }
      },
      "source": [
        "x_valid, x_train = x_train_all[:5000], x_train_all[5000:]\n",
        "y_valid, y_train = y_train_all[:5000], y_train_all[5000:]\n",
        "\n",
        "print(x_valid.shape, y_valid.shape)\n",
        "print(x_train.shape, y_train.shape)\n",
        "print(x_test.shape, y_test.shape)"
      ],
      "execution_count": 3,
      "outputs": [
        {
          "output_type": "stream",
          "text": [
            "(5000, 28, 28) (5000,)\n",
            "(55000, 28, 28) (55000,)\n",
            "(10000, 28, 28) (10000,)\n"
          ],
          "name": "stdout"
        }
      ]
    },
    {
      "cell_type": "code",
      "metadata": {
        "id": "7TPotQXLyFvM",
        "colab_type": "code",
        "outputId": "fc0a24a0-726c-4b98-c2db-e89aaccedca5",
        "colab": {
          "base_uri": "https://localhost:8080/",
          "height": 34
        }
      },
      "source": [
        "print(np.max(x_train), np.min(x_train))"
      ],
      "execution_count": 4,
      "outputs": [
        {
          "output_type": "stream",
          "text": [
            "255 0\n"
          ],
          "name": "stdout"
        }
      ]
    },
    {
      "cell_type": "code",
      "metadata": {
        "id": "LRacnxd0v2gk",
        "colab_type": "code",
        "colab": {}
      },
      "source": [
        "# x = (x-u)/std\n",
        "from sklearn.preprocessing import StandardScaler\n",
        "\n",
        "scaler = StandardScaler()\n",
        "# x_train: [None, 28, 28] -> [None, 784]\n",
        "x_train_scaled = scaler.fit_transform(\n",
        "    x_train.astype(np.float32).reshape(-1,1)).reshape(-1, 28* 28)\n",
        "x_valid_scaled = scaler.transform(\n",
        "    x_valid.astype(np.float32).reshape(-1,1)).reshape(-1, 28* 28)\n",
        "x_test_scaled = scaler.transform(\n",
        "    x_test.astype(np.float32).reshape(-1,1)).reshape(-1, 28* 28)\n",
        "\n",
        "y_train = np.asarray(y_train, dtype=np.int64)\n",
        "y_valid = np.asarray(y_valid, dtype=np.int64)\n",
        "y_test = np.asarray(y_test, dtype=np.int64)"
      ],
      "execution_count": 0,
      "outputs": []
    },
    {
      "cell_type": "code",
      "metadata": {
        "id": "6PrDmFpWx7nX",
        "colab_type": "code",
        "outputId": "7d12e9ed-013e-416d-9c07-7c29cfa0349e",
        "colab": {
          "base_uri": "https://localhost:8080/",
          "height": 34
        }
      },
      "source": [
        "print(np.max(x_train_scaled), np.min(x_train_scaled))"
      ],
      "execution_count": 6,
      "outputs": [
        {
          "output_type": "stream",
          "text": [
            "2.0231433 -0.8105136\n"
          ],
          "name": "stdout"
        }
      ]
    },
    {
      "cell_type": "code",
      "metadata": {
        "id": "dPExF_FDHDc7",
        "colab_type": "code",
        "colab": {}
      },
      "source": [
        "def make_dataset(images, labels, epochs, batch_size, shuffle=True):\n",
        "    dataset = tf.data.Dataset.from_tensor_slices((images, labels))\n",
        "    if shuffle:\n",
        "        dataset = dataset.shuffle(10000)\n",
        "    dataset = dataset.repeat(epochs).batch(batch_size)\n",
        "    return dataset"
      ],
      "execution_count": 0,
      "outputs": []
    },
    {
      "cell_type": "code",
      "metadata": {
        "id": "Xgx4LZZPKF0i",
        "colab_type": "code",
        "outputId": "229c46ab-89ec-4998-883a-b5f193095d13",
        "colab": {
          "base_uri": "https://localhost:8080/",
          "height": 85
        }
      },
      "source": [
        "batch_size = 20\n",
        "epochs = 10\n",
        "\n",
        "images_placeholder = tf.placeholder(tf.float32, [None, 28*28])\n",
        "labels_placeholder = tf.placeholder(tf.int64, (None,))\n",
        "\n",
        "dataset = make_dataset(images_placeholder, labels_placeholder,\n",
        "                       epochs = epochs,\n",
        "                       batch_size = batch_size)\n",
        "# make_initializable_iterator\n",
        "dataset_iter = dataset.make_initializable_iterator()\n",
        "x, y = dataset_iter.get_next()\n",
        "with tf.Session() as sess:\n",
        "    sess.run(dataset_iter.initializer,\n",
        "             feed_dict = {\n",
        "                 images_placeholder: x_train_scaled,\n",
        "                 labels_placeholder: y_train\n",
        "             })\n",
        "    x_val, y_val = sess.run([x, y])\n",
        "    print(x_val.shape)\n",
        "    print(y_val.shape)\n",
        "    sess.run(dataset_iter.initializer,\n",
        "             feed_dict = {\n",
        "                 images_placeholder: x_valid_scaled,\n",
        "                 labels_placeholder: y_valid,\n",
        "             })\n",
        "    x_val, y_val = sess.run([x, y])\n",
        "    print(x_val.shape)\n",
        "    print(y_val.shape)"
      ],
      "execution_count": 10,
      "outputs": [
        {
          "output_type": "stream",
          "text": [
            "(20, 784)\n",
            "(20,)\n",
            "(20, 784)\n",
            "(20,)\n"
          ],
          "name": "stdout"
        }
      ]
    },
    {
      "cell_type": "code",
      "metadata": {
        "id": "xfoy6kcUK2G9",
        "colab_type": "code",
        "colab": {}
      },
      "source": [
        ""
      ],
      "execution_count": 0,
      "outputs": []
    }
  ]
}