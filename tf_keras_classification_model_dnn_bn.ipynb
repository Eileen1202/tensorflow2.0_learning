{
  "nbformat": 4,
  "nbformat_minor": 0,
  "metadata": {
    "colab": {
      "name": "tf_keras_classification_model_dnn_bn.ipynb",
      "version": "0.3.2",
      "provenance": [],
      "include_colab_link": true
    },
    "kernelspec": {
      "name": "python3",
      "display_name": "Python 3"
    },
    "accelerator": "GPU"
  },
  "cells": [
    {
      "cell_type": "markdown",
      "metadata": {
        "id": "view-in-github",
        "colab_type": "text"
      },
      "source": [
        "<a href=\"https://colab.research.google.com/github/vvshyer/tensorflow2.0_learning/blob/master/tf_keras_classification_model_dnn_bn.ipynb\" target=\"_parent\"><img src=\"https://colab.research.google.com/assets/colab-badge.svg\" alt=\"Open In Colab\"/></a>"
      ]
    },
    {
      "cell_type": "code",
      "metadata": {
        "id": "LdgXF14bvIXE",
        "colab_type": "code",
        "colab": {}
      },
      "source": [
        "!pip install tensorflow==2.0.0-alpha0"
      ],
      "execution_count": 0,
      "outputs": []
    },
    {
      "cell_type": "code",
      "metadata": {
        "id": "XHw-sfvAkD1N",
        "colab_type": "code",
        "outputId": "59ee7d8f-52f8-47e9-e151-d7c57e7c6719",
        "colab": {
          "base_uri": "https://localhost:8080/",
          "height": 173
        }
      },
      "source": [
        "import matplotlib as mpl\n",
        "import matplotlib.pyplot as plt\n",
        "%matplotlib inline\n",
        "import numpy as np\n",
        "import sklearn\n",
        "import pandas as pd\n",
        "import os\n",
        "import sys\n",
        "import time\n",
        "import tensorflow as tf\n",
        "\n",
        "from tensorflow import keras\n",
        "\n",
        "print(tf.__version__)\n",
        "print(sys.version_info)\n",
        "for module in mpl, np, pd, sklearn, tf, keras:\n",
        "    print(module.__name__, module.__version__)"
      ],
      "execution_count": 1,
      "outputs": [
        {
          "output_type": "stream",
          "text": [
            "2.0.0-alpha0\n",
            "sys.version_info(major=3, minor=6, micro=7, releaselevel='final', serial=0)\n",
            "matplotlib 3.0.3\n",
            "numpy 1.16.3\n",
            "pandas 0.24.2\n",
            "sklearn 0.21.1\n",
            "tensorflow 2.0.0-alpha0\n",
            "tensorflow.python.keras.api._v2.keras 2.2.4-tf\n"
          ],
          "name": "stdout"
        }
      ]
    },
    {
      "cell_type": "code",
      "metadata": {
        "id": "mD9guLXTk__z",
        "colab_type": "code",
        "colab": {}
      },
      "source": [
        "fashion_mnist = keras.datasets.fashion_mnist\n",
        "(x_train_all, y_train_all), (x_test, y_test) = fashion_mnist.load_data()"
      ],
      "execution_count": 0,
      "outputs": []
    },
    {
      "cell_type": "code",
      "metadata": {
        "id": "xFI2nQwOmb7H",
        "colab_type": "code",
        "outputId": "03f4819e-4f70-4ded-f4a4-5e5f44d906d8",
        "colab": {
          "base_uri": "https://localhost:8080/",
          "height": 68
        }
      },
      "source": [
        "x_valid, x_train = x_train_all[:5000], x_train_all[5000:]\n",
        "y_valid, y_train = y_train_all[:5000], y_train_all[5000:]\n",
        "\n",
        "print(x_valid.shape, y_valid.shape)\n",
        "print(x_train.shape, y_train.shape)\n",
        "print(x_test.shape, y_test.shape)"
      ],
      "execution_count": 3,
      "outputs": [
        {
          "output_type": "stream",
          "text": [
            "(5000, 28, 28) (5000,)\n",
            "(55000, 28, 28) (55000,)\n",
            "(10000, 28, 28) (10000,)\n"
          ],
          "name": "stdout"
        }
      ]
    },
    {
      "cell_type": "code",
      "metadata": {
        "id": "LRacnxd0v2gk",
        "colab_type": "code",
        "colab": {}
      },
      "source": [
        "# x = (x-u)/std\n",
        "from sklearn.preprocessing import StandardScaler\n",
        "\n",
        "scaler = StandardScaler()\n",
        "# x_train: [None, 28, 28] -> [None, 784]\n",
        "x_train_scaled = scaler.fit_transform(\n",
        "    x_train.astype(np.float32).reshape(-1,1)).reshape(-1, 28, 28)\n",
        "x_valid_scaled = scaler.transform(\n",
        "    x_valid.astype(np.float32).reshape(-1,1)).reshape(-1, 28, 28)\n",
        "x_test_scaled = scaler.transform(\n",
        "    x_test.astype(np.float32).reshape(-1,1)).reshape(-1, 28, 28)"
      ],
      "execution_count": 0,
      "outputs": []
    },
    {
      "cell_type": "code",
      "metadata": {
        "id": "0qo1dX2bon-7",
        "colab_type": "code",
        "colab": {}
      },
      "source": [
        "# tf.keras.models.Sequential()\n",
        "model = keras.models.Sequential()\n",
        "\n",
        "model.add(keras.layers.Flatten(input_shape = [28, 28]))\n",
        "for _ in range(20):\n",
        "    model.add(keras.layers.Dense(100, activation=\"relu\"))\n",
        "    model.add(keras.layers.BatchNormalization())\n",
        "    \"\"\"\n",
        "    bn放在激活函数前\n",
        "    model.add(keras.layers.Dense(100))\n",
        "    model.add(keras.layers.BatchNormalization())\n",
        "    model.add(keras.layers.Activation(\"relu\"))\n",
        "    \"\"\"\n",
        "model.add(keras.layers.Dense(10, activation=\"softmax\"))\n",
        "    \n",
        "# relu: y=max(0, x)\n",
        "# softmax: 将向量变为概率分布. x = [x1, x2, x3]\n",
        "#          y = [e^x1/sum, e^x2/sum, e^x3/sum]\n",
        "#          sum = e^x1 + e^x2 + e^x3\n",
        "\n",
        "# 第二种Sequential使用方式：\n",
        "# model = keras.model.Sequential([\n",
        "#     keras.layers.Flatten(input_shape = [28, 28]),\n",
        "#     keras.layers.Dense(300, activation='relu'),\n",
        "#     keras.layers.Dense(100, activation='relu'),\n",
        "#     keras.layers.Dense(10, activation='softmax')\n",
        "# ])\n",
        "\n",
        "\n",
        "# sparse的原因：因为y->index.\n",
        "model.compile(loss=\"sparse_categorical_crossentropy\",\n",
        "              optimizer = 'sgd',\n",
        "              metrics = ['accuracy'])\n"
      ],
      "execution_count": 0,
      "outputs": []
    },
    {
      "cell_type": "code",
      "metadata": {
        "id": "0JdT59XNrDXj",
        "colab_type": "code",
        "colab": {}
      },
      "source": [
        "# 第一层: [None, 784] * W + b -> [None, 300]\n",
        "# W.shape [784, 300], b.shape = [300, 1]"
      ],
      "execution_count": 0,
      "outputs": []
    },
    {
      "cell_type": "code",
      "metadata": {
        "id": "P9PM0CDOrV7j",
        "colab_type": "code",
        "outputId": "eb03ab86-f89e-4604-d284-bb314db40ad2",
        "colab": {
          "base_uri": "https://localhost:8080/",
          "height": 394
        }
      },
      "source": [
        "# Tensorboard, earlystopping, ModelCheckpoint\n",
        "logdir = './dnn-callbacks'\n",
        "if not os.path.exists(logdir):\n",
        "    os.mkdir(logdir)\n",
        "output_model_file = os.path.join(logdir,\n",
        "                                 \"fashion_mnist_model.h5\")\n",
        "\n",
        "callbacks = [\n",
        "    keras.callbacks.TensorBoard(logdir),\n",
        "    keras.callbacks.ModelCheckpoint(output_model_file,\n",
        "                                    save_best_only=True),\n",
        "    keras.callbacks.EarlyStopping(patience=5, min_delta=1e-3),\n",
        "]\n",
        "history = model.fit(x_train_scaled, y_train, epochs = 10,\n",
        "                    validation_data = (x_valid_scaled, y_valid),\n",
        "                    callbacks = callbacks)"
      ],
      "execution_count": 7,
      "outputs": [
        {
          "output_type": "stream",
          "text": [
            "Train on 55000 samples, validate on 5000 samples\n",
            "Epoch 1/10\n",
            "55000/55000 [==============================] - 24s 437us/sample - loss: 1.9400 - accuracy: 0.3588 - val_loss: 1.0553 - val_accuracy: 0.6314\n",
            "Epoch 2/10\n",
            "55000/55000 [==============================] - 22s 394us/sample - loss: 1.0764 - accuracy: 0.6268 - val_loss: 0.7805 - val_accuracy: 0.7194\n",
            "Epoch 3/10\n",
            "55000/55000 [==============================] - 23s 421us/sample - loss: 0.9408 - accuracy: 0.6666 - val_loss: 0.6906 - val_accuracy: 0.7482\n",
            "Epoch 4/10\n",
            "55000/55000 [==============================] - 22s 397us/sample - loss: 0.8635 - accuracy: 0.6951 - val_loss: 0.6311 - val_accuracy: 0.7714\n",
            "Epoch 5/10\n",
            "55000/55000 [==============================] - 23s 419us/sample - loss: 0.8104 - accuracy: 0.7109 - val_loss: 0.5932 - val_accuracy: 0.7968\n",
            "Epoch 6/10\n",
            "55000/55000 [==============================] - 25s 446us/sample - loss: 0.7739 - accuracy: 0.7255 - val_loss: 0.5625 - val_accuracy: 0.7988\n",
            "Epoch 7/10\n",
            "55000/55000 [==============================] - 23s 416us/sample - loss: 0.7273 - accuracy: 0.7411 - val_loss: 0.5363 - val_accuracy: 0.8084\n",
            "Epoch 8/10\n",
            "55000/55000 [==============================] - 22s 405us/sample - loss: 0.7041 - accuracy: 0.7494 - val_loss: 0.5212 - val_accuracy: 0.8144\n",
            "Epoch 9/10\n",
            "55000/55000 [==============================] - 23s 419us/sample - loss: 0.6802 - accuracy: 0.7581 - val_loss: 0.5102 - val_accuracy: 0.8154\n",
            "Epoch 10/10\n",
            "55000/55000 [==============================] - 24s 437us/sample - loss: 0.6562 - accuracy: 0.7673 - val_loss: 0.4959 - val_accuracy: 0.8204\n"
          ],
          "name": "stdout"
        }
      ]
    },
    {
      "cell_type": "code",
      "metadata": {
        "id": "zxEwPWYs2YZw",
        "colab_type": "code",
        "colab": {}
      },
      "source": [
        "!ls"
      ],
      "execution_count": 0,
      "outputs": []
    },
    {
      "cell_type": "code",
      "metadata": {
        "id": "S9atoy5A2byw",
        "colab_type": "code",
        "colab": {}
      },
      "source": [
        "!tensorboard --logdir=callbacks"
      ],
      "execution_count": 0,
      "outputs": []
    },
    {
      "cell_type": "code",
      "metadata": {
        "id": "Z2nx0e4WyP6o",
        "colab_type": "code",
        "outputId": "1e27b09f-9177-40fe-adf1-d0864c743f12",
        "colab": {
          "base_uri": "https://localhost:8080/",
          "height": 324
        }
      },
      "source": [
        "def plot_learning_curves(history):\n",
        "    pd.DataFrame(history.history).plot(figsize=(8, 5))\n",
        "    plt.grid(True)\n",
        "    plt.gca().set_ylim(0, 3)\n",
        "    plt.show()\n",
        "    \n",
        "plot_learning_curves(history)"
      ],
      "execution_count": 8,
      "outputs": [
        {
          "output_type": "display_data",
          "data": {
            "image/png": "[encoded data removed]",
            "text/plain": [
              "<Figure size 576x360 with 1 Axes>"
            ]
          },
          "metadata": {
            "tags": []
          }
        }
      ]
    },
    {
      "cell_type": "code",
      "metadata": {
        "id": "Xi_akrHXeWJc",
        "colab_type": "code",
        "colab": {}
      },
      "source": [
        "# 1. 参数众多，训练不充分\n",
        "# 2. 梯度消失 -> 原因：链式法则 -> 符合函数f(g(x))\n",
        "#    批归一化缓解梯度消失"
      ],
      "execution_count": 0,
      "outputs": []
    },
    {
      "cell_type": "code",
      "metadata": {
        "id": "p606-RsUygbH",
        "colab_type": "code",
        "outputId": "21626423-17ff-446c-aadf-c5ce4532bc1d",
        "colab": {
          "base_uri": "https://localhost:8080/",
          "height": 71
        }
      },
      "source": [
        "model.evaluate(x_test_scaled, y_test)"
      ],
      "execution_count": 10,
      "outputs": [
        {
          "output_type": "stream",
          "text": [
            "10000/10000 [==============================] - 2s 151us/sample - loss: 0.5327 - accuracy: 0.8050\n"
          ],
          "name": "stdout"
        },
        {
          "output_type": "execute_result",
          "data": {
            "text/plain": [
              "[0.5326743892908097, 0.805]"
            ]
          },
          "metadata": {
            "tags": []
          },
          "execution_count": 10
        }
      ]
    },
    {
      "cell_type": "code",
      "metadata": {
        "id": "s44wT1oPeTOW",
        "colab_type": "code",
        "colab": {}
      },
      "source": [
        ""
      ],
      "execution_count": 0,
      "outputs": []
    }
  ]
}