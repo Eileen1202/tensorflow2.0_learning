{
  "nbformat": 4,
  "nbformat_minor": 0,
  "metadata": {
    "colab": {
      "name": "text_generation.ipynb",
      "version": "0.3.2",
      "provenance": [],
      "collapsed_sections": [],
      "include_colab_link": true
    },
    "kernelspec": {
      "name": "python3",
      "display_name": "Python 3"
    },
    "accelerator": "GPU"
  },
  "cells": [
    {
      "cell_type": "markdown",
      "metadata": {
        "id": "view-in-github",
        "colab_type": "text"
      },
      "source": [
        "<a href=\"https://colab.research.google.com/github/vvshyer/tensorflow2.0_learning/blob/master/text_generation.ipynb\" target=\"_parent\"><img src=\"https://colab.research.google.com/assets/colab-badge.svg\" alt=\"Open In Colab\"/></a>"
      ]
    },
    {
      "cell_type": "code",
      "metadata": {
        "id": "a-WBVi9AvK5N",
        "colab_type": "code",
        "outputId": "d2979360-d90c-4378-fd58-3069386a7616",
        "colab": {
          "base_uri": "https://localhost:8080/",
          "height": 360
        }
      },
      "source": [
        "!pip install tensorflow-gpu==2.0.0-alpha0"
      ],
      "execution_count": 0,
      "outputs": [
        {
          "output_type": "stream",
          "text": [
            "Requirement already satisfied: tensorflow-gpu==2.0.0-alpha0 in /usr/local/lib/python3.6/dist-packages (2.0.0a0)\n",
            "Requirement already satisfied: tf-estimator-nightly<1.14.0.dev2019030116,>=1.14.0.dev2019030115 in /usr/local/lib/python3.6/dist-packages (from tensorflow-gpu==2.0.0-alpha0) (1.14.0.dev2019030115)\n",
            "Requirement already satisfied: keras-applications>=1.0.6 in /usr/local/lib/python3.6/dist-packages (from tensorflow-gpu==2.0.0-alpha0) (1.0.8)\n",
            "Requirement already satisfied: keras-preprocessing>=1.0.5 in /usr/local/lib/python3.6/dist-packages (from tensorflow-gpu==2.0.0-alpha0) (1.1.0)\n",
            "Requirement already satisfied: numpy<2.0,>=1.14.5 in /usr/local/lib/python3.6/dist-packages (from tensorflow-gpu==2.0.0-alpha0) (1.16.4)\n",
            "Requirement already satisfied: wheel>=0.26 in /usr/local/lib/python3.6/dist-packages (from tensorflow-gpu==2.0.0-alpha0) (0.33.4)\n",
            "Requirement already satisfied: astor>=0.6.0 in /usr/local/lib/python3.6/dist-packages (from tensorflow-gpu==2.0.0-alpha0) (0.8.0)\n",
            "Requirement already satisfied: termcolor>=1.1.0 in /usr/local/lib/python3.6/dist-packages (from tensorflow-gpu==2.0.0-alpha0) (1.1.0)\n",
            "Requirement already satisfied: absl-py>=0.7.0 in /usr/local/lib/python3.6/dist-packages (from tensorflow-gpu==2.0.0-alpha0) (0.7.1)\n",
            "Requirement already satisfied: grpcio>=1.8.6 in /usr/local/lib/python3.6/dist-packages (from tensorflow-gpu==2.0.0-alpha0) (1.15.0)\n",
            "Requirement already satisfied: gast>=0.2.0 in /usr/local/lib/python3.6/dist-packages (from tensorflow-gpu==2.0.0-alpha0) (0.2.2)\n",
            "Requirement already satisfied: google-pasta>=0.1.2 in /usr/local/lib/python3.6/dist-packages (from tensorflow-gpu==2.0.0-alpha0) (0.1.7)\n",
            "Requirement already satisfied: tb-nightly<1.14.0a20190302,>=1.14.0a20190301 in /usr/local/lib/python3.6/dist-packages (from tensorflow-gpu==2.0.0-alpha0) (1.14.0a20190301)\n",
            "Requirement already satisfied: six>=1.10.0 in /usr/local/lib/python3.6/dist-packages (from tensorflow-gpu==2.0.0-alpha0) (1.12.0)\n",
            "Requirement already satisfied: protobuf>=3.6.1 in /usr/local/lib/python3.6/dist-packages (from tensorflow-gpu==2.0.0-alpha0) (3.7.1)\n",
            "Requirement already satisfied: h5py in /usr/local/lib/python3.6/dist-packages (from keras-applications>=1.0.6->tensorflow-gpu==2.0.0-alpha0) (2.8.0)\n",
            "Requirement already satisfied: markdown>=2.6.8 in /usr/local/lib/python3.6/dist-packages (from tb-nightly<1.14.0a20190302,>=1.14.0a20190301->tensorflow-gpu==2.0.0-alpha0) (3.1.1)\n",
            "Requirement already satisfied: werkzeug>=0.11.15 in /usr/local/lib/python3.6/dist-packages (from tb-nightly<1.14.0a20190302,>=1.14.0a20190301->tensorflow-gpu==2.0.0-alpha0) (0.15.4)\n",
            "Requirement already satisfied: setuptools in /usr/local/lib/python3.6/dist-packages (from protobuf>=3.6.1->tensorflow-gpu==2.0.0-alpha0) (41.0.1)\n"
          ],
          "name": "stdout"
        }
      ]
    },
    {
      "cell_type": "code",
      "metadata": {
        "id": "D4orP3oGlPG5",
        "colab_type": "code",
        "outputId": "ff4d02c7-4323-4479-a129-d7a3ee96b85f",
        "colab": {
          "base_uri": "https://localhost:8080/",
          "height": 173
        }
      },
      "source": [
        "import matplotlib as mpl\n",
        "import matplotlib.pyplot as plt\n",
        "%matplotlib inline\n",
        "import numpy as np\n",
        "import sklearn\n",
        "import pandas as pd\n",
        "import os\n",
        "import sys\n",
        "import time\n",
        "import tensorflow as tf\n",
        "\n",
        "from tensorflow import keras\n",
        "\n",
        "print(tf.__version__)\n",
        "print(sys.version_info)\n",
        "for module in mpl, np, pd, sklearn, tf, keras:\n",
        "    print(module.__name__, module.__version__)"
      ],
      "execution_count": 1,
      "outputs": [
        {
          "output_type": "stream",
          "text": [
            "2.0.0-alpha0\n",
            "sys.version_info(major=3, minor=6, micro=8, releaselevel='final', serial=0)\n",
            "matplotlib 3.0.3\n",
            "numpy 1.16.4\n",
            "pandas 0.24.2\n",
            "sklearn 0.21.2\n",
            "tensorflow 2.0.0-alpha0\n",
            "tensorflow.python.keras.api._v2.keras 2.2.4-tf\n"
          ],
          "name": "stdout"
        }
      ]
    },
    {
      "cell_type": "code",
      "metadata": {
        "id": "zvZnT0otlaRe",
        "colab_type": "code",
        "colab": {
          "base_uri": "https://localhost:8080/",
          "height": 71
        },
        "outputId": "6cf0e906-bc38-43db-c04a-23efc8eb449d"
      },
      "source": [
        "path_to_file = tf.keras.utils.get_file('shakespeare.txt', 'https://storage.googleapis.com/download.tensorflow.org/data/shakespeare.txt')"
      ],
      "execution_count": 2,
      "outputs": [
        {
          "output_type": "stream",
          "text": [
            "Downloading data from https://storage.googleapis.com/download.tensorflow.org/data/shakespeare.txt\n",
            "1122304/1115394 [==============================] - 0s 0us/step\n"
          ],
          "name": "stdout"
        }
      ]
    },
    {
      "cell_type": "code",
      "metadata": {
        "id": "P49juUEYlu2l",
        "colab_type": "code",
        "outputId": "025eacf6-e5d7-4cfd-cf46-b1272518c4b2",
        "colab": {
          "base_uri": "https://localhost:8080/",
          "height": 170
        }
      },
      "source": [
        "text = open(path_to_file, 'r').read()\n",
        "\n",
        "print(len(text))\n",
        "print(text[0:100])"
      ],
      "execution_count": 3,
      "outputs": [
        {
          "output_type": "stream",
          "text": [
            "1115394\n",
            "First Citizen:\n",
            "Before we proceed any further, hear me speak.\n",
            "\n",
            "All:\n",
            "Speak, speak.\n",
            "\n",
            "First Citizen:\n",
            "You\n"
          ],
          "name": "stdout"
        }
      ]
    },
    {
      "cell_type": "code",
      "metadata": {
        "id": "kCLVbuL0meRY",
        "colab_type": "code",
        "outputId": "654333e7-0a3f-4c62-9aa2-61b4d39807cc",
        "colab": {
          "base_uri": "https://localhost:8080/",
          "height": 71
        }
      },
      "source": [
        "# 1. generate vocab\n",
        "# 2. build mapping char->id\n",
        "# 3. data -> id_data\n",
        "# 4. abcd -> bcd<eos>\n",
        "\n",
        "# 将字符串转为set\n",
        "vocab = sorted(set(text))\n",
        "\n",
        "print(len(vocab))\n",
        "print(vocab)"
      ],
      "execution_count": 4,
      "outputs": [
        {
          "output_type": "stream",
          "text": [
            "65\n",
            "['\\n', ' ', '!', '$', '&', \"'\", ',', '-', '.', '3', ':', ';', '?', 'A', 'B', 'C', 'D', 'E', 'F', 'G', 'H', 'I', 'J', 'K', 'L', 'M', 'N', 'O', 'P', 'Q', 'R', 'S', 'T', 'U', 'V', 'W', 'X', 'Y', 'Z', 'a', 'b', 'c', 'd', 'e', 'f', 'g', 'h', 'i', 'j', 'k', 'l', 'm', 'n', 'o', 'p', 'q', 'r', 's', 't', 'u', 'v', 'w', 'x', 'y', 'z']\n"
          ],
          "name": "stdout"
        }
      ]
    },
    {
      "cell_type": "code",
      "metadata": {
        "id": "1qI1Owq2m-Xw",
        "colab_type": "code",
        "outputId": "2f3730f5-4f34-4e7e-931c-2f4357d472ce",
        "colab": {
          "base_uri": "https://localhost:8080/",
          "height": 54
        }
      },
      "source": [
        "char2idx = {char:idx for idx, char in enumerate(vocab)}\n",
        "print(char2idx)"
      ],
      "execution_count": 5,
      "outputs": [
        {
          "output_type": "stream",
          "text": [
            "{'\\n': 0, ' ': 1, '!': 2, '$': 3, '&': 4, \"'\": 5, ',': 6, '-': 7, '.': 8, '3': 9, ':': 10, ';': 11, '?': 12, 'A': 13, 'B': 14, 'C': 15, 'D': 16, 'E': 17, 'F': 18, 'G': 19, 'H': 20, 'I': 21, 'J': 22, 'K': 23, 'L': 24, 'M': 25, 'N': 26, 'O': 27, 'P': 28, 'Q': 29, 'R': 30, 'S': 31, 'T': 32, 'U': 33, 'V': 34, 'W': 35, 'X': 36, 'Y': 37, 'Z': 38, 'a': 39, 'b': 40, 'c': 41, 'd': 42, 'e': 43, 'f': 44, 'g': 45, 'h': 46, 'i': 47, 'j': 48, 'k': 49, 'l': 50, 'm': 51, 'n': 52, 'o': 53, 'p': 54, 'q': 55, 'r': 56, 's': 57, 't': 58, 'u': 59, 'v': 60, 'w': 61, 'x': 62, 'y': 63, 'z': 64}\n"
          ],
          "name": "stdout"
        }
      ]
    },
    {
      "cell_type": "code",
      "metadata": {
        "id": "EVgbM2kunIm0",
        "colab_type": "code",
        "outputId": "72ec2ea5-1f29-4cc2-d5d4-46aed2e20d95",
        "colab": {
          "base_uri": "https://localhost:8080/",
          "height": 105
        }
      },
      "source": [
        "idx2char = np.array(vocab)\n",
        "print(idx2char)"
      ],
      "execution_count": 6,
      "outputs": [
        {
          "output_type": "stream",
          "text": [
            "['\\n' ' ' '!' '$' '&' \"'\" ',' '-' '.' '3' ':' ';' '?' 'A' 'B' 'C' 'D' 'E'\n",
            " 'F' 'G' 'H' 'I' 'J' 'K' 'L' 'M' 'N' 'O' 'P' 'Q' 'R' 'S' 'T' 'U' 'V' 'W'\n",
            " 'X' 'Y' 'Z' 'a' 'b' 'c' 'd' 'e' 'f' 'g' 'h' 'i' 'j' 'k' 'l' 'm' 'n' 'o'\n",
            " 'p' 'q' 'r' 's' 't' 'u' 'v' 'w' 'x' 'y' 'z']\n"
          ],
          "name": "stdout"
        }
      ]
    },
    {
      "cell_type": "code",
      "metadata": {
        "id": "s7mVevcBnR6k",
        "colab_type": "code",
        "outputId": "235665de-e4a0-4972-89b3-865fb11e6563",
        "colab": {
          "base_uri": "https://localhost:8080/",
          "height": 51
        }
      },
      "source": [
        "text_as_int = np.array([char2idx[c] for c in text])\n",
        "print(text_as_int[0:10])\n",
        "print(text[0:10])\n"
      ],
      "execution_count": 7,
      "outputs": [
        {
          "output_type": "stream",
          "text": [
            "[18 47 56 57 58  1 15 47 58 47]\n",
            "First Citi\n"
          ],
          "name": "stdout"
        }
      ]
    },
    {
      "cell_type": "code",
      "metadata": {
        "id": "b0OCkcBdna4i",
        "colab_type": "code",
        "outputId": "3baf1478-6d1f-4e49-df6d-f4d206224a4b",
        "colab": {
          "base_uri": "https://localhost:8080/",
          "height": 309
        }
      },
      "source": [
        "def split_input_target(id_text):\n",
        "    # abcde -> abcd, bcde\n",
        "    return id_text[0:-1], id_text[1:]\n",
        "\n",
        "char_dataset = tf.data.Dataset.from_tensor_slices(text_as_int)\n",
        "seq_length = 100\n",
        "seq_dataset = char_dataset.batch(seq_length + 1, \n",
        "                                 drop_remainder = True)\n",
        "for ch_id in char_dataset.take(2):\n",
        "    print(ch_id, idx2char[ch_id.numpy()])\n",
        "    \n",
        "for seq_id in seq_dataset.take(2):\n",
        "    print(seq_id)\n",
        "    print(repr(''.join(idx2char[seq_id.numpy()])))\n"
      ],
      "execution_count": 8,
      "outputs": [
        {
          "output_type": "stream",
          "text": [
            "tf.Tensor(18, shape=(), dtype=int64) F\n",
            "tf.Tensor(47, shape=(), dtype=int64) i\n",
            "tf.Tensor(\n",
            "[18 47 56 57 58  1 15 47 58 47 64 43 52 10  0 14 43 44 53 56 43  1 61 43\n",
            "  1 54 56 53 41 43 43 42  1 39 52 63  1 44 59 56 58 46 43 56  6  1 46 43\n",
            " 39 56  1 51 43  1 57 54 43 39 49  8  0  0 13 50 50 10  0 31 54 43 39 49\n",
            "  6  1 57 54 43 39 49  8  0  0 18 47 56 57 58  1 15 47 58 47 64 43 52 10\n",
            "  0 37 53 59  1], shape=(101,), dtype=int64)\n",
            "'First Citizen:\\nBefore we proceed any further, hear me speak.\\n\\nAll:\\nSpeak, speak.\\n\\nFirst Citizen:\\nYou '\n",
            "tf.Tensor(\n",
            "[39 56 43  1 39 50 50  1 56 43 57 53 50 60 43 42  1 56 39 58 46 43 56  1\n",
            " 58 53  1 42 47 43  1 58 46 39 52  1 58 53  1 44 39 51 47 57 46 12  0  0\n",
            " 13 50 50 10  0 30 43 57 53 50 60 43 42  8  1 56 43 57 53 50 60 43 42  8\n",
            "  0  0 18 47 56 57 58  1 15 47 58 47 64 43 52 10  0 18 47 56 57 58  6  1\n",
            " 63 53 59  1 49], shape=(101,), dtype=int64)\n",
            "'are all resolved rather to die than to famish?\\n\\nAll:\\nResolved. resolved.\\n\\nFirst Citizen:\\nFirst, you k'\n"
          ],
          "name": "stdout"
        }
      ]
    },
    {
      "cell_type": "code",
      "metadata": {
        "id": "rx7hGFc0npGf",
        "colab_type": "code",
        "outputId": "5143684b-046c-4a67-bb74-4567c8562d8b",
        "colab": {
          "base_uri": "https://localhost:8080/",
          "height": 377
        }
      },
      "source": [
        "seq_dataset = seq_dataset.map(split_input_target)\n",
        "\n",
        "for item_input, item_output in seq_dataset.take(2):\n",
        "    print(item_input.numpy())\n",
        "    print(item_output.numpy())"
      ],
      "execution_count": 9,
      "outputs": [
        {
          "output_type": "stream",
          "text": [
            "[18 47 56 57 58  1 15 47 58 47 64 43 52 10  0 14 43 44 53 56 43  1 61 43\n",
            "  1 54 56 53 41 43 43 42  1 39 52 63  1 44 59 56 58 46 43 56  6  1 46 43\n",
            " 39 56  1 51 43  1 57 54 43 39 49  8  0  0 13 50 50 10  0 31 54 43 39 49\n",
            "  6  1 57 54 43 39 49  8  0  0 18 47 56 57 58  1 15 47 58 47 64 43 52 10\n",
            "  0 37 53 59]\n",
            "[47 56 57 58  1 15 47 58 47 64 43 52 10  0 14 43 44 53 56 43  1 61 43  1\n",
            " 54 56 53 41 43 43 42  1 39 52 63  1 44 59 56 58 46 43 56  6  1 46 43 39\n",
            " 56  1 51 43  1 57 54 43 39 49  8  0  0 13 50 50 10  0 31 54 43 39 49  6\n",
            "  1 57 54 43 39 49  8  0  0 18 47 56 57 58  1 15 47 58 47 64 43 52 10  0\n",
            " 37 53 59  1]\n",
            "[39 56 43  1 39 50 50  1 56 43 57 53 50 60 43 42  1 56 39 58 46 43 56  1\n",
            " 58 53  1 42 47 43  1 58 46 39 52  1 58 53  1 44 39 51 47 57 46 12  0  0\n",
            " 13 50 50 10  0 30 43 57 53 50 60 43 42  8  1 56 43 57 53 50 60 43 42  8\n",
            "  0  0 18 47 56 57 58  1 15 47 58 47 64 43 52 10  0 18 47 56 57 58  6  1\n",
            " 63 53 59  1]\n",
            "[56 43  1 39 50 50  1 56 43 57 53 50 60 43 42  1 56 39 58 46 43 56  1 58\n",
            " 53  1 42 47 43  1 58 46 39 52  1 58 53  1 44 39 51 47 57 46 12  0  0 13\n",
            " 50 50 10  0 30 43 57 53 50 60 43 42  8  1 56 43 57 53 50 60 43 42  8  0\n",
            "  0 18 47 56 57 58  1 15 47 58 47 64 43 52 10  0 18 47 56 57 58  6  1 63\n",
            " 53 59  1 49]\n"
          ],
          "name": "stdout"
        }
      ]
    },
    {
      "cell_type": "code",
      "metadata": {
        "id": "Q39f4ThGoiDY",
        "colab_type": "code",
        "colab": {}
      },
      "source": [
        "batch_size = 64\n",
        "buffer_size = 10000\n",
        "\n",
        "seq_dataset = seq_dataset.shuffle(buffer_size).batch(\n",
        "    batch_size, drop_remainder=True)"
      ],
      "execution_count": 0,
      "outputs": []
    },
    {
      "cell_type": "code",
      "metadata": {
        "id": "A7tf_d6spDY6",
        "colab_type": "code",
        "outputId": "6a304b61-4bc9-4bc7-ebea-5d63d04be07e",
        "colab": {
          "base_uri": "https://localhost:8080/",
          "height": 255
        }
      },
      "source": [
        "vocab_size = len(vocab)\n",
        "embedding_dim = 256\n",
        "rnn_units = 1024\n",
        "\n",
        "def build_model(vocab_size, embedding_dim, rnn_units, batch_size):\n",
        "    model = keras.models.Sequential([\n",
        "        keras.layers.Embedding(vocab_size, embedding_dim,\n",
        "                               batch_input_shape = [batch_size, None]),\n",
        "        keras.layers.SimpleRNN(units = rnn_units,\n",
        "                               return_sequences = True),\n",
        "        keras.layers.Dense(vocab_size)\n",
        "    ])\n",
        "    \n",
        "    return model\n",
        "\n",
        "model = build_model(\n",
        "    vocab_size = vocab_size,\n",
        "    embedding_dim = embedding_dim,\n",
        "    rnn_units = rnn_units, \n",
        "    batch_size = batch_size)\n",
        "\n",
        "model.summary()"
      ],
      "execution_count": 11,
      "outputs": [
        {
          "output_type": "stream",
          "text": [
            "Model: \"sequential\"\n",
            "_________________________________________________________________\n",
            "Layer (type)                 Output Shape              Param #   \n",
            "=================================================================\n",
            "embedding (Embedding)        (64, None, 256)           16640     \n",
            "_________________________________________________________________\n",
            "simple_rnn (SimpleRNN)       (64, None, 1024)          1311744   \n",
            "_________________________________________________________________\n",
            "dense (Dense)                (64, None, 65)            66625     \n",
            "=================================================================\n",
            "Total params: 1,395,009\n",
            "Trainable params: 1,395,009\n",
            "Non-trainable params: 0\n",
            "_________________________________________________________________\n"
          ],
          "name": "stdout"
        }
      ]
    },
    {
      "cell_type": "code",
      "metadata": {
        "id": "dXrCpxcbt62u",
        "colab_type": "code",
        "outputId": "c7b6a048-4f1f-4e5b-a21a-c90b226b7fcc",
        "colab": {
          "base_uri": "https://localhost:8080/",
          "height": 34
        }
      },
      "source": [
        "for input_example_batch, target_example_batch in seq_dataset.take(1):\n",
        "    example_batch_predictions = model(input_example_batch)\n",
        "    print(example_batch_predictions.shape)"
      ],
      "execution_count": 12,
      "outputs": [
        {
          "output_type": "stream",
          "text": [
            "(64, 100, 65)\n"
          ],
          "name": "stdout"
        }
      ]
    },
    {
      "cell_type": "code",
      "metadata": {
        "id": "wAeFqSwiuOtu",
        "colab_type": "code",
        "outputId": "c8bb89d0-ecf2-40c2-fc19-12212dcc1aca",
        "colab": {
          "base_uri": "https://localhost:8080/",
          "height": 1000
        }
      },
      "source": [
        "# random sampling. \n",
        "# greedy策略; random策略.\n",
        "sample_indices = tf.random.categorical(\n",
        "    logits = example_batch_predictions[0], num_samples = 1)\n",
        "print(sample_indices)\n",
        "# (100, 65) -> (100, 1)\n",
        "sample_indices = tf.squeeze(sample_indices, axis = -1)\n",
        "print(sample_indices)"
      ],
      "execution_count": 13,
      "outputs": [
        {
          "output_type": "stream",
          "text": [
            "tf.Tensor(\n",
            "[[ 9]\n",
            " [57]\n",
            " [58]\n",
            " [32]\n",
            " [60]\n",
            " [52]\n",
            " [52]\n",
            " [58]\n",
            " [56]\n",
            " [30]\n",
            " [ 2]\n",
            " [48]\n",
            " [60]\n",
            " [14]\n",
            " [24]\n",
            " [ 1]\n",
            " [ 1]\n",
            " [47]\n",
            " [25]\n",
            " [32]\n",
            " [43]\n",
            " [45]\n",
            " [ 6]\n",
            " [64]\n",
            " [26]\n",
            " [ 4]\n",
            " [ 0]\n",
            " [14]\n",
            " [62]\n",
            " [14]\n",
            " [62]\n",
            " [53]\n",
            " [27]\n",
            " [33]\n",
            " [61]\n",
            " [61]\n",
            " [37]\n",
            " [21]\n",
            " [58]\n",
            " [51]\n",
            " [30]\n",
            " [16]\n",
            " [ 4]\n",
            " [41]\n",
            " [54]\n",
            " [45]\n",
            " [47]\n",
            " [56]\n",
            " [25]\n",
            " [24]\n",
            " [43]\n",
            " [ 0]\n",
            " [ 8]\n",
            " [33]\n",
            " [ 0]\n",
            " [55]\n",
            " [22]\n",
            " [64]\n",
            " [63]\n",
            " [15]\n",
            " [44]\n",
            " [16]\n",
            " [37]\n",
            " [ 1]\n",
            " [24]\n",
            " [31]\n",
            " [56]\n",
            " [ 2]\n",
            " [27]\n",
            " [33]\n",
            " [ 4]\n",
            " [39]\n",
            " [32]\n",
            " [15]\n",
            " [12]\n",
            " [63]\n",
            " [ 1]\n",
            " [52]\n",
            " [63]\n",
            " [53]\n",
            " [14]\n",
            " [34]\n",
            " [ 6]\n",
            " [16]\n",
            " [28]\n",
            " [12]\n",
            " [49]\n",
            " [64]\n",
            " [61]\n",
            " [49]\n",
            " [48]\n",
            " [32]\n",
            " [27]\n",
            " [25]\n",
            " [39]\n",
            " [55]\n",
            " [59]\n",
            " [57]\n",
            " [52]\n",
            " [57]], shape=(100, 1), dtype=int64)\n",
            "tf.Tensor(\n",
            "[ 9 57 58 32 60 52 52 58 56 30  2 48 60 14 24  1  1 47 25 32 43 45  6 64\n",
            " 26  4  0 14 62 14 62 53 27 33 61 61 37 21 58 51 30 16  4 41 54 45 47 56\n",
            " 25 24 43  0  8 33  0 55 22 64 63 15 44 16 37  1 24 31 56  2 27 33  4 39\n",
            " 32 15 12 63  1 52 63 53 14 34  6 16 28 12 49 64 61 49 48 32 27 25 39 55\n",
            " 59 57 52 57], shape=(100,), dtype=int64)\n"
          ],
          "name": "stdout"
        }
      ]
    },
    {
      "cell_type": "code",
      "metadata": {
        "id": "uWx2ueIYybuC",
        "colab_type": "code",
        "outputId": "c885c587-31e4-4c5b-b4cf-3f74115e9e03",
        "colab": {
          "base_uri": "https://localhost:8080/",
          "height": 122
        }
      },
      "source": [
        "print(\"Input: \", repr(\"\".join(idx2char[input_example_batch[0]])))\n",
        "print()\n",
        "print(\"Output: \", repr(\"\".join(idx2char[target_example_batch[0]])))\n",
        "print()\n",
        "print(\"Predictions: \", repr(\"\".join(idx2char[sample_indices])))"
      ],
      "execution_count": 14,
      "outputs": [
        {
          "output_type": "stream",
          "text": [
            "Input:  'ord: what is thy will with her?\\n\\nSLY:\\nAre you my wife and will not call me husband?\\nMy men should ca'\n",
            "\n",
            "Output:  'rd: what is thy will with her?\\n\\nSLY:\\nAre you my wife and will not call me husband?\\nMy men should cal'\n",
            "\n",
            "Predictions:  '3stTvnntrR!jvBL  iMTeg,zN&\\nBxBxoOUwwYItmRD&cpgirMLe\\n.U\\nqJzyCfDY LSr!OU&aTC?y nyoBV,DP?kzwkjTOMaqusns'\n"
          ],
          "name": "stdout"
        }
      ]
    },
    {
      "cell_type": "code",
      "metadata": {
        "id": "NGHALQFszCg9",
        "colab_type": "code",
        "colab": {}
      },
      "source": [
        "def loss(labels, logits):\n",
        "    return keras.losses.sparse_categorical_crossentropy(\n",
        "        labels, logits, from_logits=True)"
      ],
      "execution_count": 0,
      "outputs": []
    },
    {
      "cell_type": "code",
      "metadata": {
        "id": "zSIHZOO-3az3",
        "colab_type": "code",
        "outputId": "8336cc76-64cf-4b98-8e14-7dec001d2a0d",
        "colab": {
          "base_uri": "https://localhost:8080/",
          "height": 51
        }
      },
      "source": [
        "model.compile(optimizer = 'adam', loss = loss)\n",
        "\n",
        "example_loss = loss(target_example_batch, example_batch_predictions)\n",
        "print(example_loss.shape)\n",
        "print(example_loss.numpy().mean())"
      ],
      "execution_count": 16,
      "outputs": [
        {
          "output_type": "stream",
          "text": [
            "(64, 100)\n",
            "4.1808476\n"
          ],
          "name": "stdout"
        }
      ]
    },
    {
      "cell_type": "code",
      "metadata": {
        "id": "Z7VFMrb93mEl",
        "colab_type": "code",
        "outputId": "460eb054-e56c-416b-c4df-faf4a33b1d6f",
        "colab": {
          "base_uri": "https://localhost:8080/",
          "height": 1000
        }
      },
      "source": [
        "output_dir = \"./text_generation_checkpoints\"\n",
        "if not os.path.exists(output_dir):\n",
        "    os.mkdir(output_dir)\n",
        "    \n",
        "checkpoint_prefix = os.path.join(output_dir, 'ckpt_{epoch}')\n",
        "checkpoint_callback = keras.callbacks.ModelCheckpoint(\n",
        "    filepath = checkpoint_prefix,\n",
        "    save_weights_only = True)\n",
        "\n",
        "epochs = 100\n",
        "\n",
        "history = model.fit(seq_dataset, epochs = epochs,\n",
        "                    callbacks = [checkpoint_callback])"
      ],
      "execution_count": 17,
      "outputs": [
        {
          "output_type": "stream",
          "text": [
            "Epoch 1/100\n",
            "172/172 [==============================] - 54s 313ms/step - loss: 2.7390\n",
            "Epoch 2/100\n",
            "172/172 [==============================] - 53s 308ms/step - loss: 2.0767\n",
            "Epoch 3/100\n",
            "172/172 [==============================] - 54s 312ms/step - loss: 1.8480\n",
            "Epoch 4/100\n",
            "172/172 [==============================] - 53s 311ms/step - loss: 1.7030\n",
            "Epoch 5/100\n",
            "172/172 [==============================] - 54s 312ms/step - loss: 1.6073\n",
            "Epoch 6/100\n",
            "172/172 [==============================] - 54s 314ms/step - loss: 1.5412\n",
            "Epoch 7/100\n",
            "172/172 [==============================] - 53s 310ms/step - loss: 1.4928\n",
            "Epoch 8/100\n",
            "172/172 [==============================] - 54s 311ms/step - loss: 1.4555\n",
            "Epoch 9/100\n",
            "172/172 [==============================] - 53s 310ms/step - loss: 1.4271\n",
            "Epoch 10/100\n",
            "172/172 [==============================] - 53s 311ms/step - loss: 1.4028\n",
            "Epoch 11/100\n",
            "172/172 [==============================] - 53s 311ms/step - loss: 1.3816\n",
            "Epoch 12/100\n",
            "172/172 [==============================] - 54s 311ms/step - loss: 1.3650\n",
            "Epoch 13/100\n",
            "172/172 [==============================] - 53s 307ms/step - loss: 1.3484\n",
            "Epoch 14/100\n",
            "172/172 [==============================] - 53s 308ms/step - loss: 1.3334\n",
            "Epoch 15/100\n",
            "172/172 [==============================] - 53s 309ms/step - loss: 1.3190\n",
            "Epoch 16/100\n",
            "172/172 [==============================] - 53s 308ms/step - loss: 1.3099\n",
            "Epoch 17/100\n",
            "172/172 [==============================] - 53s 306ms/step - loss: 1.3023\n",
            "Epoch 18/100\n",
            "172/172 [==============================] - 53s 306ms/step - loss: 1.2920\n",
            "Epoch 19/100\n",
            "172/172 [==============================] - 53s 307ms/step - loss: 1.2854\n",
            "Epoch 20/100\n",
            "172/172 [==============================] - 54s 313ms/step - loss: 1.2800\n",
            "Epoch 21/100\n",
            "172/172 [==============================] - 53s 307ms/step - loss: 1.2731\n",
            "Epoch 22/100\n",
            "172/172 [==============================] - 53s 307ms/step - loss: 1.2673\n",
            "Epoch 23/100\n",
            "172/172 [==============================] - 53s 305ms/step - loss: 1.2636\n",
            "Epoch 24/100\n",
            "172/172 [==============================] - 52s 302ms/step - loss: 1.2591\n",
            "Epoch 25/100\n",
            "172/172 [==============================] - 52s 304ms/step - loss: 1.2522\n",
            "Epoch 26/100\n",
            "172/172 [==============================] - 52s 303ms/step - loss: 1.2473\n",
            "Epoch 27/100\n",
            "172/172 [==============================] - 51s 297ms/step - loss: 1.2444\n",
            "Epoch 28/100\n",
            "172/172 [==============================] - 51s 299ms/step - loss: 1.2422\n",
            "Epoch 29/100\n",
            "172/172 [==============================] - 52s 300ms/step - loss: 1.2372\n",
            "Epoch 30/100\n",
            "172/172 [==============================] - 52s 303ms/step - loss: 1.2283\n",
            "Epoch 31/100\n",
            "172/172 [==============================] - 52s 305ms/step - loss: 1.2212\n",
            "Epoch 32/100\n",
            "172/172 [==============================] - 53s 305ms/step - loss: 1.2171\n",
            "Epoch 33/100\n",
            "172/172 [==============================] - 52s 302ms/step - loss: 1.2148\n",
            "Epoch 34/100\n",
            "172/172 [==============================] - 52s 300ms/step - loss: 1.2112\n",
            "Epoch 35/100\n",
            "172/172 [==============================] - 52s 301ms/step - loss: 1.2077\n",
            "Epoch 36/100\n",
            "172/172 [==============================] - 52s 300ms/step - loss: 1.2063\n",
            "Epoch 37/100\n",
            "172/172 [==============================] - 52s 302ms/step - loss: 1.2020\n",
            "Epoch 38/100\n",
            "172/172 [==============================] - 52s 304ms/step - loss: 1.1997\n",
            "Epoch 39/100\n",
            "172/172 [==============================] - 52s 303ms/step - loss: 1.1978\n",
            "Epoch 40/100\n",
            "172/172 [==============================] - 52s 303ms/step - loss: 1.1956\n",
            "Epoch 41/100\n",
            "172/172 [==============================] - 52s 302ms/step - loss: 1.1917\n",
            "Epoch 42/100\n",
            "172/172 [==============================] - 52s 300ms/step - loss: 1.1904\n",
            "Epoch 43/100\n",
            "172/172 [==============================] - 51s 297ms/step - loss: 1.1915\n",
            "Epoch 44/100\n",
            "172/172 [==============================] - 52s 304ms/step - loss: 1.1919\n",
            "Epoch 45/100\n",
            "172/172 [==============================] - 52s 303ms/step - loss: 1.1852\n",
            "Epoch 46/100\n",
            "172/172 [==============================] - 52s 300ms/step - loss: 1.1814\n",
            "Epoch 47/100\n",
            "172/172 [==============================] - 52s 300ms/step - loss: 1.1787\n",
            "Epoch 48/100\n",
            "172/172 [==============================] - 51s 299ms/step - loss: 1.1779\n",
            "Epoch 49/100\n",
            "172/172 [==============================] - 52s 302ms/step - loss: 1.1772\n",
            "Epoch 50/100\n",
            "172/172 [==============================] - 52s 302ms/step - loss: 1.1734\n",
            "Epoch 51/100\n",
            "172/172 [==============================] - 52s 302ms/step - loss: 1.1703\n",
            "Epoch 52/100\n",
            "172/172 [==============================] - 55s 319ms/step - loss: 1.1674\n",
            "Epoch 53/100\n",
            "172/172 [==============================] - 52s 304ms/step - loss: 1.1669\n",
            "Epoch 54/100\n",
            "172/172 [==============================] - 52s 303ms/step - loss: 1.1630\n",
            "Epoch 55/100\n",
            "172/172 [==============================] - 52s 303ms/step - loss: 1.1598\n",
            "Epoch 56/100\n",
            "172/172 [==============================] - 53s 307ms/step - loss: 1.1560\n",
            "Epoch 57/100\n",
            "172/172 [==============================] - 53s 305ms/step - loss: 1.1537\n",
            "Epoch 58/100\n",
            "172/172 [==============================] - 53s 306ms/step - loss: 1.1526\n",
            "Epoch 59/100\n",
            "172/172 [==============================] - 53s 309ms/step - loss: 1.1533\n",
            "Epoch 60/100\n",
            "172/172 [==============================] - 53s 311ms/step - loss: 1.1537\n",
            "Epoch 61/100\n",
            "172/172 [==============================] - 54s 312ms/step - loss: 1.1545\n",
            "Epoch 62/100\n",
            "172/172 [==============================] - 53s 311ms/step - loss: 1.1520\n",
            "Epoch 63/100\n",
            "172/172 [==============================] - 54s 311ms/step - loss: 1.1499\n",
            "Epoch 64/100\n",
            "172/172 [==============================] - 53s 309ms/step - loss: 1.1495\n",
            "Epoch 65/100\n",
            "172/172 [==============================] - 53s 308ms/step - loss: 1.1512\n",
            "Epoch 66/100\n",
            "172/172 [==============================] - 54s 311ms/step - loss: 1.1503\n",
            "Epoch 67/100\n",
            "172/172 [==============================] - 53s 310ms/step - loss: 1.1527\n",
            "Epoch 68/100\n",
            "172/172 [==============================] - 54s 314ms/step - loss: 1.1517\n",
            "Epoch 69/100\n",
            "172/172 [==============================] - 54s 312ms/step - loss: 1.1502\n",
            "Epoch 70/100\n",
            "172/172 [==============================] - 52s 305ms/step - loss: 1.1497\n",
            "Epoch 71/100\n",
            "172/172 [==============================] - 53s 308ms/step - loss: 1.1535\n",
            "Epoch 72/100\n",
            "172/172 [==============================] - 53s 306ms/step - loss: 1.1531\n",
            "Epoch 73/100\n",
            "172/172 [==============================] - 53s 307ms/step - loss: 1.1519\n",
            "Epoch 74/100\n",
            "172/172 [==============================] - 53s 307ms/step - loss: 1.1515\n",
            "Epoch 75/100\n",
            "172/172 [==============================] - 53s 307ms/step - loss: 1.1497\n",
            "Epoch 76/100\n",
            "172/172 [==============================] - 53s 306ms/step - loss: 1.1485\n",
            "Epoch 77/100\n",
            "172/172 [==============================] - 53s 308ms/step - loss: 1.1494\n",
            "Epoch 78/100\n",
            "172/172 [==============================] - 53s 308ms/step - loss: 1.1499\n",
            "Epoch 79/100\n",
            "172/172 [==============================] - 53s 307ms/step - loss: 1.1506\n",
            "Epoch 80/100\n",
            "172/172 [==============================] - 53s 307ms/step - loss: 1.1523\n",
            "Epoch 81/100\n",
            "172/172 [==============================] - 53s 309ms/step - loss: 1.1535\n",
            "Epoch 82/100\n",
            "172/172 [==============================] - 53s 306ms/step - loss: 1.1537\n",
            "Epoch 83/100\n",
            "172/172 [==============================] - 53s 306ms/step - loss: 1.1542\n",
            "Epoch 84/100\n",
            "172/172 [==============================] - 53s 309ms/step - loss: 1.1564\n",
            "Epoch 85/100\n",
            "172/172 [==============================] - 59s 342ms/step - loss: 1.1530\n",
            "Epoch 86/100\n",
            "172/172 [==============================] - 53s 311ms/step - loss: 1.1544\n",
            "Epoch 87/100\n",
            "172/172 [==============================] - 54s 313ms/step - loss: 1.1543\n",
            "Epoch 88/100\n",
            "172/172 [==============================] - 53s 311ms/step - loss: 1.1561\n",
            "Epoch 89/100\n",
            "172/172 [==============================] - 54s 314ms/step - loss: 1.1559\n",
            "Epoch 90/100\n",
            "172/172 [==============================] - 54s 312ms/step - loss: 1.1564\n",
            "Epoch 91/100\n",
            "172/172 [==============================] - 53s 309ms/step - loss: 1.1594\n",
            "Epoch 92/100\n",
            "172/172 [==============================] - 54s 313ms/step - loss: 1.1609\n",
            "Epoch 93/100\n",
            "172/172 [==============================] - 53s 307ms/step - loss: 1.1628\n",
            "Epoch 94/100\n",
            "172/172 [==============================] - 54s 312ms/step - loss: 1.1646\n",
            "Epoch 95/100\n",
            "172/172 [==============================] - 54s 313ms/step - loss: 1.1614\n",
            "Epoch 96/100\n",
            "172/172 [==============================] - 53s 310ms/step - loss: 1.1655\n",
            "Epoch 97/100\n",
            "172/172 [==============================] - 53s 307ms/step - loss: 1.1608\n",
            "Epoch 98/100\n",
            "172/172 [==============================] - 53s 306ms/step - loss: 1.1621\n",
            "Epoch 99/100\n",
            "172/172 [==============================] - 53s 307ms/step - loss: 1.1644\n",
            "Epoch 100/100\n",
            "172/172 [==============================] - 53s 306ms/step - loss: 1.1713\n"
          ],
          "name": "stdout"
        }
      ]
    },
    {
      "cell_type": "code",
      "metadata": {
        "id": "r-NY23Hc6Lom",
        "colab_type": "code",
        "colab": {
          "base_uri": "https://localhost:8080/",
          "height": 34
        },
        "outputId": "3f50a76d-fa83-43ed-8b3a-fb4641e413bd"
      },
      "source": [
        "tf.train.latest_checkpoint(output_dir)"
      ],
      "execution_count": 18,
      "outputs": [
        {
          "output_type": "execute_result",
          "data": {
            "text/plain": [
              "'./text_generation_checkpoints/ckpt_100'"
            ]
          },
          "metadata": {
            "tags": []
          },
          "execution_count": 18
        }
      ]
    },
    {
      "cell_type": "code",
      "metadata": {
        "id": "e6xuSD-UHUNB",
        "colab_type": "code",
        "colab": {
          "base_uri": "https://localhost:8080/",
          "height": 255
        },
        "outputId": "f38cfbcb-a11e-40e1-9f39-6087b1067443"
      },
      "source": [
        "model2 = build_model(vocab_size,\n",
        "                     embedding_dim,\n",
        "                     rnn_units,\n",
        "                     batch_size = 1)\n",
        "model2.load_weights(tf.train.latest_checkpoint(output_dir))\n",
        "model2.build(tf.TensorShape([1, None]))\n",
        "# start ch sequence A,\n",
        "# A -> model -> b\n",
        "# A.append(b) -> B\n",
        "# B(Ab) -> model ->c\n",
        "# B.append(c) -> C\n",
        "# C(Abc) -> model -> ..\n",
        "model2.summary()"
      ],
      "execution_count": 19,
      "outputs": [
        {
          "output_type": "stream",
          "text": [
            "Model: \"sequential_1\"\n",
            "_________________________________________________________________\n",
            "Layer (type)                 Output Shape              Param #   \n",
            "=================================================================\n",
            "embedding_1 (Embedding)      (1, None, 256)            16640     \n",
            "_________________________________________________________________\n",
            "simple_rnn_1 (SimpleRNN)     (1, None, 1024)           1311744   \n",
            "_________________________________________________________________\n",
            "dense_1 (Dense)              (1, None, 65)             66625     \n",
            "=================================================================\n",
            "Total params: 1,395,009\n",
            "Trainable params: 1,395,009\n",
            "Non-trainable params: 0\n",
            "_________________________________________________________________\n"
          ],
          "name": "stdout"
        }
      ]
    },
    {
      "cell_type": "code",
      "metadata": {
        "id": "WNEPwXM7HzxV",
        "colab_type": "code",
        "colab": {
          "base_uri": "https://localhost:8080/",
          "height": 547
        },
        "outputId": "acbee0dd-54df-4ed9-8bbf-6106a1beb3bd"
      },
      "source": [
        "def generate_text(model, start_string, num_generate=1000):\n",
        "    input_eval = [char2idx[ch] for ch in start_string]\n",
        "    input_eval = tf.expand_dims(input_eval, 0)\n",
        "    text_generated = []\n",
        "    model.reset_states()\n",
        "    \n",
        "    for _ in range(num_generate):\n",
        "        # 1. model inference -> predictions\n",
        "        # predictions: [batch_size, input_eval_len, vocab_size]\n",
        "        predictions = model(input_eval)\n",
        "        # predictions: [input_eval_len, vocab_size]\n",
        "        predictions = tf.squeeze(predictions, 0)\n",
        "        # predictions: [input_eval_len, 1]\n",
        "        predicted_id = tf.random.categorical(\n",
        "            predictions, num_samples = 1)[-1, 0].numpy()\n",
        "        text_generated.append(idx2char[predicted_id])\n",
        "        # s, x -> rnn -> s', y\n",
        "        input_eval = tf.expand_dims([predicted_id], 0)\n",
        "    return start_string + ''.join(text_generated)\n",
        "\n",
        "new_text = generate_text(model2, \"All\")\n",
        "        # 2. sample -> ch ->text_generated.\n",
        "        # 3. undate input_eval\n",
        "print(new_text)"
      ],
      "execution_count": 22,
      "outputs": [
        {
          "output_type": "stream",
          "text": [
            "All tlver\n",
            "I sth de at bundime ds hat thake d haf he hie, OMEOME me che! n mmouthitralf ay, tlaton, veearofy, l pamupre chenghyou ier astheacont dobe. atlea be thapaliee wheat'da ix of NESTher y, th acow te'\n",
            "'d:\n",
            "\n",
            "IOMNUCie t s int'! Ison tan d bowiname;\n",
            "ASIsell.\n",
            "I no CA:\n",
            "\n",
            "\n",
            "'s ceromors coonoute s atyoze n kighthnge horamixell litoulegathof t r ntitheritt? lap d t ufupprg mor thmmashas pionth! dof arr ars hamme the t p lldrentarow s withaby ag thanourathee s t?\n",
            "I in IEro therers, ERWhenoouthithito t sh owh Whofa breshil tho llup IINothioullthit!\n",
            "Ty's:\n",
            "IRCHoukith nul OFit\n",
            "BERI ralon:\n",
            "\n",
            "HOf: wine igborye'd andup sarasifure ICUCA, iote ser: h.\n",
            "Tho as tothe ther d, CUF:\n",
            "Mafel o d f ica t' w. me y nd, t me tas tharaleran;\n",
            "STHAs th byore at ind tht\n",
            "\n",
            "K:\n",
            "ULIERDUCoug'd wind; t CUS:\n",
            "ICo qur Se; STitie, t bitin:\n",
            "IVEORETod t boul tap sthe Hye es vech the is icrbinnd.\n",
            "AME\n",
            "Whemet?\n",
            "A:\n",
            "RENove pouche ICEresishe lonjulf?\n",
            "E othe ochy d tl t t IULo p, mastunak! fr tith n p pes ALIOROfrerd am n, toberth hel d'\n",
            "WAR\n"
          ],
          "name": "stdout"
        }
      ]
    },
    {
      "cell_type": "code",
      "metadata": {
        "id": "-bfqQ8tQJL0E",
        "colab_type": "code",
        "colab": {}
      },
      "source": [
        ""
      ],
      "execution_count": 0,
      "outputs": []
    }
  ]
}