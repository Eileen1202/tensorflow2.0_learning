{
  "nbformat": 4,
  "nbformat_minor": 0,
  "metadata": {
    "colab": {
      "name": "tf1_dense_network.ipynb",
      "version": "0.3.2",
      "provenance": [],
      "include_colab_link": true
    },
    "kernelspec": {
      "name": "python3",
      "display_name": "Python 3"
    },
    "accelerator": "GPU"
  },
  "cells": [
    {
      "cell_type": "markdown",
      "metadata": {
        "id": "view-in-github",
        "colab_type": "text"
      },
      "source": [
        "<a href=\"https://colab.research.google.com/github/vvshyer/tensorflow2.0_learning/blob/master/tf1_dense_network.ipynb\" target=\"_parent\"><img src=\"https://colab.research.google.com/assets/colab-badge.svg\" alt=\"Open In Colab\"/></a>"
      ]
    },
    {
      "cell_type": "code",
      "metadata": {
        "id": "LdgXF14bvIXE",
        "colab_type": "code",
        "colab": {}
      },
      "source": [
        "!pip install tensorflow==1.13.1"
      ],
      "execution_count": 0,
      "outputs": []
    },
    {
      "cell_type": "code",
      "metadata": {
        "id": "XHw-sfvAkD1N",
        "colab_type": "code",
        "outputId": "7f6af1bb-8e3c-45e0-9b52-bb027fb14d79",
        "colab": {
          "base_uri": "https://localhost:8080/",
          "height": 173
        }
      },
      "source": [
        "import matplotlib as mpl\n",
        "import matplotlib.pyplot as plt\n",
        "%matplotlib inline\n",
        "import numpy as np\n",
        "import sklearn\n",
        "import pandas as pd\n",
        "import os\n",
        "import sys\n",
        "import time\n",
        "import tensorflow as tf\n",
        "\n",
        "from tensorflow import keras\n",
        "\n",
        "print(tf.__version__)\n",
        "print(sys.version_info)\n",
        "for module in mpl, np, pd, sklearn, tf, keras:\n",
        "    print(module.__name__, module.__version__)"
      ],
      "execution_count": 1,
      "outputs": [
        {
          "output_type": "stream",
          "text": [
            "1.13.1\n",
            "sys.version_info(major=3, minor=6, micro=7, releaselevel='final', serial=0)\n",
            "matplotlib 3.0.3\n",
            "numpy 1.16.4\n",
            "pandas 0.24.2\n",
            "sklearn 0.21.2\n",
            "tensorflow 1.13.1\n",
            "tensorflow._api.v1.keras 2.2.4-tf\n"
          ],
          "name": "stdout"
        }
      ]
    },
    {
      "cell_type": "code",
      "metadata": {
        "id": "mD9guLXTk__z",
        "colab_type": "code",
        "colab": {
          "base_uri": "https://localhost:8080/",
          "height": 173
        },
        "outputId": "aad35282-56bc-424a-ee34-af455ce672cb"
      },
      "source": [
        "fashion_mnist = keras.datasets.fashion_mnist\n",
        "(x_train_all, y_train_all), (x_test, y_test) = fashion_mnist.load_data()"
      ],
      "execution_count": 2,
      "outputs": [
        {
          "output_type": "stream",
          "text": [
            "Downloading data from https://storage.googleapis.com/tensorflow/tf-keras-datasets/train-labels-idx1-ubyte.gz\n",
            "32768/29515 [=================================] - 0s 0us/step\n",
            "Downloading data from https://storage.googleapis.com/tensorflow/tf-keras-datasets/train-images-idx3-ubyte.gz\n",
            "26427392/26421880 [==============================] - 0s 0us/step\n",
            "Downloading data from https://storage.googleapis.com/tensorflow/tf-keras-datasets/t10k-labels-idx1-ubyte.gz\n",
            "8192/5148 [===============================================] - 0s 0us/step\n",
            "Downloading data from https://storage.googleapis.com/tensorflow/tf-keras-datasets/t10k-images-idx3-ubyte.gz\n",
            "4423680/4422102 [==============================] - 0s 0us/step\n"
          ],
          "name": "stdout"
        }
      ]
    },
    {
      "cell_type": "code",
      "metadata": {
        "id": "xFI2nQwOmb7H",
        "colab_type": "code",
        "outputId": "4617a912-ab85-4781-ce64-40c7996dd806",
        "colab": {
          "base_uri": "https://localhost:8080/",
          "height": 68
        }
      },
      "source": [
        "x_valid, x_train = x_train_all[:5000], x_train_all[5000:]\n",
        "y_valid, y_train = y_train_all[:5000], y_train_all[5000:]\n",
        "\n",
        "print(x_valid.shape, y_valid.shape)\n",
        "print(x_train.shape, y_train.shape)\n",
        "print(x_test.shape, y_test.shape)"
      ],
      "execution_count": 3,
      "outputs": [
        {
          "output_type": "stream",
          "text": [
            "(5000, 28, 28) (5000,)\n",
            "(55000, 28, 28) (55000,)\n",
            "(10000, 28, 28) (10000,)\n"
          ],
          "name": "stdout"
        }
      ]
    },
    {
      "cell_type": "code",
      "metadata": {
        "id": "7TPotQXLyFvM",
        "colab_type": "code",
        "outputId": "778a12f4-4be9-45bc-e907-95a769be4a39",
        "colab": {
          "base_uri": "https://localhost:8080/",
          "height": 34
        }
      },
      "source": [
        "print(np.max(x_train), np.min(x_train))"
      ],
      "execution_count": 4,
      "outputs": [
        {
          "output_type": "stream",
          "text": [
            "255 0\n"
          ],
          "name": "stdout"
        }
      ]
    },
    {
      "cell_type": "code",
      "metadata": {
        "id": "LRacnxd0v2gk",
        "colab_type": "code",
        "colab": {}
      },
      "source": [
        "# x = (x-u)/std\n",
        "from sklearn.preprocessing import StandardScaler\n",
        "\n",
        "scaler = StandardScaler()\n",
        "# x_train: [None, 28, 28] -> [None, 784]\n",
        "x_train_scaled = scaler.fit_transform(\n",
        "    x_train.astype(np.float32).reshape(-1,1)).reshape(-1, 28* 28)\n",
        "x_valid_scaled = scaler.transform(\n",
        "    x_valid.astype(np.float32).reshape(-1,1)).reshape(-1, 28* 28)\n",
        "x_test_scaled = scaler.transform(\n",
        "    x_test.astype(np.float32).reshape(-1,1)).reshape(-1, 28* 28)"
      ],
      "execution_count": 0,
      "outputs": []
    },
    {
      "cell_type": "code",
      "metadata": {
        "id": "6PrDmFpWx7nX",
        "colab_type": "code",
        "outputId": "08d197fe-a6a9-4df6-cc89-6b43547ad598",
        "colab": {
          "base_uri": "https://localhost:8080/",
          "height": 34
        }
      },
      "source": [
        "print(np.max(x_train_scaled), np.min(x_train_scaled))"
      ],
      "execution_count": 9,
      "outputs": [
        {
          "output_type": "stream",
          "text": [
            "2.0231433 -0.8105136\n"
          ],
          "name": "stdout"
        }
      ]
    },
    {
      "cell_type": "code",
      "metadata": {
        "id": "dInwsk8LGhXI",
        "colab_type": "code",
        "colab": {
          "base_uri": "https://localhost:8080/",
          "height": 88
        },
        "outputId": "6ed0d7e4-05ab-4468-c369-e56ce70a0ce2"
      },
      "source": [
        "hidden_units = [100, 100]\n",
        "class_num = 10\n",
        "\n",
        "x = tf.placeholder(tf.float32, [None, 28* 28])\n",
        "y = tf.placeholder(tf.int64, [None])\n",
        "\n",
        "input_for_next_layer = x\n",
        "for hidden_unit in hidden_units:\n",
        "    input_for_next_layer = tf.layers.dense(input_for_next_layer,\n",
        "                                           hidden_unit, \n",
        "                                           activation=tf.nn.relu)\n",
        "logits = tf.layers.dense(input_for_next_layer, class_num)\n",
        "# last_hidden_output * W(logits) -> softmax -> prob\n",
        "# 1. logit -> softmax -> prob\n",
        "# 2. labels -> one_hot\n",
        "# 3. calculate cross entropy\n",
        "loss = tf.losses.sparse_softmax_cross_entropy(labels = y, logits = logits)\n",
        "\n",
        "prediction = tf.argmax(logits, 1)\n",
        "correct_prediction = tf.equal(prediction, y)\n",
        "accuracy = tf.reduce_mean(tf.cast(correct_prediction, tf.float64))\n",
        "\n",
        "train_op = tf.train.AdamOptimizer(1e-3).minimize(loss)\n"
      ],
      "execution_count": 10,
      "outputs": [
        {
          "output_type": "stream",
          "text": [
            "WARNING:tensorflow:From /usr/local/lib/python3.6/dist-packages/tensorflow/python/ops/losses/losses_impl.py:209: to_float (from tensorflow.python.ops.math_ops) is deprecated and will be removed in a future version.\n",
            "Instructions for updating:\n",
            "Use tf.cast instead.\n"
          ],
          "name": "stdout"
        }
      ]
    },
    {
      "cell_type": "code",
      "metadata": {
        "id": "iqnuNGAGH12T",
        "colab_type": "code",
        "colab": {
          "base_uri": "https://localhost:8080/",
          "height": 51
        },
        "outputId": "b38d7545-6e8a-45bf-9895-9fbd2f6e751e"
      },
      "source": [
        "print(x)\n",
        "print(y)"
      ],
      "execution_count": 11,
      "outputs": [
        {
          "output_type": "stream",
          "text": [
            "Tensor(\"Placeholder_2:0\", shape=(?, 784), dtype=float32)\n",
            "Tensor(\"Placeholder_3:0\", shape=(?,), dtype=int64)\n"
          ],
          "name": "stdout"
        }
      ]
    },
    {
      "cell_type": "code",
      "metadata": {
        "id": "icR9MLkOIEsQ",
        "colab_type": "code",
        "colab": {
          "base_uri": "https://localhost:8080/",
          "height": 207
        },
        "outputId": "910a3f31-d271-44f9-89e6-b6547420daf2"
      },
      "source": [
        "# session\n",
        "init = tf.global_variables_initializer()\n",
        "batch_size = 20\n",
        "epochs = 10\n",
        "train_steps_per_epoch = x_train.shape[0] // batch_size\n",
        "valid_steps = x_valid.shape[0] // batch_size\n",
        "\n",
        "def eval_with_sess(sess, x, y, accuracy, images, labels, batch_size):\n",
        "    eval_steps = images.shape[0] // batch_size\n",
        "    eval_accuracies = []\n",
        "    for step in range(eval_steps):\n",
        "        batch_data = images[step * batch_size : (step+1)*batch_size]\n",
        "        batch_label = labels[step*batch_size : (step+1)*batch_size]\n",
        "        accuracy_val = sess.run(accuracy,\n",
        "                                feed_dict = {\n",
        "                                    x: batch_data,\n",
        "                                    y: batch_label\n",
        "                                })\n",
        "        eval_accuracies.append(accuracy_val)\n",
        "    return np.mean(eval_accuracies)\n",
        "    \n",
        "with tf.Session() as sess:\n",
        "    sess.run(init)\n",
        "    for epoch in range(epochs):\n",
        "        for step in range(train_steps_per_epoch):\n",
        "            batch_data = x_train_scaled[\n",
        "                step * batch_size : (step+1) * batch_size]\n",
        "            batch_label = y_train[\n",
        "                step * batch_size : (step+1) * batch_size]\n",
        "            loss_val, accuracy_val, _ = sess.run(\n",
        "                [loss, accuracy, train_op],\n",
        "                feed_dict = {\n",
        "                    x: batch_data,\n",
        "                    y: batch_label\n",
        "                })\n",
        "            print('\\r[Train] epoch : %d, step: %d, loss: %3.5f, accuracy: %2.2f' %\n",
        "                  (epoch, step, loss_val, accuracy_val), end=\"\")\n",
        "        valid_accuracy = eval_with_sess(sess, x, y, accuracy, x_valid_scaled, y_valid, batch_size)\n",
        "        print('\\t[Valid] acc: %2.2f' % valid_accuracy)"
      ],
      "execution_count": 13,
      "outputs": [
        {
          "output_type": "stream",
          "text": [
            "[Train] epoch : 0, step: 2749, loss: 0.33170, accuracy: 0.80\t[Valid] acc: 0.86\n",
            "[Train] epoch : 1, step: 2749, loss: 0.29312, accuracy: 0.80\t[Valid] acc: 0.86\n",
            "[Train] epoch : 2, step: 2749, loss: 0.24072, accuracy: 0.85\t[Valid] acc: 0.87\n",
            "[Train] epoch : 3, step: 2749, loss: 0.14616, accuracy: 0.90\t[Valid] acc: 0.87\n",
            "[Train] epoch : 4, step: 2749, loss: 0.16842, accuracy: 0.90\t[Valid] acc: 0.88\n",
            "[Train] epoch : 5, step: 2749, loss: 0.14214, accuracy: 0.95\t[Valid] acc: 0.88\n",
            "[Train] epoch : 6, step: 2749, loss: 0.08052, accuracy: 1.00\t[Valid] acc: 0.88\n",
            "[Train] epoch : 7, step: 2749, loss: 0.14934, accuracy: 0.95\t[Valid] acc: 0.88\n",
            "[Train] epoch : 8, step: 2749, loss: 0.12801, accuracy: 0.95\t[Valid] acc: 0.88\n",
            "[Train] epoch : 9, step: 2749, loss: 0.16560, accuracy: 0.95\t[Valid] acc: 0.88\n"
          ],
          "name": "stdout"
        }
      ]
    },
    {
      "cell_type": "code",
      "metadata": {
        "id": "xfoy6kcUK2G9",
        "colab_type": "code",
        "colab": {}
      },
      "source": [
        ""
      ],
      "execution_count": 0,
      "outputs": []
    }
  ]
}