{
  "nbformat": 4,
  "nbformat_minor": 0,
  "metadata": {
    "colab": {
      "name": "tf_tfrecord_basic_api.ipynb",
      "version": "0.3.2",
      "provenance": [],
      "include_colab_link": true
    },
    "kernelspec": {
      "name": "python3",
      "display_name": "Python 3"
    },
    "accelerator": "GPU"
  },
  "cells": [
    {
      "cell_type": "markdown",
      "metadata": {
        "id": "view-in-github",
        "colab_type": "text"
      },
      "source": [
        "<a href=\"https://colab.research.google.com/github/vvshyer/tensorflow2.0_learning/blob/master/tf_tfrecord_basic_api.ipynb\" target=\"_parent\"><img src=\"https://colab.research.google.com/assets/colab-badge.svg\" alt=\"Open In Colab\"/></a>"
      ]
    },
    {
      "cell_type": "code",
      "metadata": {
        "id": "aw4TJvchYOF8",
        "colab_type": "code",
        "colab": {
          "base_uri": "https://localhost:8080/",
          "height": 173
        },
        "outputId": "e8c79ed6-d0ae-447a-a60f-8959cc4cb18b"
      },
      "source": [
        "import matplotlib as mpl\n",
        "import matplotlib.pyplot as plt\n",
        "%matplotlib inline\n",
        "import numpy as np\n",
        "import sklearn\n",
        "import pandas as pd\n",
        "import os\n",
        "import sys\n",
        "import time\n",
        "import tensorflow as tf\n",
        "\n",
        "from tensorflow import keras\n",
        "\n",
        "print(tf.__version__)\n",
        "print(sys.version_info)\n",
        "for module in mpl, np, pd, sklearn, tf, keras:\n",
        "    print(module.__name__, module.__version__)"
      ],
      "execution_count": 1,
      "outputs": [
        {
          "output_type": "stream",
          "text": [
            "2.0.0-alpha0\n",
            "sys.version_info(major=3, minor=6, micro=7, releaselevel='final', serial=0)\n",
            "matplotlib 3.0.3\n",
            "numpy 1.16.4\n",
            "pandas 0.24.2\n",
            "sklearn 0.21.2\n",
            "tensorflow 2.0.0-alpha0\n",
            "tensorflow.python.keras.api._v2.keras 2.2.4-tf\n"
          ],
          "name": "stdout"
        }
      ]
    },
    {
      "cell_type": "code",
      "metadata": {
        "id": "Ir64z-f9YdKy",
        "colab_type": "code",
        "colab": {
          "base_uri": "https://localhost:8080/",
          "height": 663
        },
        "outputId": "a1f5e968-bcb3-49b8-827a-7782f5d3e1cd"
      },
      "source": [
        "# tfrecord文件格式\n",
        "# -> tf.train.Example\n",
        "#    -> tf.train.Features -> {\"key\": tf.train.Feature}\n",
        "#       -> tf.train.Feature -> tf.train.ByteList/FloatList/Int64List\n",
        "\n",
        "favorite_books = [name.encode('utf-8') \n",
        "                  for name in [\"machine learning\", \"cc150\"]]\n",
        "favorite_books_bytelist = tf.train.BytesList(value = favorite_books)\n",
        "print(favorite_books_bytelist)\n",
        "\n",
        "hours_floatlist = tf.train.FloatList(value=[15.5, 9.5, 7.0, 8.0])\n",
        "print(hours_floatlist)\n",
        "\n",
        "age_int64list = tf.train.Int64List(value = [42])\n",
        "print(age_int64list)\n",
        "\n",
        "features = tf.train.Features(\n",
        "    feature = {\n",
        "        \"favorite_books\": tf.train.Feature(bytes_list = favorite_books_bytelist),\n",
        "        \"hours\": tf.train.Feature(float_list = hours_floatlist),\n",
        "        \"age\": tf.train.Feature(int64_list = age_int64list),\n",
        "    }\n",
        ")\n",
        "\n",
        "features"
      ],
      "execution_count": 5,
      "outputs": [
        {
          "output_type": "stream",
          "text": [
            "value: \"machine learning\"\n",
            "value: \"cc150\"\n",
            "\n",
            "value: 15.5\n",
            "value: 9.5\n",
            "value: 7.0\n",
            "value: 8.0\n",
            "\n",
            "value: 42\n",
            "\n"
          ],
          "name": "stdout"
        },
        {
          "output_type": "execute_result",
          "data": {
            "text/plain": [
              "feature {\n",
              "  key: \"age\"\n",
              "  value {\n",
              "    int64_list {\n",
              "      value: 42\n",
              "    }\n",
              "  }\n",
              "}\n",
              "feature {\n",
              "  key: \"favorite_books\"\n",
              "  value {\n",
              "    bytes_list {\n",
              "      value: \"machine learning\"\n",
              "      value: \"cc150\"\n",
              "    }\n",
              "  }\n",
              "}\n",
              "feature {\n",
              "  key: \"hours\"\n",
              "  value {\n",
              "    float_list {\n",
              "      value: 15.5\n",
              "      value: 9.5\n",
              "      value: 7.0\n",
              "      value: 8.0\n",
              "    }\n",
              "  }\n",
              "}"
            ]
          },
          "metadata": {
            "tags": []
          },
          "execution_count": 5
        }
      ]
    },
    {
      "cell_type": "code",
      "metadata": {
        "id": "J_H9CS1sYjiO",
        "colab_type": "code",
        "colab": {
          "base_uri": "https://localhost:8080/",
          "height": 581
        },
        "outputId": "c12ed3f9-2c04-47b7-e239-457cf8384ebe"
      },
      "source": [
        "example = tf.train.Example(features=features)\n",
        "print(example)\n",
        "\n",
        "serialized_example = example.SerializeToString()\n",
        "print(serialized_example)"
      ],
      "execution_count": 6,
      "outputs": [
        {
          "output_type": "stream",
          "text": [
            "features {\n",
            "  feature {\n",
            "    key: \"age\"\n",
            "    value {\n",
            "      int64_list {\n",
            "        value: 42\n",
            "      }\n",
            "    }\n",
            "  }\n",
            "  feature {\n",
            "    key: \"favorite_books\"\n",
            "    value {\n",
            "      bytes_list {\n",
            "        value: \"machine learning\"\n",
            "        value: \"cc150\"\n",
            "      }\n",
            "    }\n",
            "  }\n",
            "  feature {\n",
            "    key: \"hours\"\n",
            "    value {\n",
            "      float_list {\n",
            "        value: 15.5\n",
            "        value: 9.5\n",
            "        value: 7.0\n",
            "        value: 8.0\n",
            "      }\n",
            "    }\n",
            "  }\n",
            "}\n",
            "\n",
            "b'\\n\\\\\\n\\x1d\\n\\x05hours\\x12\\x14\\x12\\x12\\n\\x10\\x00\\x00xA\\x00\\x00\\x18A\\x00\\x00\\xe0@\\x00\\x00\\x00A\\n-\\n\\x0efavorite_books\\x12\\x1b\\n\\x19\\n\\x10machine learning\\n\\x05cc150\\n\\x0c\\n\\x03age\\x12\\x05\\x1a\\x03\\n\\x01*'\n"
          ],
          "name": "stdout"
        }
      ]
    },
    {
      "cell_type": "code",
      "metadata": {
        "id": "nFRPF8KWaIpS",
        "colab_type": "code",
        "colab": {}
      },
      "source": [
        "output_dir = 'tfrecord_basic'\n",
        "if not os.path.exists(output_dir):\n",
        "    os.mkdir(output_dir)\n",
        "filename = \"test.tfrecords\"\n",
        "filename_fullpath = os.path.join(output_dir, filename)\n",
        "with tf.io.TFRecordWriter(filename_fullpath) as writer:\n",
        "    for i in range(3):\n",
        "        writer.write(serialized_example)"
      ],
      "execution_count": 0,
      "outputs": []
    },
    {
      "cell_type": "code",
      "metadata": {
        "id": "by-BKz22aysK",
        "colab_type": "code",
        "colab": {
          "base_uri": "https://localhost:8080/",
          "height": 34
        },
        "outputId": "3baaecb9-e26f-4d78-9d69-eddb98e360fe"
      },
      "source": [
        "!ls"
      ],
      "execution_count": 8,
      "outputs": [
        {
          "output_type": "stream",
          "text": [
            "generate_csv  sample_data  tfrecord_basic\n"
          ],
          "name": "stdout"
        }
      ]
    },
    {
      "cell_type": "code",
      "metadata": {
        "id": "4tg48EBGa0BR",
        "colab_type": "code",
        "colab": {
          "base_uri": "https://localhost:8080/",
          "height": 34
        },
        "outputId": "2a772cb7-6788-4051-af9b-736f7f934111"
      },
      "source": [
        "!ls tfrecord_basic/"
      ],
      "execution_count": 10,
      "outputs": [
        {
          "output_type": "stream",
          "text": [
            "test.tfrecords\n"
          ],
          "name": "stdout"
        }
      ]
    },
    {
      "cell_type": "code",
      "metadata": {
        "id": "3LNZ1U_ea4R9",
        "colab_type": "code",
        "colab": {
          "base_uri": "https://localhost:8080/",
          "height": 88
        },
        "outputId": "f9b06f5d-afa8-4f47-d32c-eb821496dc33"
      },
      "source": [
        "dataset = tf.data.TFRecordDataset([filename_fullpath])\n",
        "for serialized_example_tensor in dataset:\n",
        "    print(serialized_example_tensor)"
      ],
      "execution_count": 11,
      "outputs": [
        {
          "output_type": "stream",
          "text": [
            "tf.Tensor(b'\\n\\\\\\n\\x1d\\n\\x05hours\\x12\\x14\\x12\\x12\\n\\x10\\x00\\x00xA\\x00\\x00\\x18A\\x00\\x00\\xe0@\\x00\\x00\\x00A\\n-\\n\\x0efavorite_books\\x12\\x1b\\n\\x19\\n\\x10machine learning\\n\\x05cc150\\n\\x0c\\n\\x03age\\x12\\x05\\x1a\\x03\\n\\x01*', shape=(), dtype=string)\n",
            "tf.Tensor(b'\\n\\\\\\n\\x1d\\n\\x05hours\\x12\\x14\\x12\\x12\\n\\x10\\x00\\x00xA\\x00\\x00\\x18A\\x00\\x00\\xe0@\\x00\\x00\\x00A\\n-\\n\\x0efavorite_books\\x12\\x1b\\n\\x19\\n\\x10machine learning\\n\\x05cc150\\n\\x0c\\n\\x03age\\x12\\x05\\x1a\\x03\\n\\x01*', shape=(), dtype=string)\n",
            "tf.Tensor(b'\\n\\\\\\n\\x1d\\n\\x05hours\\x12\\x14\\x12\\x12\\n\\x10\\x00\\x00xA\\x00\\x00\\x18A\\x00\\x00\\xe0@\\x00\\x00\\x00A\\n-\\n\\x0efavorite_books\\x12\\x1b\\n\\x19\\n\\x10machine learning\\n\\x05cc150\\n\\x0c\\n\\x03age\\x12\\x05\\x1a\\x03\\n\\x01*', shape=(), dtype=string)\n"
          ],
          "name": "stdout"
        }
      ]
    },
    {
      "cell_type": "code",
      "metadata": {
        "id": "J6WX3AoqbFyF",
        "colab_type": "code",
        "colab": {
          "base_uri": "https://localhost:8080/",
          "height": 119
        },
        "outputId": "13bba0b2-5cdd-4385-93cd-e53a0675f919"
      },
      "source": [
        "expected_features = {\n",
        "    \"favorite_books\": tf.io.VarLenFeature(dtype=tf.string),\n",
        "    \"hours\":tf.io.VarLenFeature(dtype=tf.float32),\n",
        "    \"age\":tf.io.FixedLenFeature([], dtype=tf.int64),\n",
        "}\n",
        "\n",
        "dataset = tf.data.TFRecordDataset([filename_fullpath])\n",
        "for serialized_example_tensor in dataset:\n",
        "    example = tf.io.parse_single_example(\n",
        "        serialized_example_tensor,\n",
        "        expected_features\n",
        "    )\n",
        "    books = tf.sparse.to_dense(example[\"favorite_books\"],\n",
        "                               default_value=b\"\")\n",
        "    for book in books:\n",
        "        print(book.numpy().decode(\"UTF-8\"))"
      ],
      "execution_count": 16,
      "outputs": [
        {
          "output_type": "stream",
          "text": [
            "machine learning\n",
            "cc150\n",
            "machine learning\n",
            "cc150\n",
            "machine learning\n",
            "cc150\n"
          ],
          "name": "stdout"
        }
      ]
    },
    {
      "cell_type": "code",
      "metadata": {
        "id": "uJNMb_Ytbs7L",
        "colab_type": "code",
        "colab": {}
      },
      "source": [
        "# 压缩\n",
        "filename_fullpath_zip = filename_fullpath + '.zip'\n",
        "options = tf.io.TFRecordOptions(compression_type = \"GZIP\")\n",
        "with tf.io.TFRecordWriter(filename_fullpath_zip, options) as writer:\n",
        "    for i in range(3):\n",
        "        writer.write(serialized_example)"
      ],
      "execution_count": 0,
      "outputs": []
    },
    {
      "cell_type": "code",
      "metadata": {
        "id": "2Hl_RqQudQ94",
        "colab_type": "code",
        "colab": {
          "base_uri": "https://localhost:8080/",
          "height": 34
        },
        "outputId": "2b46e28d-defe-4290-bc11-25445aa27f5b"
      },
      "source": [
        "!ls tfrecord_basic/"
      ],
      "execution_count": 21,
      "outputs": [
        {
          "output_type": "stream",
          "text": [
            "test.tfrecords\ttest.tfrecords.zip\n"
          ],
          "name": "stdout"
        }
      ]
    },
    {
      "cell_type": "code",
      "metadata": {
        "id": "xmunb9p6dU9w",
        "colab_type": "code",
        "colab": {
          "base_uri": "https://localhost:8080/",
          "height": 34
        },
        "outputId": "d9101ce2-c368-4fc1-a1ab-97ee8232df0b"
      },
      "source": [
        "!ls"
      ],
      "execution_count": 22,
      "outputs": [
        {
          "output_type": "stream",
          "text": [
            "generate_csv  sample_data  tfrecord_basic\n"
          ],
          "name": "stdout"
        }
      ]
    },
    {
      "cell_type": "code",
      "metadata": {
        "id": "Yu0XT3lodXYx",
        "colab_type": "code",
        "colab": {
          "base_uri": "https://localhost:8080/",
          "height": 119
        },
        "outputId": "25399227-c1fc-44b8-a048-dc6c0dbd1134"
      },
      "source": [
        "# 读取压缩\n",
        "dataset_zip = tf.data.TFRecordDataset([filename_fullpath_zip],\n",
        "                                  compression_type = \"GZIP\")\n",
        "for serialized_example_tensor in dataset_zip:\n",
        "    example = tf.io.parse_single_example(\n",
        "        serialized_example_tensor,\n",
        "        expected_features\n",
        "    )\n",
        "    books = tf.sparse.to_dense(example[\"favorite_books\"],\n",
        "                               default_value=b\"\")\n",
        "    for book in books:\n",
        "        print(book.numpy().decode(\"UTF-8\"))"
      ],
      "execution_count": 27,
      "outputs": [
        {
          "output_type": "stream",
          "text": [
            "machine learning\n",
            "cc150\n",
            "machine learning\n",
            "cc150\n",
            "machine learning\n",
            "cc150\n"
          ],
          "name": "stdout"
        }
      ]
    },
    {
      "cell_type": "code",
      "metadata": {
        "id": "HfLB6x_ydn46",
        "colab_type": "code",
        "colab": {}
      },
      "source": [
        ""
      ],
      "execution_count": 0,
      "outputs": []
    }
  ]
}