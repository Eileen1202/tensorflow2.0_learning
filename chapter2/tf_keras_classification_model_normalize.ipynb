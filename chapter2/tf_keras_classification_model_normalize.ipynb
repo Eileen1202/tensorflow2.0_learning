{
  "nbformat": 4,
  "nbformat_minor": 0,
  "metadata": {
    "colab": {
      "name": "tf_keras_classification_model_normalize.ipynb",
      "version": "0.3.2",
      "provenance": [],
      "include_colab_link": true
    },
    "kernelspec": {
      "name": "python3",
      "display_name": "Python 3"
    },
    "accelerator": "GPU"
  },
  "cells": [
    {
      "cell_type": "markdown",
      "metadata": {
        "id": "view-in-github",
        "colab_type": "text"
      },
      "source": [
        "<a href=\"https://colab.research.google.com/github/vvshyer/tensorflow2.0_learning/blob/master/tf_keras_classification_model_normalize.ipynb\" target=\"_parent\"><img src=\"https://colab.research.google.com/assets/colab-badge.svg\" alt=\"Open In Colab\"/></a>"
      ]
    },
    {
      "cell_type": "code",
      "metadata": {
        "id": "LdgXF14bvIXE",
        "colab_type": "code",
        "colab": {}
      },
      "source": [
        "!pip install tensorflow==2.0.0-alpha0"
      ],
      "execution_count": 0,
      "outputs": []
    },
    {
      "cell_type": "code",
      "metadata": {
        "id": "XHw-sfvAkD1N",
        "colab_type": "code",
        "outputId": "a2d23176-1e78-4f01-cff9-656b172845b1",
        "colab": {
          "base_uri": "https://localhost:8080/",
          "height": 173
        }
      },
      "source": [
        "import matplotlib as mpl\n",
        "import matplotlib.pyplot as plt\n",
        "%matplotlib inline\n",
        "import numpy as np\n",
        "import sklearn\n",
        "import pandas as pd\n",
        "import os\n",
        "import sys\n",
        "import time\n",
        "import tensorflow as tf\n",
        "\n",
        "from tensorflow import keras\n",
        "\n",
        "print(tf.__version__)\n",
        "print(sys.version_info)\n",
        "for module in mpl, np, pd, sklearn, tf, keras:\n",
        "    print(module.__name__, module.__version__)"
      ],
      "execution_count": 9,
      "outputs": [
        {
          "output_type": "stream",
          "text": [
            "2.0.0-alpha0\n",
            "sys.version_info(major=3, minor=6, micro=7, releaselevel='final', serial=0)\n",
            "matplotlib 3.0.3\n",
            "numpy 1.16.3\n",
            "pandas 0.24.2\n",
            "sklearn 0.21.1\n",
            "tensorflow 2.0.0-alpha0\n",
            "tensorflow.python.keras.api._v2.keras 2.2.4-tf\n"
          ],
          "name": "stdout"
        }
      ]
    },
    {
      "cell_type": "code",
      "metadata": {
        "id": "mD9guLXTk__z",
        "colab_type": "code",
        "colab": {}
      },
      "source": [
        "fashion_mnist = keras.datasets.fashion_mnist\n",
        "(x_train_all, y_train_all), (x_test, y_test) = fashion_mnist.load_data()"
      ],
      "execution_count": 0,
      "outputs": []
    },
    {
      "cell_type": "code",
      "metadata": {
        "id": "xFI2nQwOmb7H",
        "colab_type": "code",
        "outputId": "d6c9ccde-ea06-4c78-cbba-7f657c17e0b9",
        "colab": {
          "base_uri": "https://localhost:8080/",
          "height": 68
        }
      },
      "source": [
        "x_valid, x_train = x_train_all[:5000], x_train_all[5000:]\n",
        "y_valid, y_train = y_train_all[:5000], y_train_all[5000:]\n",
        "\n",
        "print(x_valid.shape, y_valid.shape)\n",
        "print(x_train.shape, y_train.shape)\n",
        "print(x_test.shape, y_test.shape)"
      ],
      "execution_count": 11,
      "outputs": [
        {
          "output_type": "stream",
          "text": [
            "(5000, 28, 28) (5000,)\n",
            "(55000, 28, 28) (55000,)\n",
            "(10000, 28, 28) (10000,)\n"
          ],
          "name": "stdout"
        }
      ]
    },
    {
      "cell_type": "code",
      "metadata": {
        "id": "7TPotQXLyFvM",
        "colab_type": "code",
        "colab": {
          "base_uri": "https://localhost:8080/",
          "height": 34
        },
        "outputId": "9fdc1f66-24b5-429c-ebac-15925f062349"
      },
      "source": [
        "print(np.max(x_train), np.min(x_train))"
      ],
      "execution_count": 14,
      "outputs": [
        {
          "output_type": "stream",
          "text": [
            "255 0\n"
          ],
          "name": "stdout"
        }
      ]
    },
    {
      "cell_type": "code",
      "metadata": {
        "id": "LRacnxd0v2gk",
        "colab_type": "code",
        "colab": {}
      },
      "source": [
        "# x = (x-u)/std\n",
        "from sklearn.preprocessing import StandardScaler\n",
        "\n",
        "scaler = StandardScaler()\n",
        "# x_train: [None, 28, 28] -> [None, 784]\n",
        "x_train_scaled = scaler.fit_transform(\n",
        "    x_train.astype(np.float32).reshape(-1,1)).reshape(-1, 28, 28)\n",
        "x_valid_scaled = scaler.transform(\n",
        "    x_valid.astype(np.float32).reshape(-1,1)).reshape(-1, 28, 28)\n",
        "x_test_scaled = scaler.transform(\n",
        "    x_test.astype(np.float32).reshape(-1,1)).reshape(-1, 28, 28)"
      ],
      "execution_count": 0,
      "outputs": []
    },
    {
      "cell_type": "code",
      "metadata": {
        "id": "6PrDmFpWx7nX",
        "colab_type": "code",
        "colab": {
          "base_uri": "https://localhost:8080/",
          "height": 34
        },
        "outputId": "fa2c7d6d-50b4-4945-ed3e-9effe05a6697"
      },
      "source": [
        "print(np.max(x_train_scaled), np.min(x_train_scaled))"
      ],
      "execution_count": 13,
      "outputs": [
        {
          "output_type": "stream",
          "text": [
            "2.0231433 -0.8105136\n"
          ],
          "name": "stdout"
        }
      ]
    },
    {
      "cell_type": "code",
      "metadata": {
        "id": "0qo1dX2bon-7",
        "colab_type": "code",
        "colab": {}
      },
      "source": [
        "# tf.keras.models.Sequential()\n",
        "model = keras.models.Sequential()\n",
        "\n",
        "model.add(keras.layers.Flatten(input_shape = [28, 28]))\n",
        "model.add(keras.layers.Dense(300, activation='relu'))\n",
        "model.add(keras.layers.Dense(100, activation='relu'))\n",
        "model.add(keras.layers.Dense(10, activation='softmax'))\n",
        "\n",
        "# relu: y=max(0, x)\n",
        "# softmax: 将向量变为概率分布. x = [x1, x2, x3]\n",
        "#          y = [e^x1/sum, e^x2/sum, e^x3/sum]\n",
        "#          sum = e^x1 + e^x2 + e^x3\n",
        "\n",
        "# 第二种Sequential使用方式：\n",
        "# model = keras.model.Sequential([\n",
        "#     keras.layers.Flatten(input_shape = [28, 28]),\n",
        "#     keras.layers.Dense(300, activation='relu'),\n",
        "#     keras.layers.Dense(100, activation='relu'),\n",
        "#     keras.layers.Dense(10, activation='softmax')\n",
        "# ])\n",
        "\n",
        "\n",
        "# sparse的原因：因为y->index.\n",
        "model.compile(loss=\"sparse_categorical_crossentropy\",\n",
        "              optimizer = 'sgd',\n",
        "              metrics = ['accuracy'])\n"
      ],
      "execution_count": 0,
      "outputs": []
    },
    {
      "cell_type": "code",
      "metadata": {
        "id": "0JdT59XNrDXj",
        "colab_type": "code",
        "colab": {}
      },
      "source": [
        "# 第一层: [None, 784] * W + b -> [None, 300]\n",
        "# W.shape [784, 300], b.shape = [300, 1]"
      ],
      "execution_count": 0,
      "outputs": []
    },
    {
      "cell_type": "code",
      "metadata": {
        "id": "P9PM0CDOrV7j",
        "colab_type": "code",
        "outputId": "012b9500-a525-42ce-db43-b36af02cc333",
        "colab": {
          "base_uri": "https://localhost:8080/",
          "height": 394
        }
      },
      "source": [
        "history = model.fit(x_train_scaled, y_train, epochs = 10,\n",
        "          validation_data = (x_valid_scaled, y_valid))"
      ],
      "execution_count": 16,
      "outputs": [
        {
          "output_type": "stream",
          "text": [
            "Train on 55000 samples, validate on 5000 samples\n",
            "Epoch 1/10\n",
            "55000/55000 [==============================] - 5s 89us/sample - loss: 0.8967 - accuracy: 0.7114 - val_loss: 0.5979 - val_accuracy: 0.7998\n",
            "Epoch 2/10\n",
            "55000/55000 [==============================] - 5s 84us/sample - loss: 0.5669 - accuracy: 0.8042 - val_loss: 0.5152 - val_accuracy: 0.8246\n",
            "Epoch 3/10\n",
            "55000/55000 [==============================] - 5s 83us/sample - loss: 0.5056 - accuracy: 0.8247 - val_loss: 0.4738 - val_accuracy: 0.8364\n",
            "Epoch 4/10\n",
            "55000/55000 [==============================] - 5s 82us/sample - loss: 0.4714 - accuracy: 0.8351 - val_loss: 0.4515 - val_accuracy: 0.8446\n",
            "Epoch 5/10\n",
            "55000/55000 [==============================] - 5s 83us/sample - loss: 0.4485 - accuracy: 0.8426 - val_loss: 0.4333 - val_accuracy: 0.8494\n",
            "Epoch 6/10\n",
            "55000/55000 [==============================] - 5s 83us/sample - loss: 0.4309 - accuracy: 0.8484 - val_loss: 0.4218 - val_accuracy: 0.8532\n",
            "Epoch 7/10\n",
            "55000/55000 [==============================] - 5s 82us/sample - loss: 0.4175 - accuracy: 0.8538 - val_loss: 0.4111 - val_accuracy: 0.8600\n",
            "Epoch 8/10\n",
            "55000/55000 [==============================] - 5s 99us/sample - loss: 0.4059 - accuracy: 0.8573 - val_loss: 0.4067 - val_accuracy: 0.8600\n",
            "Epoch 9/10\n",
            "55000/55000 [==============================] - 5s 97us/sample - loss: 0.3961 - accuracy: 0.8612 - val_loss: 0.3983 - val_accuracy: 0.8616\n",
            "Epoch 10/10\n",
            "55000/55000 [==============================] - 5s 82us/sample - loss: 0.3876 - accuracy: 0.8631 - val_loss: 0.3887 - val_accuracy: 0.8654\n"
          ],
          "name": "stdout"
        }
      ]
    },
    {
      "cell_type": "code",
      "metadata": {
        "id": "Z2nx0e4WyP6o",
        "colab_type": "code",
        "colab": {
          "base_uri": "https://localhost:8080/",
          "height": 324
        },
        "outputId": "5c96487b-96e4-4bc2-925e-ac5d8ad8d097"
      },
      "source": [
        "def plot_learning_curves(history):\n",
        "    pd.DataFrame(history.history).plot(figsize=(8, 5))\n",
        "    plt.grid(True)\n",
        "    plt.gca().set_ylim(0, 1)\n",
        "    plt.show()\n",
        "    \n",
        "plot_learning_curves(history)"
      ],
      "execution_count": 17,
      "outputs": [
        {
          "output_type": "display_data",
          "data": {
            "image/png": "[encoded data removed]",
            "text/plain": [
              "<Figure size 576x360 with 1 Axes>"
            ]
          },
          "metadata": {
            "tags": []
          }
        }
      ]
    },
    {
      "cell_type": "code",
      "metadata": {
        "id": "p606-RsUygbH",
        "colab_type": "code",
        "colab": {
          "base_uri": "https://localhost:8080/",
          "height": 71
        },
        "outputId": "675ef9be-271e-4570-8ecc-a97f15ff965e"
      },
      "source": [
        "model.evaluate(x_test_scaled, y_test)"
      ],
      "execution_count": 18,
      "outputs": [
        {
          "output_type": "stream",
          "text": [
            "10000/10000 [==============================] - 0s 45us/sample - loss: 0.4202 - accuracy: 0.8474\n"
          ],
          "name": "stdout"
        },
        {
          "output_type": "execute_result",
          "data": {
            "text/plain": [
              "[0.4202320561170578, 0.8474]"
            ]
          },
          "metadata": {
            "tags": []
          },
          "execution_count": 18
        }
      ]
    }
  ]
}