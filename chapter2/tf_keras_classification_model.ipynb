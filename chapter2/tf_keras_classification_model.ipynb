{
  "nbformat": 4,
  "nbformat_minor": 0,
  "metadata": {
    "colab": {
      "name": "tf_keras_classification_model.ipynb",
      "version": "0.3.2",
      "provenance": [],
      "collapsed_sections": [],
      "include_colab_link": true
    },
    "kernelspec": {
      "name": "python3",
      "display_name": "Python 3"
    },
    "accelerator": "GPU"
  },
  "cells": [
    {
      "cell_type": "markdown",
      "metadata": {
        "id": "view-in-github",
        "colab_type": "text"
      },
      "source": [
        "<a href=\"https://colab.research.google.com/github/vvshyer/tensorflow2.0_learning/blob/master/tf_keras_classification_model.ipynb\" target=\"_parent\"><img src=\"https://colab.research.google.com/assets/colab-badge.svg\" alt=\"Open In Colab\"/></a>"
      ]
    },
    {
      "cell_type": "code",
      "metadata": {
        "id": "XHw-sfvAkD1N",
        "colab_type": "code",
        "outputId": "5ff42e9b-a594-4331-c861-4f0e5bb103fb",
        "colab": {
          "base_uri": "https://localhost:8080/",
          "height": 173
        }
      },
      "source": [
        "import matplotlib as mpl\n",
        "import matplotlib.pyplot as plt\n",
        "%matplotlib inline\n",
        "import numpy as np\n",
        "import sklearn\n",
        "import pandas as pd\n",
        "import os\n",
        "import sys\n",
        "import time\n",
        "import tensorflow as tf\n",
        "\n",
        "from tensorflow import keras\n",
        "\n",
        "print(tf.__version__)\n",
        "print(sys.version_info)\n",
        "for module in mpl, np, pd, sklearn, tf, keras:\n",
        "    print(module.__name__, module.__version__)"
      ],
      "execution_count": 2,
      "outputs": [
        {
          "output_type": "stream",
          "text": [
            "2.0.0-alpha0\n",
            "sys.version_info(major=3, minor=6, micro=7, releaselevel='final', serial=0)\n",
            "matplotlib 3.0.3\n",
            "numpy 1.16.3\n",
            "pandas 0.24.2\n",
            "sklearn 0.21.1\n",
            "tensorflow 2.0.0-alpha0\n",
            "tensorflow.python.keras.api._v2.keras 2.2.4-tf\n"
          ],
          "name": "stdout"
        }
      ]
    },
    {
      "cell_type": "code",
      "metadata": {
        "id": "mD9guLXTk__z",
        "colab_type": "code",
        "colab": {}
      },
      "source": [
        "fashion_mnist = keras.datasets.fashion_mnist\n",
        "(x_train_all, y_train_all), (x_test, y_test) = fashion_mnist.load_data()"
      ],
      "execution_count": 0,
      "outputs": []
    },
    {
      "cell_type": "code",
      "metadata": {
        "id": "xFI2nQwOmb7H",
        "colab_type": "code",
        "outputId": "050065db-d4bd-4450-b6f0-6c4fafab6524",
        "colab": {
          "base_uri": "https://localhost:8080/",
          "height": 68
        }
      },
      "source": [
        "x_valid, x_train = x_train_all[:5000], x_train_all[5000:]\n",
        "y_valid, y_train = y_train_all[:5000], y_train_all[5000:]\n",
        "\n",
        "print(x_valid.shape, y_valid.shape)\n",
        "print(x_train.shape, y_train.shape)\n",
        "print(x_test.shape, y_test.shape)"
      ],
      "execution_count": 4,
      "outputs": [
        {
          "output_type": "stream",
          "text": [
            "(5000, 28, 28) (5000,)\n",
            "(55000, 28, 28) (55000,)\n",
            "(10000, 28, 28) (10000,)\n"
          ],
          "name": "stdout"
        }
      ]
    },
    {
      "cell_type": "code",
      "metadata": {
        "id": "0zDeGIQlm1hs",
        "colab_type": "code",
        "outputId": "aa449168-c6d3-474a-be59-2c12861845f4",
        "colab": {
          "base_uri": "https://localhost:8080/",
          "height": 269
        }
      },
      "source": [
        "def show_single_image(img_arr):\n",
        "    plt.imshow(img_arr, cmap=\"binary\")\n",
        "    plt.show()\n",
        "    \n",
        "show_single_image(x_train[0])"
      ],
      "execution_count": 5,
      "outputs": [
        {
          "output_type": "display_data",
          "data": {
            "image/png": "[encoded data removed]",
            "text/plain": [
              "<Figure size 432x288 with 1 Axes>"
            ]
          },
          "metadata": {
            "tags": []
          }
        }
      ]
    },
    {
      "cell_type": "code",
      "metadata": {
        "id": "LaOPEhzonIYH",
        "colab_type": "code",
        "colab": {}
      },
      "source": [
        "def show_imgs(n_rows, n_cols, x_data, y_data, class_names):\n",
        "    assert len(x_data) == len(y_data)\n",
        "    assert n_rows * n_cols < len(x_data)\n",
        "    plt.figure(figsize = (n_cols*1.4, n_rows*1.6))\n",
        "    for row in range(n_rows):\n",
        "        for col in range(n_cols):\n",
        "            index = n_cols * row + col\n",
        "            plt.subplot(n_rows, n_cols, index+1)\n",
        "            plt.imshow(x_data[index], cmap=\"binary\",\n",
        "                       interpolation = 'nearest')\n",
        "            plt.axis('off')\n",
        "            plt.title(class_names[y_data[index]])\n",
        "    plt.show()\n",
        "\n",
        "class_names = ['T-shirt', 'Trouser', 'Pullover', 'Dress',\n",
        "               'Coat', 'Sandal', 'Shirt', 'Sneaker',\n",
        "               'Bag', 'Ankle boot']\n"
      ],
      "execution_count": 0,
      "outputs": []
    },
    {
      "cell_type": "code",
      "metadata": {
        "id": "1WaTL_CJoHfp",
        "colab_type": "code",
        "outputId": "4fb930de-faca-4fc2-ed9c-cca7d275de19",
        "colab": {
          "base_uri": "https://localhost:8080/",
          "height": 315
        }
      },
      "source": [
        "show_imgs(3, 5, x_train, y_train, class_names)"
      ],
      "execution_count": 7,
      "outputs": [
        {
          "output_type": "display_data",
          "data": {
            "image/png": "[encoded data removed]",
            "text/plain": [
              "<Figure size 504x345.6 with 15 Axes>"
            ]
          },
          "metadata": {
            "tags": []
          }
        }
      ]
    },
    {
      "cell_type": "code",
      "metadata": {
        "id": "0qo1dX2bon-7",
        "colab_type": "code",
        "colab": {}
      },
      "source": [
        "# tf.keras.models.Sequential()\n",
        "model = keras.models.Sequential()\n",
        "\n",
        "model.add(keras.layers.Flatten(input_shape = [28, 28]))\n",
        "model.add(keras.layers.Dense(300, activation='relu'))\n",
        "model.add(keras.layers.Dense(100, activation='relu'))\n",
        "model.add(keras.layers.Dense(10, activation='softmax'))\n",
        "\n",
        "# relu: y=max(0, x)\n",
        "# softmax: 将向量变为概率分布. x = [x1, x2, x3]\n",
        "#          y = [e^x1/sum, e^x2/sum, e^x3/sum]\n",
        "#          sum = e^x1 + e^x2 + e^x3\n",
        "\n",
        "# 第二种Sequential使用方式：\n",
        "# model = keras.model.Sequential([\n",
        "#     keras.layers.Flatten(input_shape = [28, 28]),\n",
        "#     keras.layers.Dense(300, activation='relu'),\n",
        "#     keras.layers.Dense(100, activation='relu'),\n",
        "#     keras.layers.Dense(10, activation='softmax')\n",
        "# ])\n",
        "\n",
        "\n",
        "# sparse的原因：因为y->index.\n",
        "model.compile(loss=\"sparse_categorical_crossentropy\",\n",
        "              optimizer = 'sgd',\n",
        "              metrics = ['accuracy'])\n"
      ],
      "execution_count": 0,
      "outputs": []
    },
    {
      "cell_type": "code",
      "metadata": {
        "id": "0O2TQDphq2sl",
        "colab_type": "code",
        "outputId": "1395a032-e1de-458a-8c38-54260e2987af",
        "colab": {
          "base_uri": "https://localhost:8080/",
          "height": 85
        }
      },
      "source": [
        "model.layers"
      ],
      "execution_count": 9,
      "outputs": [
        {
          "output_type": "execute_result",
          "data": {
            "text/plain": [
              "[<tensorflow.python.keras.layers.core.Flatten at 0x7f9443baa1d0>,\n",
              " <tensorflow.python.keras.layers.core.Dense at 0x7f9443ebcb00>,\n",
              " <tensorflow.python.keras.layers.core.Dense at 0x7f9443b435f8>,\n",
              " <tensorflow.python.keras.layers.core.Dense at 0x7f9443b26e48>]"
            ]
          },
          "metadata": {
            "tags": []
          },
          "execution_count": 9
        }
      ]
    },
    {
      "cell_type": "code",
      "metadata": {
        "id": "H-75QyOHq_iG",
        "colab_type": "code",
        "outputId": "59504c98-bfb7-4ea9-ab1b-73955c74c4f6",
        "colab": {
          "base_uri": "https://localhost:8080/",
          "height": 289
        }
      },
      "source": [
        "model.summary()"
      ],
      "execution_count": 10,
      "outputs": [
        {
          "output_type": "stream",
          "text": [
            "Model: \"sequential\"\n",
            "_________________________________________________________________\n",
            "Layer (type)                 Output Shape              Param #   \n",
            "=================================================================\n",
            "flatten (Flatten)            (None, 784)               0         \n",
            "_________________________________________________________________\n",
            "dense (Dense)                (None, 300)               235500    \n",
            "_________________________________________________________________\n",
            "dense_1 (Dense)              (None, 100)               30100     \n",
            "_________________________________________________________________\n",
            "dense_2 (Dense)              (None, 10)                1010      \n",
            "=================================================================\n",
            "Total params: 266,610\n",
            "Trainable params: 266,610\n",
            "Non-trainable params: 0\n",
            "_________________________________________________________________\n"
          ],
          "name": "stdout"
        }
      ]
    },
    {
      "cell_type": "code",
      "metadata": {
        "id": "0JdT59XNrDXj",
        "colab_type": "code",
        "colab": {}
      },
      "source": [
        "# 第一层: [None, 784] * W + b -> [None, 300]\n",
        "# W.shape [784, 300], b.shape = [300, 1]"
      ],
      "execution_count": 0,
      "outputs": []
    },
    {
      "cell_type": "code",
      "metadata": {
        "id": "P9PM0CDOrV7j",
        "colab_type": "code",
        "outputId": "0f692a8d-af1e-453a-a116-edf941dc79be",
        "colab": {
          "base_uri": "https://localhost:8080/",
          "height": 394
        }
      },
      "source": [
        "history = model.fit(x_train, y_train, epochs = 10,\n",
        "          validation_data = (x_valid, y_valid))"
      ],
      "execution_count": 12,
      "outputs": [
        {
          "output_type": "stream",
          "text": [
            "Train on 55000 samples, validate on 5000 samples\n",
            "Epoch 1/10\n",
            "55000/55000 [==============================] - 6s 114us/sample - loss: 2.0620 - accuracy: 0.7345 - val_loss: 0.6053 - val_accuracy: 0.8018\n",
            "Epoch 2/10\n",
            "55000/55000 [==============================] - 5s 93us/sample - loss: 0.5567 - accuracy: 0.7990 - val_loss: 0.5311 - val_accuracy: 0.8220\n",
            "Epoch 3/10\n",
            "55000/55000 [==============================] - 5s 93us/sample - loss: 0.4939 - accuracy: 0.8215 - val_loss: 0.4981 - val_accuracy: 0.8324\n",
            "Epoch 4/10\n",
            "55000/55000 [==============================] - 5s 93us/sample - loss: 0.4561 - accuracy: 0.8331 - val_loss: 0.4771 - val_accuracy: 0.8416\n",
            "Epoch 5/10\n",
            "55000/55000 [==============================] - 6s 115us/sample - loss: 0.4260 - accuracy: 0.8430 - val_loss: 0.4728 - val_accuracy: 0.8396\n",
            "Epoch 6/10\n",
            "55000/55000 [==============================] - 6s 107us/sample - loss: 0.4054 - accuracy: 0.8496 - val_loss: 0.4586 - val_accuracy: 0.8510\n",
            "Epoch 7/10\n",
            "55000/55000 [==============================] - 5s 91us/sample - loss: 0.3888 - accuracy: 0.8560 - val_loss: 0.4454 - val_accuracy: 0.8522\n",
            "Epoch 8/10\n",
            "55000/55000 [==============================] - 5s 91us/sample - loss: 0.3749 - accuracy: 0.8624 - val_loss: 0.4365 - val_accuracy: 0.8530\n",
            "Epoch 9/10\n",
            "55000/55000 [==============================] - 5s 91us/sample - loss: 0.3631 - accuracy: 0.8648 - val_loss: 0.4520 - val_accuracy: 0.8474\n",
            "Epoch 10/10\n",
            "55000/55000 [==============================] - 5s 91us/sample - loss: 0.3533 - accuracy: 0.8684 - val_loss: 0.4298 - val_accuracy: 0.8574\n"
          ],
          "name": "stdout"
        }
      ]
    },
    {
      "cell_type": "code",
      "metadata": {
        "id": "6MQVZe1trbpN",
        "colab_type": "code",
        "outputId": "3973bb5b-e451-4e9f-c779-21af9dc16f34",
        "colab": {
          "base_uri": "https://localhost:8080/",
          "height": 34
        }
      },
      "source": [
        "type(history)"
      ],
      "execution_count": 13,
      "outputs": [
        {
          "output_type": "execute_result",
          "data": {
            "text/plain": [
              "tensorflow.python.keras.callbacks.History"
            ]
          },
          "metadata": {
            "tags": []
          },
          "execution_count": 13
        }
      ]
    },
    {
      "cell_type": "code",
      "metadata": {
        "id": "qvxhCx6-rqJM",
        "colab_type": "code",
        "outputId": "f89c1234-34e9-48c7-f2b5-d9a0a2e6f256",
        "colab": {
          "base_uri": "https://localhost:8080/",
          "height": 697
        }
      },
      "source": [
        "history.history"
      ],
      "execution_count": 14,
      "outputs": [
        {
          "output_type": "execute_result",
          "data": {
            "text/plain": [
              "{'accuracy': [0.73447275,\n",
              "  0.799,\n",
              "  0.8214545,\n",
              "  0.83314544,\n",
              "  0.8429818,\n",
              "  0.8496,\n",
              "  0.85603637,\n",
              "  0.8623818,\n",
              "  0.86483634,\n",
              "  0.8684],\n",
              " 'loss': [2.062013185561787,\n",
              "  0.5567055275223471,\n",
              "  0.4938889234282754,\n",
              "  0.4560928507761522,\n",
              "  0.42596423987475307,\n",
              "  0.40540996001850477,\n",
              "  0.38881416422453796,\n",
              "  0.3748693872906945,\n",
              "  0.36312224663387643,\n",
              "  0.35331400035077876],\n",
              " 'val_accuracy': [0.8018,\n",
              "  0.822,\n",
              "  0.8324,\n",
              "  0.8416,\n",
              "  0.8396,\n",
              "  0.851,\n",
              "  0.8522,\n",
              "  0.853,\n",
              "  0.8474,\n",
              "  0.8574],\n",
              " 'val_loss': [0.6053233849525451,\n",
              "  0.5311240508079529,\n",
              "  0.49814177188873293,\n",
              "  0.4771014800071716,\n",
              "  0.472820001745224,\n",
              "  0.45861260561943057,\n",
              "  0.4453620403766632,\n",
              "  0.43645666875839234,\n",
              "  0.4519670714616775,\n",
              "  0.42980154151916505]}"
            ]
          },
          "metadata": {
            "tags": []
          },
          "execution_count": 14
        }
      ]
    },
    {
      "cell_type": "code",
      "metadata": {
        "id": "a6emmBwbrtwj",
        "colab_type": "code",
        "outputId": "6905fe49-a5e7-4fb0-c1af-b2382272e99d",
        "colab": {
          "base_uri": "https://localhost:8080/",
          "height": 324
        }
      },
      "source": [
        "def plot_learning_curves(history):\n",
        "    pd.DataFrame(history.history).plot(figsize=(8, 5))\n",
        "    plt.grid(True)\n",
        "    plt.gca().set_ylim(0, 1)\n",
        "    plt.show()\n",
        "    \n",
        "plot_learning_curves(history)"
      ],
      "execution_count": 15,
      "outputs": [
        {
          "output_type": "display_data",
          "data": {
            "image/png": "[encoded data removed]",
            "text/plain": [
              "<Figure size 576x360 with 1 Axes>"
            ]
          },
          "metadata": {
            "tags": []
          }
        }
      ]
    },
    {
      "cell_type": "code",
      "metadata": {
        "id": "8Dj6ReCFykYi",
        "colab_type": "code",
        "colab": {
          "base_uri": "https://localhost:8080/",
          "height": 71
        },
        "outputId": "6fb57f02-2ed7-456d-a6f8-7c187d2896ba"
      },
      "source": [
        "model.evaluate(x_test, y_test)"
      ],
      "execution_count": 16,
      "outputs": [
        {
          "output_type": "stream",
          "text": [
            "10000/10000 [==============================] - 0s 50us/sample - loss: 0.4591 - accuracy: 0.8440\n"
          ],
          "name": "stdout"
        },
        {
          "output_type": "execute_result",
          "data": {
            "text/plain": [
              "[0.45911563657522203, 0.844]"
            ]
          },
          "metadata": {
            "tags": []
          },
          "execution_count": 16
        }
      ]
    }
  ]
}