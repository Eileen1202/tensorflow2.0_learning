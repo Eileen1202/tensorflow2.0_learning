{
  "nbformat": 4,
  "nbformat_minor": 0,
  "metadata": {
    "colab": {
      "name": "tf_keras_regression_wide_deep_multi_output.ipynb",
      "version": "0.3.2",
      "provenance": [],
      "include_colab_link": true
    },
    "kernelspec": {
      "name": "python3",
      "display_name": "Python 3"
    },
    "accelerator": "GPU"
  },
  "cells": [
    {
      "cell_type": "markdown",
      "metadata": {
        "id": "view-in-github",
        "colab_type": "text"
      },
      "source": [
        "<a href=\"https://colab.research.google.com/github/vvshyer/tensorflow2.0_learning/blob/master/tf_keras_regression_wide_deep_multi_output.ipynb\" target=\"_parent\"><img src=\"https://colab.research.google.com/assets/colab-badge.svg\" alt=\"Open In Colab\"/></a>"
      ]
    },
    {
      "cell_type": "code",
      "metadata": {
        "id": "HUoJrGPpbb-h",
        "colab_type": "code",
        "colab": {}
      },
      "source": [
        "!pip install tensorflow==2.0.0-alpha0 "
      ],
      "execution_count": 0,
      "outputs": []
    },
    {
      "cell_type": "code",
      "metadata": {
        "id": "8ezK57pS6ZSF",
        "colab_type": "code",
        "outputId": "1ac19a54-dbbf-464f-a3e1-b5e4374028b1",
        "colab": {
          "base_uri": "https://localhost:8080/",
          "height": 173
        }
      },
      "source": [
        "import matplotlib as mpl\n",
        "import matplotlib.pyplot as plt\n",
        "%matplotlib inline\n",
        "import numpy as np\n",
        "import sklearn\n",
        "import pandas as pd\n",
        "import os\n",
        "import sys\n",
        "import time\n",
        "import tensorflow as tf\n",
        "\n",
        "from tensorflow import keras\n",
        "\n",
        "print(tf.__version__)\n",
        "print(sys.version_info)\n",
        "for module in mpl, np, pd, sklearn, tf, keras:\n",
        "    print(module.__name__, module.__version__)"
      ],
      "execution_count": 1,
      "outputs": [
        {
          "output_type": "stream",
          "text": [
            "2.0.0-alpha0\n",
            "sys.version_info(major=3, minor=6, micro=7, releaselevel='final', serial=0)\n",
            "matplotlib 3.0.3\n",
            "numpy 1.16.3\n",
            "pandas 0.24.2\n",
            "sklearn 0.21.1\n",
            "tensorflow 2.0.0-alpha0\n",
            "tensorflow.python.keras.api._v2.keras 2.2.4-tf\n"
          ],
          "name": "stdout"
        }
      ]
    },
    {
      "cell_type": "code",
      "metadata": {
        "id": "hd13Iimm6j7Q",
        "colab_type": "code",
        "outputId": "e6b07952-8063-42d5-9ad9-7c23f4bd3c6e",
        "colab": {
          "base_uri": "https://localhost:8080/",
          "height": 768
        }
      },
      "source": [
        "from sklearn.datasets import fetch_california_housing\n",
        "\n",
        "housing = fetch_california_housing()\n",
        "print(housing.DESCR)\n",
        "print(housing.data.shape)\n",
        "print(housing.target.shape)"
      ],
      "execution_count": 2,
      "outputs": [
        {
          "output_type": "stream",
          "text": [
            ".. _california_housing_dataset:\n",
            "\n",
            "California Housing dataset\n",
            "--------------------------\n",
            "\n",
            "**Data Set Characteristics:**\n",
            "\n",
            "    :Number of Instances: 20640\n",
            "\n",
            "    :Number of Attributes: 8 numeric, predictive attributes and the target\n",
            "\n",
            "    :Attribute Information:\n",
            "        - MedInc        median income in block\n",
            "        - HouseAge      median house age in block\n",
            "        - AveRooms      average number of rooms\n",
            "        - AveBedrms     average number of bedrooms\n",
            "        - Population    block population\n",
            "        - AveOccup      average house occupancy\n",
            "        - Latitude      house block latitude\n",
            "        - Longitude     house block longitude\n",
            "\n",
            "    :Missing Attribute Values: None\n",
            "\n",
            "This dataset was obtained from the StatLib repository.\n",
            "http://lib.stat.cmu.edu/datasets/\n",
            "\n",
            "The target variable is the median house value for California districts.\n",
            "\n",
            "This dataset was derived from the 1990 U.S. census, using one row per census\n",
            "block group. A block group is the smallest geographical unit for which the U.S.\n",
            "Census Bureau publishes sample data (a block group typically has a population\n",
            "of 600 to 3,000 people).\n",
            "\n",
            "It can be downloaded/loaded using the\n",
            ":func:`sklearn.datasets.fetch_california_housing` function.\n",
            "\n",
            ".. topic:: References\n",
            "\n",
            "    - Pace, R. Kelley and Ronald Barry, Sparse Spatial Autoregressions,\n",
            "      Statistics and Probability Letters, 33 (1997) 291-297\n",
            "\n",
            "(20640, 8)\n",
            "(20640,)\n"
          ],
          "name": "stdout"
        }
      ]
    },
    {
      "cell_type": "code",
      "metadata": {
        "id": "sy2zeFXF7O6V",
        "colab_type": "code",
        "outputId": "073d06b2-a3f7-4af2-a379-c1cb6bf27d89",
        "colab": {
          "base_uri": "https://localhost:8080/",
          "height": 68
        }
      },
      "source": [
        "from sklearn.model_selection import train_test_split\n",
        "\n",
        "# test_size默认为0.25\n",
        "x_train_all, x_test, y_train_all, y_test = train_test_split(\n",
        "    housing.data, housing.target, random_state = 7, test_size = 0.25)\n",
        "\n",
        "x_train, x_valid, y_train, y_valid = train_test_split(\n",
        "    x_train_all, y_train_all, random_state = 11)\n",
        "\n",
        "print(x_train.shape, y_train.shape)\n",
        "print(x_valid.shape, y_valid.shape)\n",
        "print(x_test.shape, y_test.shape)"
      ],
      "execution_count": 3,
      "outputs": [
        {
          "output_type": "stream",
          "text": [
            "(11610, 8) (11610,)\n",
            "(3870, 8) (3870,)\n",
            "(5160, 8) (5160,)\n"
          ],
          "name": "stdout"
        }
      ]
    },
    {
      "cell_type": "code",
      "metadata": {
        "id": "TvaW64pQ7418",
        "colab_type": "code",
        "colab": {}
      },
      "source": [
        "from sklearn.preprocessing import StandardScaler\n",
        "\n",
        "scaler = StandardScaler()\n",
        "x_train_scaled = scaler.fit_transform(x_train)\n",
        "x_valid_scaled = scaler.transform(x_valid)\n",
        "x_test_scaled = scaler.transform(x_test)"
      ],
      "execution_count": 0,
      "outputs": []
    },
    {
      "cell_type": "code",
      "metadata": {
        "id": "7IkL0UAt8Qzo",
        "colab_type": "code",
        "outputId": "f343a842-e479-4211-bd8a-019fedb2989d",
        "colab": {
          "base_uri": "https://localhost:8080/",
          "height": 428
        }
      },
      "source": [
        "# 多输入\n",
        "input_wide = keras.layers.Input(shape=[5])\n",
        "input_deep = keras.layers.Input(shape=[6])\n",
        "hidden1 = keras.layers.Dense(30, activation='relu')(input_deep)\n",
        "hidden2 = keras.layers.Dense(30, activation='relu')(hidden1)\n",
        "concat = keras.layers.concatenate([input_wide, hidden2])\n",
        "output = keras.layers.Dense(1)(concat)\n",
        "output2 = keras.layers.Dense(1)(hidden2)\n",
        "model = keras.models.Model(inputs = [input_wide, input_deep],\n",
        "                          outputs = [output, output2])\n",
        "\n",
        "model.summary()\n",
        "model.compile(loss=\"mean_squared_error\", optimizer = \"sgd\")\n",
        "callbacks = [keras.callbacks.EarlyStopping(patience=5, min_delta=1e-3)]"
      ],
      "execution_count": 5,
      "outputs": [
        {
          "output_type": "stream",
          "text": [
            "Model: \"model\"\n",
            "__________________________________________________________________________________________________\n",
            "Layer (type)                    Output Shape         Param #     Connected to                     \n",
            "==================================================================================================\n",
            "input_2 (InputLayer)            [(None, 6)]          0                                            \n",
            "__________________________________________________________________________________________________\n",
            "dense (Dense)                   (None, 30)           210         input_2[0][0]                    \n",
            "__________________________________________________________________________________________________\n",
            "input_1 (InputLayer)            [(None, 5)]          0                                            \n",
            "__________________________________________________________________________________________________\n",
            "dense_1 (Dense)                 (None, 30)           930         dense[0][0]                      \n",
            "__________________________________________________________________________________________________\n",
            "concatenate (Concatenate)       (None, 35)           0           input_1[0][0]                    \n",
            "                                                                 dense_1[0][0]                    \n",
            "__________________________________________________________________________________________________\n",
            "dense_2 (Dense)                 (None, 1)            36          concatenate[0][0]                \n",
            "__________________________________________________________________________________________________\n",
            "dense_3 (Dense)                 (None, 1)            31          dense_1[0][0]                    \n",
            "==================================================================================================\n",
            "Total params: 1,207\n",
            "Trainable params: 1,207\n",
            "Non-trainable params: 0\n",
            "__________________________________________________________________________________________________\n"
          ],
          "name": "stdout"
        }
      ]
    },
    {
      "cell_type": "code",
      "metadata": {
        "id": "P3g9RQd287SJ",
        "colab_type": "code",
        "outputId": "0fa2da0a-f6eb-4634-e592-2a7becb46461",
        "colab": {
          "base_uri": "https://localhost:8080/",
          "height": 3454
        }
      },
      "source": [
        "x_train_scaled_wide = x_train_scaled[:, :5]\n",
        "x_train_scaled_deep = x_train_scaled[:, 2:]\n",
        "x_valid_scaled_wide = x_valid_scaled[:, :5]\n",
        "x_valid_scaled_deep = x_valid_scaled[:, 2:]\n",
        "x_test_scaled_wide = x_test_scaled[:, :5]\n",
        "x_test_scaled_deep = x_test_scaled[:, 2:]\n",
        "\n",
        "history = model.fit([x_train_scaled_wide, x_train_scaled_deep], [y_train, y_train],\n",
        "                   validation_data = ([x_valid_scaled_wide, x_valid_scaled_deep], [y_valid, y_valid]),\n",
        "                   epochs = 100,\n",
        "                   callbacks = callbacks)"
      ],
      "execution_count": 6,
      "outputs": [
        {
          "output_type": "stream",
          "text": [
            "Train on 11610 samples, validate on 3870 samples\n",
            "Epoch 1/100\n",
            "11610/11610 [==============================] - 1s 77us/sample - loss: 4.0510 - dense_2_loss: 2.3348 - dense_3_loss: 1.7162 - val_loss: 2.2516 - val_dense_2_loss: 1.0534 - val_dense_3_loss: 1.1982\n",
            "Epoch 2/100\n",
            "11610/11610 [==============================] - 1s 52us/sample - loss: 1.7888 - dense_2_loss: 0.8112 - dense_3_loss: 0.9776 - val_loss: 1.7396 - val_dense_2_loss: 0.7635 - val_dense_3_loss: 0.9761\n",
            "Epoch 3/100\n",
            "11610/11610 [==============================] - 1s 52us/sample - loss: 1.4984 - dense_2_loss: 0.6640 - dense_3_loss: 0.8345 - val_loss: 1.5463 - val_dense_2_loss: 0.6781 - val_dense_3_loss: 0.8682\n",
            "Epoch 4/100\n",
            "11610/11610 [==============================] - 1s 51us/sample - loss: 1.3763 - dense_2_loss: 0.6125 - dense_3_loss: 0.7638 - val_loss: 1.4387 - val_dense_2_loss: 0.6329 - val_dense_3_loss: 0.8059\n",
            "Epoch 5/100\n",
            "11610/11610 [==============================] - 1s 51us/sample - loss: 1.2972 - dense_2_loss: 0.5770 - dense_3_loss: 0.7202 - val_loss: 1.3637 - val_dense_2_loss: 0.5989 - val_dense_3_loss: 0.7648\n",
            "Epoch 6/100\n",
            "11610/11610 [==============================] - 1s 51us/sample - loss: 1.2406 - dense_2_loss: 0.5495 - dense_3_loss: 0.6912 - val_loss: 1.3084 - val_dense_2_loss: 0.5708 - val_dense_3_loss: 0.7376\n",
            "Epoch 7/100\n",
            "11610/11610 [==============================] - 1s 51us/sample - loss: 1.2011 - dense_2_loss: 0.5290 - dense_3_loss: 0.6721 - val_loss: 1.2679 - val_dense_2_loss: 0.5516 - val_dense_3_loss: 0.7163\n",
            "Epoch 8/100\n",
            "11610/11610 [==============================] - 1s 50us/sample - loss: 1.1670 - dense_2_loss: 0.5109 - dense_3_loss: 0.6561 - val_loss: 1.2236 - val_dense_2_loss: 0.5318 - val_dense_3_loss: 0.6918\n",
            "Epoch 9/100\n",
            "11610/11610 [==============================] - 1s 51us/sample - loss: 1.1374 - dense_2_loss: 0.4956 - dense_3_loss: 0.6418 - val_loss: 1.1967 - val_dense_2_loss: 0.5164 - val_dense_3_loss: 0.6802\n",
            "Epoch 10/100\n",
            "11610/11610 [==============================] - 1s 51us/sample - loss: 1.1128 - dense_2_loss: 0.4826 - dense_3_loss: 0.6302 - val_loss: 1.1710 - val_dense_2_loss: 0.5026 - val_dense_3_loss: 0.6684\n",
            "Epoch 11/100\n",
            "11610/11610 [==============================] - 1s 51us/sample - loss: 1.0905 - dense_2_loss: 0.4708 - dense_3_loss: 0.6197 - val_loss: 1.1562 - val_dense_2_loss: 0.4931 - val_dense_3_loss: 0.6631\n",
            "Epoch 12/100\n",
            "11610/11610 [==============================] - 1s 51us/sample - loss: 1.0699 - dense_2_loss: 0.4601 - dense_3_loss: 0.6098 - val_loss: 1.1359 - val_dense_2_loss: 0.4795 - val_dense_3_loss: 0.6564\n",
            "Epoch 13/100\n",
            "11610/11610 [==============================] - 1s 51us/sample - loss: 1.0527 - dense_2_loss: 0.4511 - dense_3_loss: 0.6016 - val_loss: 1.1157 - val_dense_2_loss: 0.4710 - val_dense_3_loss: 0.6447\n",
            "Epoch 14/100\n",
            "11610/11610 [==============================] - 1s 52us/sample - loss: 1.0362 - dense_2_loss: 0.4426 - dense_3_loss: 0.5936 - val_loss: 1.0912 - val_dense_2_loss: 0.4615 - val_dense_3_loss: 0.6297\n",
            "Epoch 15/100\n",
            "11610/11610 [==============================] - 1s 51us/sample - loss: 1.0220 - dense_2_loss: 0.4358 - dense_3_loss: 0.5862 - val_loss: 1.0822 - val_dense_2_loss: 0.4554 - val_dense_3_loss: 0.6268\n",
            "Epoch 16/100\n",
            "11610/11610 [==============================] - 1s 51us/sample - loss: 1.0090 - dense_2_loss: 0.4295 - dense_3_loss: 0.5795 - val_loss: 1.0671 - val_dense_2_loss: 0.4497 - val_dense_3_loss: 0.6174\n",
            "Epoch 17/100\n",
            "11610/11610 [==============================] - 1s 47us/sample - loss: 0.9978 - dense_2_loss: 0.4248 - dense_3_loss: 0.5730 - val_loss: 1.0596 - val_dense_2_loss: 0.4458 - val_dense_3_loss: 0.6139\n",
            "Epoch 18/100\n",
            "11610/11610 [==============================] - 1s 49us/sample - loss: 0.9874 - dense_2_loss: 0.4207 - dense_3_loss: 0.5667 - val_loss: 1.0511 - val_dense_2_loss: 0.4424 - val_dense_3_loss: 0.6087\n",
            "Epoch 19/100\n",
            "11610/11610 [==============================] - 1s 54us/sample - loss: 0.9769 - dense_2_loss: 0.4161 - dense_3_loss: 0.5608 - val_loss: 1.0367 - val_dense_2_loss: 0.4368 - val_dense_3_loss: 0.6000\n",
            "Epoch 20/100\n",
            "11610/11610 [==============================] - 1s 55us/sample - loss: 0.9693 - dense_2_loss: 0.4135 - dense_3_loss: 0.5558 - val_loss: 1.0230 - val_dense_2_loss: 0.4334 - val_dense_3_loss: 0.5897\n",
            "Epoch 21/100\n",
            "11610/11610 [==============================] - 1s 54us/sample - loss: 0.9610 - dense_2_loss: 0.4105 - dense_3_loss: 0.5505 - val_loss: 1.0180 - val_dense_2_loss: 0.4318 - val_dense_3_loss: 0.5862\n",
            "Epoch 22/100\n",
            "11610/11610 [==============================] - 1s 56us/sample - loss: 0.9523 - dense_2_loss: 0.4073 - dense_3_loss: 0.5450 - val_loss: 1.0053 - val_dense_2_loss: 0.4327 - val_dense_3_loss: 0.5726\n",
            "Epoch 23/100\n",
            "11610/11610 [==============================] - 1s 53us/sample - loss: 0.9465 - dense_2_loss: 0.4054 - dense_3_loss: 0.5411 - val_loss: 0.9974 - val_dense_2_loss: 0.4251 - val_dense_3_loss: 0.5723\n",
            "Epoch 24/100\n",
            "11610/11610 [==============================] - 1s 53us/sample - loss: 0.9382 - dense_2_loss: 0.4026 - dense_3_loss: 0.5356 - val_loss: 0.9907 - val_dense_2_loss: 0.4232 - val_dense_3_loss: 0.5675\n",
            "Epoch 25/100\n",
            "11610/11610 [==============================] - 1s 53us/sample - loss: 0.9321 - dense_2_loss: 0.4009 - dense_3_loss: 0.5312 - val_loss: 0.9806 - val_dense_2_loss: 0.4200 - val_dense_3_loss: 0.5606\n",
            "Epoch 26/100\n",
            "11610/11610 [==============================] - 1s 52us/sample - loss: 0.9244 - dense_2_loss: 0.3977 - dense_3_loss: 0.5267 - val_loss: 0.9864 - val_dense_2_loss: 0.4199 - val_dense_3_loss: 0.5665\n",
            "Epoch 27/100\n",
            "11610/11610 [==============================] - 1s 54us/sample - loss: 0.9183 - dense_2_loss: 0.3957 - dense_3_loss: 0.5226 - val_loss: 0.9765 - val_dense_2_loss: 0.4206 - val_dense_3_loss: 0.5560\n",
            "Epoch 28/100\n",
            "11610/11610 [==============================] - 1s 53us/sample - loss: 0.9128 - dense_2_loss: 0.3936 - dense_3_loss: 0.5192 - val_loss: 0.9664 - val_dense_2_loss: 0.4141 - val_dense_3_loss: 0.5522\n",
            "Epoch 29/100\n",
            "11610/11610 [==============================] - 1s 53us/sample - loss: 0.9069 - dense_2_loss: 0.3923 - dense_3_loss: 0.5146 - val_loss: 0.9590 - val_dense_2_loss: 0.4147 - val_dense_3_loss: 0.5442\n",
            "Epoch 30/100\n",
            "11610/11610 [==============================] - 1s 53us/sample - loss: 0.9014 - dense_2_loss: 0.3906 - dense_3_loss: 0.5108 - val_loss: 0.9555 - val_dense_2_loss: 0.4113 - val_dense_3_loss: 0.5441\n",
            "Epoch 31/100\n",
            "11610/11610 [==============================] - 1s 54us/sample - loss: 0.8937 - dense_2_loss: 0.3872 - dense_3_loss: 0.5065 - val_loss: 0.9473 - val_dense_2_loss: 0.4081 - val_dense_3_loss: 0.5391\n",
            "Epoch 32/100\n",
            "11610/11610 [==============================] - 1s 54us/sample - loss: 0.8900 - dense_2_loss: 0.3861 - dense_3_loss: 0.5038 - val_loss: 0.9398 - val_dense_2_loss: 0.4066 - val_dense_3_loss: 0.5333\n",
            "Epoch 33/100\n",
            "11610/11610 [==============================] - 1s 53us/sample - loss: 0.8845 - dense_2_loss: 0.3850 - dense_3_loss: 0.4996 - val_loss: 0.9339 - val_dense_2_loss: 0.4053 - val_dense_3_loss: 0.5286\n",
            "Epoch 34/100\n",
            "11610/11610 [==============================] - 1s 52us/sample - loss: 0.8794 - dense_2_loss: 0.3830 - dense_3_loss: 0.4964 - val_loss: 0.9296 - val_dense_2_loss: 0.4030 - val_dense_3_loss: 0.5266\n",
            "Epoch 35/100\n",
            "11610/11610 [==============================] - 1s 45us/sample - loss: 0.8738 - dense_2_loss: 0.3813 - dense_3_loss: 0.4924 - val_loss: 0.9196 - val_dense_2_loss: 0.4015 - val_dense_3_loss: 0.5181\n",
            "Epoch 36/100\n",
            "11610/11610 [==============================] - 1s 45us/sample - loss: 0.8685 - dense_2_loss: 0.3794 - dense_3_loss: 0.4891 - val_loss: 0.9264 - val_dense_2_loss: 0.3986 - val_dense_3_loss: 0.5278\n",
            "Epoch 37/100\n",
            "11610/11610 [==============================] - 1s 46us/sample - loss: 0.8623 - dense_2_loss: 0.3774 - dense_3_loss: 0.4849 - val_loss: 0.9205 - val_dense_2_loss: 0.3971 - val_dense_3_loss: 0.5234\n",
            "Epoch 38/100\n",
            "11610/11610 [==============================] - 1s 45us/sample - loss: 0.8591 - dense_2_loss: 0.3767 - dense_3_loss: 0.4824 - val_loss: 0.9116 - val_dense_2_loss: 0.3952 - val_dense_3_loss: 0.5165\n",
            "Epoch 39/100\n",
            "11610/11610 [==============================] - 1s 46us/sample - loss: 0.8535 - dense_2_loss: 0.3747 - dense_3_loss: 0.4788 - val_loss: 0.9048 - val_dense_2_loss: 0.3931 - val_dense_3_loss: 0.5118\n",
            "Epoch 40/100\n",
            "11610/11610 [==============================] - 1s 45us/sample - loss: 0.8479 - dense_2_loss: 0.3727 - dense_3_loss: 0.4752 - val_loss: 0.9028 - val_dense_2_loss: 0.3959 - val_dense_3_loss: 0.5069\n",
            "Epoch 41/100\n",
            "11610/11610 [==============================] - 1s 46us/sample - loss: 0.8459 - dense_2_loss: 0.3724 - dense_3_loss: 0.4735 - val_loss: 0.8987 - val_dense_2_loss: 0.3924 - val_dense_3_loss: 0.5063\n",
            "Epoch 42/100\n",
            "11610/11610 [==============================] - 1s 45us/sample - loss: 0.8404 - dense_2_loss: 0.3705 - dense_3_loss: 0.4699 - val_loss: 0.8951 - val_dense_2_loss: 0.3921 - val_dense_3_loss: 0.5030\n",
            "Epoch 43/100\n",
            "11610/11610 [==============================] - 1s 46us/sample - loss: 0.8353 - dense_2_loss: 0.3691 - dense_3_loss: 0.4662 - val_loss: 0.8878 - val_dense_2_loss: 0.3925 - val_dense_3_loss: 0.4953\n",
            "Epoch 44/100\n",
            "11610/11610 [==============================] - 1s 45us/sample - loss: 0.8330 - dense_2_loss: 0.3687 - dense_3_loss: 0.4643 - val_loss: 0.8832 - val_dense_2_loss: 0.3929 - val_dense_3_loss: 0.4903\n",
            "Epoch 45/100\n",
            "11610/11610 [==============================] - 1s 45us/sample - loss: 0.8283 - dense_2_loss: 0.3668 - dense_3_loss: 0.4615 - val_loss: 0.8772 - val_dense_2_loss: 0.3851 - val_dense_3_loss: 0.4922\n",
            "Epoch 46/100\n",
            "11610/11610 [==============================] - 1s 45us/sample - loss: 0.8234 - dense_2_loss: 0.3651 - dense_3_loss: 0.4582 - val_loss: 0.8746 - val_dense_2_loss: 0.3840 - val_dense_3_loss: 0.4906\n",
            "Epoch 47/100\n",
            "11610/11610 [==============================] - 1s 47us/sample - loss: 0.8210 - dense_2_loss: 0.3650 - dense_3_loss: 0.4560 - val_loss: 0.8726 - val_dense_2_loss: 0.3863 - val_dense_3_loss: 0.4863\n",
            "Epoch 48/100\n",
            "11610/11610 [==============================] - 1s 44us/sample - loss: 0.8139 - dense_2_loss: 0.3618 - dense_3_loss: 0.4521 - val_loss: 0.8654 - val_dense_2_loss: 0.3822 - val_dense_3_loss: 0.4831\n",
            "Epoch 49/100\n",
            "11610/11610 [==============================] - 1s 45us/sample - loss: 0.8105 - dense_2_loss: 0.3609 - dense_3_loss: 0.4496 - val_loss: 0.8613 - val_dense_2_loss: 0.3804 - val_dense_3_loss: 0.4809\n",
            "Epoch 50/100\n",
            "11610/11610 [==============================] - 1s 44us/sample - loss: 0.8083 - dense_2_loss: 0.3602 - dense_3_loss: 0.4481 - val_loss: 0.8622 - val_dense_2_loss: 0.3806 - val_dense_3_loss: 0.4816\n",
            "Epoch 51/100\n",
            "11610/11610 [==============================] - 1s 46us/sample - loss: 0.8049 - dense_2_loss: 0.3591 - dense_3_loss: 0.4457 - val_loss: 0.8519 - val_dense_2_loss: 0.3764 - val_dense_3_loss: 0.4756\n",
            "Epoch 52/100\n",
            "11610/11610 [==============================] - 1s 45us/sample - loss: 0.8022 - dense_2_loss: 0.3589 - dense_3_loss: 0.4433 - val_loss: 0.8464 - val_dense_2_loss: 0.3782 - val_dense_3_loss: 0.4681\n",
            "Epoch 53/100\n",
            "11610/11610 [==============================] - 1s 45us/sample - loss: 0.7964 - dense_2_loss: 0.3560 - dense_3_loss: 0.4404 - val_loss: 0.8445 - val_dense_2_loss: 0.3746 - val_dense_3_loss: 0.4699\n",
            "Epoch 54/100\n",
            "11610/11610 [==============================] - 1s 45us/sample - loss: 0.7925 - dense_2_loss: 0.3545 - dense_3_loss: 0.4380 - val_loss: 0.8401 - val_dense_2_loss: 0.3736 - val_dense_3_loss: 0.4665\n",
            "Epoch 55/100\n",
            "11610/11610 [==============================] - 1s 44us/sample - loss: 0.7912 - dense_2_loss: 0.3547 - dense_3_loss: 0.4365 - val_loss: 0.8400 - val_dense_2_loss: 0.3729 - val_dense_3_loss: 0.4671\n",
            "Epoch 56/100\n",
            "11610/11610 [==============================] - 1s 45us/sample - loss: 0.7869 - dense_2_loss: 0.3534 - dense_3_loss: 0.4334 - val_loss: 0.8324 - val_dense_2_loss: 0.3757 - val_dense_3_loss: 0.4567\n",
            "Epoch 57/100\n",
            "11610/11610 [==============================] - 1s 45us/sample - loss: 0.7851 - dense_2_loss: 0.3524 - dense_3_loss: 0.4327 - val_loss: 0.8294 - val_dense_2_loss: 0.3706 - val_dense_3_loss: 0.4587\n",
            "Epoch 58/100\n",
            "11610/11610 [==============================] - 1s 45us/sample - loss: 0.7797 - dense_2_loss: 0.3508 - dense_3_loss: 0.4289 - val_loss: 0.8280 - val_dense_2_loss: 0.3702 - val_dense_3_loss: 0.4579\n",
            "Epoch 59/100\n",
            "11610/11610 [==============================] - 1s 45us/sample - loss: 0.7776 - dense_2_loss: 0.3498 - dense_3_loss: 0.4278 - val_loss: 0.8192 - val_dense_2_loss: 0.3697 - val_dense_3_loss: 0.4496\n",
            "Epoch 60/100\n",
            "11610/11610 [==============================] - 1s 45us/sample - loss: 0.7750 - dense_2_loss: 0.3493 - dense_3_loss: 0.4257 - val_loss: 0.8240 - val_dense_2_loss: 0.3668 - val_dense_3_loss: 0.4572\n",
            "Epoch 61/100\n",
            "11610/11610 [==============================] - 1s 45us/sample - loss: 0.7713 - dense_2_loss: 0.3479 - dense_3_loss: 0.4234 - val_loss: 0.8179 - val_dense_2_loss: 0.3654 - val_dense_3_loss: 0.4525\n",
            "Epoch 62/100\n",
            "11610/11610 [==============================] - 1s 45us/sample - loss: 0.7687 - dense_2_loss: 0.3472 - dense_3_loss: 0.4215 - val_loss: 0.8136 - val_dense_2_loss: 0.3663 - val_dense_3_loss: 0.4473\n",
            "Epoch 63/100\n",
            "11610/11610 [==============================] - 1s 45us/sample - loss: 0.7688 - dense_2_loss: 0.3470 - dense_3_loss: 0.4219 - val_loss: 0.8133 - val_dense_2_loss: 0.3634 - val_dense_3_loss: 0.4499\n",
            "Epoch 64/100\n",
            "11610/11610 [==============================] - 1s 45us/sample - loss: 0.7630 - dense_2_loss: 0.3447 - dense_3_loss: 0.4183 - val_loss: 0.8044 - val_dense_2_loss: 0.3633 - val_dense_3_loss: 0.4410\n",
            "Epoch 65/100\n",
            "11610/11610 [==============================] - 1s 45us/sample - loss: 0.7619 - dense_2_loss: 0.3445 - dense_3_loss: 0.4174 - val_loss: 0.8007 - val_dense_2_loss: 0.3606 - val_dense_3_loss: 0.4401\n",
            "Epoch 66/100\n",
            "11610/11610 [==============================] - 1s 45us/sample - loss: 0.7584 - dense_2_loss: 0.3432 - dense_3_loss: 0.4153 - val_loss: 0.8042 - val_dense_2_loss: 0.3621 - val_dense_3_loss: 0.4421\n",
            "Epoch 67/100\n",
            "11610/11610 [==============================] - 1s 45us/sample - loss: 0.7570 - dense_2_loss: 0.3430 - dense_3_loss: 0.4140 - val_loss: 0.7974 - val_dense_2_loss: 0.3607 - val_dense_3_loss: 0.4367\n",
            "Epoch 68/100\n",
            "11610/11610 [==============================] - 1s 45us/sample - loss: 0.7532 - dense_2_loss: 0.3417 - dense_3_loss: 0.4114 - val_loss: 0.7922 - val_dense_2_loss: 0.3568 - val_dense_3_loss: 0.4354\n",
            "Epoch 69/100\n",
            "11610/11610 [==============================] - 1s 44us/sample - loss: 0.7531 - dense_2_loss: 0.3414 - dense_3_loss: 0.4117 - val_loss: 0.7978 - val_dense_2_loss: 0.3558 - val_dense_3_loss: 0.4421\n",
            "Epoch 70/100\n",
            "11610/11610 [==============================] - 1s 46us/sample - loss: 0.7530 - dense_2_loss: 0.3419 - dense_3_loss: 0.4111 - val_loss: 0.7926 - val_dense_2_loss: 0.3582 - val_dense_3_loss: 0.4344\n",
            "Epoch 71/100\n",
            "11610/11610 [==============================] - 1s 48us/sample - loss: 0.7494 - dense_2_loss: 0.3403 - dense_3_loss: 0.4091 - val_loss: 0.7840 - val_dense_2_loss: 0.3554 - val_dense_3_loss: 0.4286\n",
            "Epoch 72/100\n",
            "11610/11610 [==============================] - 1s 46us/sample - loss: 0.7433 - dense_2_loss: 0.3379 - dense_3_loss: 0.4054 - val_loss: 0.7910 - val_dense_2_loss: 0.3580 - val_dense_3_loss: 0.4331\n",
            "Epoch 73/100\n",
            "11610/11610 [==============================] - 1s 45us/sample - loss: 0.7420 - dense_2_loss: 0.3378 - dense_3_loss: 0.4042 - val_loss: 0.7776 - val_dense_2_loss: 0.3533 - val_dense_3_loss: 0.4242\n",
            "Epoch 74/100\n",
            "11610/11610 [==============================] - 1s 46us/sample - loss: 0.7406 - dense_2_loss: 0.3373 - dense_3_loss: 0.4034 - val_loss: 0.7730 - val_dense_2_loss: 0.3522 - val_dense_3_loss: 0.4208\n",
            "Epoch 75/100\n",
            "11610/11610 [==============================] - 1s 45us/sample - loss: 0.7379 - dense_2_loss: 0.3361 - dense_3_loss: 0.4018 - val_loss: 0.7689 - val_dense_2_loss: 0.3508 - val_dense_3_loss: 0.4181\n",
            "Epoch 76/100\n",
            "11610/11610 [==============================] - 1s 45us/sample - loss: 0.7382 - dense_2_loss: 0.3362 - dense_3_loss: 0.4020 - val_loss: 0.7669 - val_dense_2_loss: 0.3489 - val_dense_3_loss: 0.4180\n",
            "Epoch 77/100\n",
            "11610/11610 [==============================] - 1s 44us/sample - loss: 0.7379 - dense_2_loss: 0.3370 - dense_3_loss: 0.4010 - val_loss: 0.7657 - val_dense_2_loss: 0.3506 - val_dense_3_loss: 0.4151\n",
            "Epoch 78/100\n",
            "11610/11610 [==============================] - 1s 45us/sample - loss: 0.7353 - dense_2_loss: 0.3355 - dense_3_loss: 0.3998 - val_loss: 0.7622 - val_dense_2_loss: 0.3491 - val_dense_3_loss: 0.4131\n",
            "Epoch 79/100\n",
            "11610/11610 [==============================] - 1s 44us/sample - loss: 0.7330 - dense_2_loss: 0.3347 - dense_3_loss: 0.3982 - val_loss: 0.7640 - val_dense_2_loss: 0.3486 - val_dense_3_loss: 0.4154\n",
            "Epoch 80/100\n",
            "11610/11610 [==============================] - 1s 45us/sample - loss: 0.7311 - dense_2_loss: 0.3342 - dense_3_loss: 0.3969 - val_loss: 0.7587 - val_dense_2_loss: 0.3466 - val_dense_3_loss: 0.4121\n",
            "Epoch 81/100\n",
            "11610/11610 [==============================] - 1s 45us/sample - loss: 0.7292 - dense_2_loss: 0.3332 - dense_3_loss: 0.3960 - val_loss: 0.7549 - val_dense_2_loss: 0.3463 - val_dense_3_loss: 0.4086\n",
            "Epoch 82/100\n",
            "11610/11610 [==============================] - 1s 45us/sample - loss: 0.7242 - dense_2_loss: 0.3311 - dense_3_loss: 0.3931 - val_loss: 0.7565 - val_dense_2_loss: 0.3454 - val_dense_3_loss: 0.4111\n",
            "Epoch 83/100\n",
            "11610/11610 [==============================] - 1s 44us/sample - loss: 0.7241 - dense_2_loss: 0.3316 - dense_3_loss: 0.3925 - val_loss: 0.7574 - val_dense_2_loss: 0.3498 - val_dense_3_loss: 0.4076\n",
            "Epoch 84/100\n",
            "11610/11610 [==============================] - 1s 45us/sample - loss: 0.7236 - dense_2_loss: 0.3306 - dense_3_loss: 0.3930 - val_loss: 0.7569 - val_dense_2_loss: 0.3443 - val_dense_3_loss: 0.4126\n",
            "Epoch 85/100\n",
            "11610/11610 [==============================] - 1s 44us/sample - loss: 0.7193 - dense_2_loss: 0.3295 - dense_3_loss: 0.3898 - val_loss: 0.7566 - val_dense_2_loss: 0.3477 - val_dense_3_loss: 0.4088\n",
            "Epoch 86/100\n",
            "11610/11610 [==============================] - 1s 44us/sample - loss: 0.7211 - dense_2_loss: 0.3305 - dense_3_loss: 0.3906 - val_loss: 0.7485 - val_dense_2_loss: 0.3439 - val_dense_3_loss: 0.4047\n",
            "Epoch 87/100\n",
            "11610/11610 [==============================] - 1s 44us/sample - loss: 0.7205 - dense_2_loss: 0.3300 - dense_3_loss: 0.3905 - val_loss: 0.7484 - val_dense_2_loss: 0.3428 - val_dense_3_loss: 0.4056\n",
            "Epoch 88/100\n",
            "11610/11610 [==============================] - 1s 45us/sample - loss: 0.7154 - dense_2_loss: 0.3281 - dense_3_loss: 0.3874 - val_loss: 0.7533 - val_dense_2_loss: 0.3432 - val_dense_3_loss: 0.4101\n",
            "Epoch 89/100\n",
            "11610/11610 [==============================] - 1s 45us/sample - loss: 0.7164 - dense_2_loss: 0.3283 - dense_3_loss: 0.3881 - val_loss: 0.7486 - val_dense_2_loss: 0.3421 - val_dense_3_loss: 0.4064\n",
            "Epoch 90/100\n",
            "11610/11610 [==============================] - 1s 44us/sample - loss: 0.7179 - dense_2_loss: 0.3294 - dense_3_loss: 0.3885 - val_loss: 0.7462 - val_dense_2_loss: 0.3407 - val_dense_3_loss: 0.4054\n",
            "Epoch 91/100\n",
            "11610/11610 [==============================] - 1s 45us/sample - loss: 0.7151 - dense_2_loss: 0.3280 - dense_3_loss: 0.3871 - val_loss: 0.7424 - val_dense_2_loss: 0.3418 - val_dense_3_loss: 0.4006\n",
            "Epoch 92/100\n",
            "11610/11610 [==============================] - 1s 43us/sample - loss: 0.7131 - dense_2_loss: 0.3271 - dense_3_loss: 0.3860 - val_loss: 0.7449 - val_dense_2_loss: 0.3389 - val_dense_3_loss: 0.4059\n",
            "Epoch 93/100\n",
            "11610/11610 [==============================] - 1s 47us/sample - loss: 0.7101 - dense_2_loss: 0.3263 - dense_3_loss: 0.3838 - val_loss: 0.7394 - val_dense_2_loss: 0.3405 - val_dense_3_loss: 0.3989\n",
            "Epoch 94/100\n",
            "11610/11610 [==============================] - 1s 44us/sample - loss: 0.7115 - dense_2_loss: 0.3264 - dense_3_loss: 0.3852 - val_loss: 0.7431 - val_dense_2_loss: 0.3393 - val_dense_3_loss: 0.4038\n",
            "Epoch 95/100\n",
            "11610/11610 [==============================] - 1s 44us/sample - loss: 0.7074 - dense_2_loss: 0.3250 - dense_3_loss: 0.3824 - val_loss: 0.7379 - val_dense_2_loss: 0.3377 - val_dense_3_loss: 0.4003\n",
            "Epoch 96/100\n",
            "11610/11610 [==============================] - 1s 43us/sample - loss: 0.7063 - dense_2_loss: 0.3247 - dense_3_loss: 0.3816 - val_loss: 0.7352 - val_dense_2_loss: 0.3386 - val_dense_3_loss: 0.3966\n",
            "Epoch 97/100\n",
            "11610/11610 [==============================] - 1s 44us/sample - loss: 0.7055 - dense_2_loss: 0.3246 - dense_3_loss: 0.3809 - val_loss: 0.7333 - val_dense_2_loss: 0.3376 - val_dense_3_loss: 0.3958\n",
            "Epoch 98/100\n",
            "11610/11610 [==============================] - 1s 43us/sample - loss: 0.7038 - dense_2_loss: 0.3238 - dense_3_loss: 0.3801 - val_loss: 0.7387 - val_dense_2_loss: 0.3410 - val_dense_3_loss: 0.3976\n",
            "Epoch 99/100\n",
            "11610/11610 [==============================] - 1s 44us/sample - loss: 0.7033 - dense_2_loss: 0.3233 - dense_3_loss: 0.3799 - val_loss: 0.7342 - val_dense_2_loss: 0.3385 - val_dense_3_loss: 0.3956\n",
            "Epoch 100/100\n",
            "11610/11610 [==============================] - 1s 44us/sample - loss: 0.7023 - dense_2_loss: 0.3233 - dense_3_loss: 0.3790 - val_loss: 0.7325 - val_dense_2_loss: 0.3373 - val_dense_3_loss: 0.3952\n"
          ],
          "name": "stdout"
        }
      ]
    },
    {
      "cell_type": "code",
      "metadata": {
        "id": "QMlYp_ol9Qmz",
        "colab_type": "code",
        "outputId": "860ff9ab-e30e-49b1-f79b-908f8a640691",
        "colab": {
          "base_uri": "https://localhost:8080/",
          "height": 324
        }
      },
      "source": [
        "def plot_learning_curves(history):\n",
        "    pd.DataFrame(history.history).plot(figsize=(8,5))\n",
        "    plt.grid(True)\n",
        "    plt.gca().set_ylim(0,3)\n",
        "    plt.show()\n",
        "\n",
        "plot_learning_curves(history)"
      ],
      "execution_count": 9,
      "outputs": [
        {
          "output_type": "display_data",
          "data": {
            "image/png": "[encoded data removed]",
            "text/plain": [
              "<Figure size 576x360 with 1 Axes>"
            ]
          },
          "metadata": {
            "tags": []
          }
        }
      ]
    },
    {
      "cell_type": "code",
      "metadata": {
        "id": "hP7LY8Sa9iX4",
        "colab_type": "code",
        "outputId": "7e7344d0-d919-4ae9-c64c-82675c070bce",
        "colab": {
          "base_uri": "https://localhost:8080/",
          "height": 71
        }
      },
      "source": [
        "model.evaluate([x_test_scaled_wide, x_test_scaled_deep], [y_test, y_test])"
      ],
      "execution_count": 8,
      "outputs": [
        {
          "output_type": "stream",
          "text": [
            "5160/5160 [==============================] - 0s 24us/sample - loss: 0.7221 - dense_2_loss: 0.3338 - dense_3_loss: 0.3883\n"
          ],
          "name": "stdout"
        },
        {
          "output_type": "execute_result",
          "data": {
            "text/plain": [
              "[0.7220565644345542, 0.33375785, 0.3882987]"
            ]
          },
          "metadata": {
            "tags": []
          },
          "execution_count": 8
        }
      ]
    },
    {
      "cell_type": "code",
      "metadata": {
        "id": "yZAMB_v0kqDF",
        "colab_type": "code",
        "colab": {}
      },
      "source": [
        ""
      ],
      "execution_count": 0,
      "outputs": []
    }
  ]
}