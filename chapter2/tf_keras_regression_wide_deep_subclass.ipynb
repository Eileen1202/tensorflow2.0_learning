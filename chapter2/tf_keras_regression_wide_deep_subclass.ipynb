{
  "nbformat": 4,
  "nbformat_minor": 0,
  "metadata": {
    "colab": {
      "name": "tf_keras_regression_wide_deep_subclass.ipynb",
      "version": "0.3.2",
      "provenance": [],
      "include_colab_link": true
    },
    "kernelspec": {
      "name": "python3",
      "display_name": "Python 3"
    },
    "accelerator": "GPU"
  },
  "cells": [
    {
      "cell_type": "markdown",
      "metadata": {
        "id": "view-in-github",
        "colab_type": "text"
      },
      "source": [
        "<a href=\"https://colab.research.google.com/github/vvshyer/tensorflow2.0_learning/blob/master/tf_keras_regression_wide_deep_subclass.ipynb\" target=\"_parent\"><img src=\"https://colab.research.google.com/assets/colab-badge.svg\" alt=\"Open In Colab\"/></a>"
      ]
    },
    {
      "cell_type": "code",
      "metadata": {
        "id": "HUoJrGPpbb-h",
        "colab_type": "code",
        "colab": {}
      },
      "source": [
        "!pip install tensorflow==2.0.0-alpha0 "
      ],
      "execution_count": 0,
      "outputs": []
    },
    {
      "cell_type": "code",
      "metadata": {
        "id": "8ezK57pS6ZSF",
        "colab_type": "code",
        "outputId": "6a79c9cc-3744-4805-a584-85c9a439bac1",
        "colab": {
          "base_uri": "https://localhost:8080/",
          "height": 173
        }
      },
      "source": [
        "import matplotlib as mpl\n",
        "import matplotlib.pyplot as plt\n",
        "%matplotlib inline\n",
        "import numpy as np\n",
        "import sklearn\n",
        "import pandas as pd\n",
        "import os\n",
        "import sys\n",
        "import time\n",
        "import tensorflow as tf\n",
        "\n",
        "from tensorflow import keras\n",
        "\n",
        "print(tf.__version__)\n",
        "print(sys.version_info)\n",
        "for module in mpl, np, pd, sklearn, tf, keras:\n",
        "    print(module.__name__, module.__version__)"
      ],
      "execution_count": 2,
      "outputs": [
        {
          "output_type": "stream",
          "text": [
            "2.0.0-alpha0\n",
            "sys.version_info(major=3, minor=6, micro=7, releaselevel='final', serial=0)\n",
            "matplotlib 3.0.3\n",
            "numpy 1.16.3\n",
            "pandas 0.24.2\n",
            "sklearn 0.21.1\n",
            "tensorflow 2.0.0-alpha0\n",
            "tensorflow.python.keras.api._v2.keras 2.2.4-tf\n"
          ],
          "name": "stdout"
        }
      ]
    },
    {
      "cell_type": "code",
      "metadata": {
        "id": "hd13Iimm6j7Q",
        "colab_type": "code",
        "outputId": "83228c26-3375-41cc-e919-f9ab85d41407",
        "colab": {
          "base_uri": "https://localhost:8080/",
          "height": 768
        }
      },
      "source": [
        "from sklearn.datasets import fetch_california_housing\n",
        "\n",
        "housing = fetch_california_housing()\n",
        "print(housing.DESCR)\n",
        "print(housing.data.shape)\n",
        "print(housing.target.shape)"
      ],
      "execution_count": 3,
      "outputs": [
        {
          "output_type": "stream",
          "text": [
            ".. _california_housing_dataset:\n",
            "\n",
            "California Housing dataset\n",
            "--------------------------\n",
            "\n",
            "**Data Set Characteristics:**\n",
            "\n",
            "    :Number of Instances: 20640\n",
            "\n",
            "    :Number of Attributes: 8 numeric, predictive attributes and the target\n",
            "\n",
            "    :Attribute Information:\n",
            "        - MedInc        median income in block\n",
            "        - HouseAge      median house age in block\n",
            "        - AveRooms      average number of rooms\n",
            "        - AveBedrms     average number of bedrooms\n",
            "        - Population    block population\n",
            "        - AveOccup      average house occupancy\n",
            "        - Latitude      house block latitude\n",
            "        - Longitude     house block longitude\n",
            "\n",
            "    :Missing Attribute Values: None\n",
            "\n",
            "This dataset was obtained from the StatLib repository.\n",
            "http://lib.stat.cmu.edu/datasets/\n",
            "\n",
            "The target variable is the median house value for California districts.\n",
            "\n",
            "This dataset was derived from the 1990 U.S. census, using one row per census\n",
            "block group. A block group is the smallest geographical unit for which the U.S.\n",
            "Census Bureau publishes sample data (a block group typically has a population\n",
            "of 600 to 3,000 people).\n",
            "\n",
            "It can be downloaded/loaded using the\n",
            ":func:`sklearn.datasets.fetch_california_housing` function.\n",
            "\n",
            ".. topic:: References\n",
            "\n",
            "    - Pace, R. Kelley and Ronald Barry, Sparse Spatial Autoregressions,\n",
            "      Statistics and Probability Letters, 33 (1997) 291-297\n",
            "\n",
            "(20640, 8)\n",
            "(20640,)\n"
          ],
          "name": "stdout"
        }
      ]
    },
    {
      "cell_type": "code",
      "metadata": {
        "id": "sy2zeFXF7O6V",
        "colab_type": "code",
        "outputId": "a9e1f168-bd6a-4b7b-c68f-65248d79150a",
        "colab": {
          "base_uri": "https://localhost:8080/",
          "height": 68
        }
      },
      "source": [
        "from sklearn.model_selection import train_test_split\n",
        "\n",
        "# test_size默认为0.25\n",
        "x_train_all, x_test, y_train_all, y_test = train_test_split(\n",
        "    housing.data, housing.target, random_state = 7, test_size = 0.25)\n",
        "\n",
        "x_train, x_valid, y_train, y_valid = train_test_split(\n",
        "    x_train_all, y_train_all, random_state = 11)\n",
        "\n",
        "print(x_train.shape, y_train.shape)\n",
        "print(x_valid.shape, y_valid.shape)\n",
        "print(x_test.shape, y_test.shape)"
      ],
      "execution_count": 4,
      "outputs": [
        {
          "output_type": "stream",
          "text": [
            "(11610, 8) (11610,)\n",
            "(3870, 8) (3870,)\n",
            "(5160, 8) (5160,)\n"
          ],
          "name": "stdout"
        }
      ]
    },
    {
      "cell_type": "code",
      "metadata": {
        "id": "TvaW64pQ7418",
        "colab_type": "code",
        "colab": {}
      },
      "source": [
        "from sklearn.preprocessing import StandardScaler\n",
        "\n",
        "scaler = StandardScaler()\n",
        "x_train_scaled = scaler.fit_transform(x_train)\n",
        "x_valid_scaled = scaler.transform(x_valid)\n",
        "x_test_scaled = scaler.transform(x_test)"
      ],
      "execution_count": 0,
      "outputs": []
    },
    {
      "cell_type": "code",
      "metadata": {
        "id": "7IkL0UAt8Qzo",
        "colab_type": "code",
        "outputId": "d3791ae4-ba69-416b-fa1d-15a4be134b8a",
        "colab": {
          "base_uri": "https://localhost:8080/",
          "height": 187
        }
      },
      "source": [
        "# 子类API\n",
        "class WideDeepModel(keras.models.Model):\n",
        "    def __init__(self):\n",
        "        super(WideDeepModel, self).__init__()\n",
        "        # 定义模型的层次\n",
        "        self.hidden1_layer = keras.layers.Dense(30, activation='relu')\n",
        "        self.hidden2_layer = keras.layers.Dense(30, activation='relu')\n",
        "        self.output_layer = keras.layers.Dense(1)\n",
        "    def call(self, input):\n",
        "        # 完成模型的正向运算\n",
        "        hidden1 = self.hidden1_layer(input)\n",
        "        hidden2 = self.hidden2_layer(hidden1)\n",
        "        concat = keras.layers.concatenate([input, hidden2])\n",
        "        output = self.output_layer(concat)\n",
        "        return output\n",
        "    \n",
        "# model = WideDeepModel()\n",
        "model = keras.models.Sequential([\n",
        "    WideDeepModel(),\n",
        "])\n",
        "model.build(input_shape=(None, 8))\n",
        "\n",
        "model.summary()\n",
        "model.compile(loss=\"mean_squared_error\", optimizer = \"sgd\")\n",
        "callbacks = [keras.callbacks.EarlyStopping(patience=5, min_delta=1e-3)]"
      ],
      "execution_count": 10,
      "outputs": [
        {
          "output_type": "stream",
          "text": [
            "Model: \"sequential\"\n",
            "_________________________________________________________________\n",
            "Layer (type)                 Output Shape              Param #   \n",
            "=================================================================\n",
            "wide_deep_model_1 (WideDeepM multiple                  1239      \n",
            "=================================================================\n",
            "Total params: 1,239\n",
            "Trainable params: 1,239\n",
            "Non-trainable params: 0\n",
            "_________________________________________________________________\n"
          ],
          "name": "stdout"
        }
      ]
    },
    {
      "cell_type": "code",
      "metadata": {
        "id": "P3g9RQd287SJ",
        "colab_type": "code",
        "outputId": "c0e91a15-0d0c-4e7d-87d5-68c93bf89c62",
        "colab": {
          "base_uri": "https://localhost:8080/",
          "height": 3454
        }
      },
      "source": [
        "history = model.fit(x_train_scaled, y_train,\n",
        "                   validation_data = (x_valid_scaled, y_valid),\n",
        "                   epochs = 100,\n",
        "                   callbacks = callbacks)"
      ],
      "execution_count": 11,
      "outputs": [
        {
          "output_type": "stream",
          "text": [
            "Train on 11610 samples, validate on 3870 samples\n",
            "Epoch 1/100\n",
            "11610/11610 [==============================] - 1s 47us/sample - loss: 1.9411 - val_loss: 0.8021\n",
            "Epoch 2/100\n",
            "11610/11610 [==============================] - 0s 37us/sample - loss: 0.6738 - val_loss: 0.6910\n",
            "Epoch 3/100\n",
            "11610/11610 [==============================] - 0s 37us/sample - loss: 0.6212 - val_loss: 0.6513\n",
            "Epoch 4/100\n",
            "11610/11610 [==============================] - 0s 38us/sample - loss: 0.5782 - val_loss: 0.6127\n",
            "Epoch 5/100\n",
            "11610/11610 [==============================] - 0s 39us/sample - loss: 0.5489 - val_loss: 0.5873\n",
            "Epoch 6/100\n",
            "11610/11610 [==============================] - 0s 38us/sample - loss: 0.5257 - val_loss: 0.5575\n",
            "Epoch 7/100\n",
            "11610/11610 [==============================] - 0s 38us/sample - loss: 0.5097 - val_loss: 0.5424\n",
            "Epoch 8/100\n",
            "11610/11610 [==============================] - 0s 38us/sample - loss: 0.4954 - val_loss: 0.5248\n",
            "Epoch 9/100\n",
            "11610/11610 [==============================] - 0s 38us/sample - loss: 0.4874 - val_loss: 0.5176\n",
            "Epoch 10/100\n",
            "11610/11610 [==============================] - 0s 36us/sample - loss: 0.4770 - val_loss: 0.5074\n",
            "Epoch 11/100\n",
            "11610/11610 [==============================] - 0s 37us/sample - loss: 0.4687 - val_loss: 0.4982\n",
            "Epoch 12/100\n",
            "11610/11610 [==============================] - 0s 38us/sample - loss: 0.4608 - val_loss: 0.4945\n",
            "Epoch 13/100\n",
            "11610/11610 [==============================] - 0s 37us/sample - loss: 0.4558 - val_loss: 0.4838\n",
            "Epoch 14/100\n",
            "11610/11610 [==============================] - 0s 37us/sample - loss: 0.4526 - val_loss: 0.4784\n",
            "Epoch 15/100\n",
            "11610/11610 [==============================] - 0s 36us/sample - loss: 0.4464 - val_loss: 0.4743\n",
            "Epoch 16/100\n",
            "11610/11610 [==============================] - 0s 37us/sample - loss: 0.4406 - val_loss: 0.4691\n",
            "Epoch 17/100\n",
            "11610/11610 [==============================] - 0s 38us/sample - loss: 0.4395 - val_loss: 0.4658\n",
            "Epoch 18/100\n",
            "11610/11610 [==============================] - 0s 38us/sample - loss: 0.4343 - val_loss: 0.4614\n",
            "Epoch 19/100\n",
            "11610/11610 [==============================] - 0s 38us/sample - loss: 0.4333 - val_loss: 0.4572\n",
            "Epoch 20/100\n",
            "11610/11610 [==============================] - 0s 37us/sample - loss: 0.4296 - val_loss: 0.4537\n",
            "Epoch 21/100\n",
            "11610/11610 [==============================] - 0s 37us/sample - loss: 0.4261 - val_loss: 0.4510\n",
            "Epoch 22/100\n",
            "11610/11610 [==============================] - 0s 39us/sample - loss: 0.4233 - val_loss: 0.4493\n",
            "Epoch 23/100\n",
            "11610/11610 [==============================] - 0s 39us/sample - loss: 0.4208 - val_loss: 0.4459\n",
            "Epoch 24/100\n",
            "11610/11610 [==============================] - 0s 37us/sample - loss: 0.4189 - val_loss: 0.4444\n",
            "Epoch 25/100\n",
            "11610/11610 [==============================] - 0s 36us/sample - loss: 0.4162 - val_loss: 0.4400\n",
            "Epoch 26/100\n",
            "11610/11610 [==============================] - 0s 38us/sample - loss: 0.4142 - val_loss: 0.4373\n",
            "Epoch 27/100\n",
            "11610/11610 [==============================] - 0s 37us/sample - loss: 0.4123 - val_loss: 0.4348\n",
            "Epoch 28/100\n",
            "11610/11610 [==============================] - 0s 38us/sample - loss: 0.4103 - val_loss: 0.4328\n",
            "Epoch 29/100\n",
            "11610/11610 [==============================] - 0s 37us/sample - loss: 0.4085 - val_loss: 0.4303\n",
            "Epoch 30/100\n",
            "11610/11610 [==============================] - 0s 38us/sample - loss: 0.4065 - val_loss: 0.4329\n",
            "Epoch 31/100\n",
            "11610/11610 [==============================] - 0s 37us/sample - loss: 0.4046 - val_loss: 0.4273\n",
            "Epoch 32/100\n",
            "11610/11610 [==============================] - 0s 39us/sample - loss: 0.4028 - val_loss: 0.4254\n",
            "Epoch 33/100\n",
            "11610/11610 [==============================] - 0s 37us/sample - loss: 0.4012 - val_loss: 0.4240\n",
            "Epoch 34/100\n",
            "11610/11610 [==============================] - 0s 36us/sample - loss: 0.3995 - val_loss: 0.4218\n",
            "Epoch 35/100\n",
            "11610/11610 [==============================] - 0s 38us/sample - loss: 0.3979 - val_loss: 0.4197\n",
            "Epoch 36/100\n",
            "11610/11610 [==============================] - 0s 37us/sample - loss: 0.3965 - val_loss: 0.4169\n",
            "Epoch 37/100\n",
            "11610/11610 [==============================] - 0s 38us/sample - loss: 0.3954 - val_loss: 0.4163\n",
            "Epoch 38/100\n",
            "11610/11610 [==============================] - 0s 39us/sample - loss: 0.3931 - val_loss: 0.4142\n",
            "Epoch 39/100\n",
            "11610/11610 [==============================] - 0s 39us/sample - loss: 0.3918 - val_loss: 0.4127\n",
            "Epoch 40/100\n",
            "11610/11610 [==============================] - 0s 40us/sample - loss: 0.3906 - val_loss: 0.4109\n",
            "Epoch 41/100\n",
            "11610/11610 [==============================] - 0s 37us/sample - loss: 0.3892 - val_loss: 0.4091\n",
            "Epoch 42/100\n",
            "11610/11610 [==============================] - 0s 39us/sample - loss: 0.3879 - val_loss: 0.4080\n",
            "Epoch 43/100\n",
            "11610/11610 [==============================] - 0s 37us/sample - loss: 0.3865 - val_loss: 0.4058\n",
            "Epoch 44/100\n",
            "11610/11610 [==============================] - 0s 38us/sample - loss: 0.3846 - val_loss: 0.4062\n",
            "Epoch 45/100\n",
            "11610/11610 [==============================] - 0s 37us/sample - loss: 0.3838 - val_loss: 0.4035\n",
            "Epoch 46/100\n",
            "11610/11610 [==============================] - 0s 39us/sample - loss: 0.3822 - val_loss: 0.4039\n",
            "Epoch 47/100\n",
            "11610/11610 [==============================] - 0s 37us/sample - loss: 0.3827 - val_loss: 0.3997\n",
            "Epoch 48/100\n",
            "11610/11610 [==============================] - 0s 36us/sample - loss: 0.3805 - val_loss: 0.3990\n",
            "Epoch 49/100\n",
            "11610/11610 [==============================] - 0s 37us/sample - loss: 0.3788 - val_loss: 0.3973\n",
            "Epoch 50/100\n",
            "11610/11610 [==============================] - 0s 38us/sample - loss: 0.3801 - val_loss: 0.3974\n",
            "Epoch 51/100\n",
            "11610/11610 [==============================] - 0s 37us/sample - loss: 0.3784 - val_loss: 0.3966\n",
            "Epoch 52/100\n",
            "11610/11610 [==============================] - 0s 37us/sample - loss: 0.3762 - val_loss: 0.3941\n",
            "Epoch 53/100\n",
            "11610/11610 [==============================] - 0s 37us/sample - loss: 0.3748 - val_loss: 0.3927\n",
            "Epoch 54/100\n",
            "11610/11610 [==============================] - 0s 37us/sample - loss: 0.3738 - val_loss: 0.3938\n",
            "Epoch 55/100\n",
            "11610/11610 [==============================] - 0s 37us/sample - loss: 0.3726 - val_loss: 0.3915\n",
            "Epoch 56/100\n",
            "11610/11610 [==============================] - 0s 37us/sample - loss: 0.3718 - val_loss: 0.3898\n",
            "Epoch 57/100\n",
            "11610/11610 [==============================] - 0s 37us/sample - loss: 0.3709 - val_loss: 0.3890\n",
            "Epoch 58/100\n",
            "11610/11610 [==============================] - 0s 37us/sample - loss: 0.3697 - val_loss: 0.3881\n",
            "Epoch 59/100\n",
            "11610/11610 [==============================] - 0s 37us/sample - loss: 0.3691 - val_loss: 0.3861\n",
            "Epoch 60/100\n",
            "11610/11610 [==============================] - 0s 37us/sample - loss: 0.3681 - val_loss: 0.3866\n",
            "Epoch 61/100\n",
            "11610/11610 [==============================] - 0s 37us/sample - loss: 0.3670 - val_loss: 0.3848\n",
            "Epoch 62/100\n",
            "11610/11610 [==============================] - 0s 36us/sample - loss: 0.3674 - val_loss: 0.3840\n",
            "Epoch 63/100\n",
            "11610/11610 [==============================] - 0s 37us/sample - loss: 0.3665 - val_loss: 0.3842\n",
            "Epoch 64/100\n",
            "11610/11610 [==============================] - 0s 36us/sample - loss: 0.3647 - val_loss: 0.3818\n",
            "Epoch 65/100\n",
            "11610/11610 [==============================] - 0s 36us/sample - loss: 0.3644 - val_loss: 0.3815\n",
            "Epoch 66/100\n",
            "11610/11610 [==============================] - 0s 38us/sample - loss: 0.3629 - val_loss: 0.3807\n",
            "Epoch 67/100\n",
            "11610/11610 [==============================] - 0s 37us/sample - loss: 0.3628 - val_loss: 0.3808\n",
            "Epoch 68/100\n",
            "11610/11610 [==============================] - 0s 37us/sample - loss: 0.3614 - val_loss: 0.3778\n",
            "Epoch 69/100\n",
            "11610/11610 [==============================] - 0s 37us/sample - loss: 0.3611 - val_loss: 0.3776\n",
            "Epoch 70/100\n",
            "11610/11610 [==============================] - 0s 37us/sample - loss: 0.3603 - val_loss: 0.3776\n",
            "Epoch 71/100\n",
            "11610/11610 [==============================] - 0s 39us/sample - loss: 0.3597 - val_loss: 0.3782\n",
            "Epoch 72/100\n",
            "11610/11610 [==============================] - 0s 38us/sample - loss: 0.3585 - val_loss: 0.3761\n",
            "Epoch 73/100\n",
            "11610/11610 [==============================] - 0s 38us/sample - loss: 0.3577 - val_loss: 0.3741\n",
            "Epoch 74/100\n",
            "11610/11610 [==============================] - 0s 37us/sample - loss: 0.3563 - val_loss: 0.3750\n",
            "Epoch 75/100\n",
            "11610/11610 [==============================] - 0s 39us/sample - loss: 0.3557 - val_loss: 0.3731\n",
            "Epoch 76/100\n",
            "11610/11610 [==============================] - 0s 38us/sample - loss: 0.3557 - val_loss: 0.3712\n",
            "Epoch 77/100\n",
            "11610/11610 [==============================] - 0s 37us/sample - loss: 0.3542 - val_loss: 0.3714\n",
            "Epoch 78/100\n",
            "11610/11610 [==============================] - 0s 37us/sample - loss: 0.3538 - val_loss: 0.3697\n",
            "Epoch 79/100\n",
            "11610/11610 [==============================] - 0s 37us/sample - loss: 0.3536 - val_loss: 0.3693\n",
            "Epoch 80/100\n",
            "11610/11610 [==============================] - 0s 38us/sample - loss: 0.3533 - val_loss: 0.3700\n",
            "Epoch 81/100\n",
            "11610/11610 [==============================] - 0s 37us/sample - loss: 0.3514 - val_loss: 0.3673\n",
            "Epoch 82/100\n",
            "11610/11610 [==============================] - 0s 38us/sample - loss: 0.3512 - val_loss: 0.3672\n",
            "Epoch 83/100\n",
            "11610/11610 [==============================] - 0s 39us/sample - loss: 0.3507 - val_loss: 0.3654\n",
            "Epoch 84/100\n",
            "11610/11610 [==============================] - 0s 37us/sample - loss: 0.3503 - val_loss: 0.3667\n",
            "Epoch 85/100\n",
            "11610/11610 [==============================] - 0s 37us/sample - loss: 0.3494 - val_loss: 0.3643\n",
            "Epoch 86/100\n",
            "11610/11610 [==============================] - 0s 37us/sample - loss: 0.3490 - val_loss: 0.3674\n",
            "Epoch 87/100\n",
            "11610/11610 [==============================] - 0s 37us/sample - loss: 0.3487 - val_loss: 0.3666\n",
            "Epoch 88/100\n",
            "11610/11610 [==============================] - 0s 38us/sample - loss: 0.3470 - val_loss: 0.3622\n",
            "Epoch 89/100\n",
            "11610/11610 [==============================] - 0s 38us/sample - loss: 0.3470 - val_loss: 0.3606\n",
            "Epoch 90/100\n",
            "11610/11610 [==============================] - 0s 36us/sample - loss: 0.3452 - val_loss: 0.3654\n",
            "Epoch 91/100\n",
            "11610/11610 [==============================] - 0s 37us/sample - loss: 0.3464 - val_loss: 0.3625\n",
            "Epoch 92/100\n",
            "11610/11610 [==============================] - 0s 36us/sample - loss: 0.3470 - val_loss: 0.3632\n",
            "Epoch 93/100\n",
            "11610/11610 [==============================] - 0s 36us/sample - loss: 0.3445 - val_loss: 0.3613\n",
            "Epoch 94/100\n",
            "11610/11610 [==============================] - 0s 38us/sample - loss: 0.3434 - val_loss: 0.3585\n",
            "Epoch 95/100\n",
            "11610/11610 [==============================] - 0s 36us/sample - loss: 0.3456 - val_loss: 0.3601\n",
            "Epoch 96/100\n",
            "11610/11610 [==============================] - 0s 39us/sample - loss: 0.3416 - val_loss: 0.3574\n",
            "Epoch 97/100\n",
            "11610/11610 [==============================] - 0s 37us/sample - loss: 0.3413 - val_loss: 0.3560\n",
            "Epoch 98/100\n",
            "11610/11610 [==============================] - 0s 37us/sample - loss: 0.3407 - val_loss: 0.3572\n",
            "Epoch 99/100\n",
            "11610/11610 [==============================] - 0s 37us/sample - loss: 0.3429 - val_loss: 0.3572\n",
            "Epoch 100/100\n",
            "11610/11610 [==============================] - 0s 37us/sample - loss: 0.3424 - val_loss: 0.3566\n"
          ],
          "name": "stdout"
        }
      ]
    },
    {
      "cell_type": "code",
      "metadata": {
        "id": "QMlYp_ol9Qmz",
        "colab_type": "code",
        "outputId": "33b4344d-bfde-45e9-975a-77a0a0536aba",
        "colab": {
          "base_uri": "https://localhost:8080/",
          "height": 324
        }
      },
      "source": [
        "def plot_learning_curves(history):\n",
        "    pd.DataFrame(history.history).plot(figsize=(8,5))\n",
        "    plt.grid(True)\n",
        "    plt.gca().set_ylim(0,1)\n",
        "    plt.show()\n",
        "\n",
        "plot_learning_curves(history)"
      ],
      "execution_count": 8,
      "outputs": [
        {
          "output_type": "display_data",
          "data": {
            "image/png": "[encoded data removed]",
            "text/plain": [
              "<Figure size 576x360 with 1 Axes>"
            ]
          },
          "metadata": {
            "tags": []
          }
        }
      ]
    },
    {
      "cell_type": "code",
      "metadata": {
        "id": "U8oi2X30iWrB",
        "colab_type": "code",
        "colab": {}
      },
      "source": [
        ""
      ],
      "execution_count": 0,
      "outputs": []
    },
    {
      "cell_type": "code",
      "metadata": {
        "id": "hP7LY8Sa9iX4",
        "colab_type": "code",
        "outputId": "57236ea6-3239-4afc-adf2-6081e09791a2",
        "colab": {
          "base_uri": "https://localhost:8080/",
          "height": 71
        }
      },
      "source": [
        "model.evaluate(x_test_scaled, y_test)"
      ],
      "execution_count": 9,
      "outputs": [
        {
          "output_type": "stream",
          "text": [
            "5160/5160 [==============================] - 0s 19us/sample - loss: 0.3731\n"
          ],
          "name": "stdout"
        },
        {
          "output_type": "execute_result",
          "data": {
            "text/plain": [
              "0.3731427321138308"
            ]
          },
          "metadata": {
            "tags": []
          },
          "execution_count": 9
        }
      ]
    }
  ]
}