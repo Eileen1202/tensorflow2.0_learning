{
  "nbformat": 4,
  "nbformat_minor": 0,
  "metadata": {
    "colab": {
      "name": "tf_keras_classification_model_callback.ipynb",
      "version": "0.3.2",
      "provenance": [],
      "include_colab_link": true
    },
    "kernelspec": {
      "name": "python3",
      "display_name": "Python 3"
    },
    "accelerator": "GPU"
  },
  "cells": [
    {
      "cell_type": "markdown",
      "metadata": {
        "id": "view-in-github",
        "colab_type": "text"
      },
      "source": [
        "<a href=\"https://colab.research.google.com/github/vvshyer/tensorflow2.0_learning/blob/master/tf_keras_classification_model_callback.ipynb\" target=\"_parent\"><img src=\"https://colab.research.google.com/assets/colab-badge.svg\" alt=\"Open In Colab\"/></a>"
      ]
    },
    {
      "cell_type": "code",
      "metadata": {
        "id": "LdgXF14bvIXE",
        "colab_type": "code",
        "colab": {}
      },
      "source": [
        "!pip install tensorflow==2.0.0-alpha0"
      ],
      "execution_count": 0,
      "outputs": []
    },
    {
      "cell_type": "code",
      "metadata": {
        "id": "XHw-sfvAkD1N",
        "colab_type": "code",
        "outputId": "d2567986-0e11-416a-854c-0f1b84289651",
        "colab": {
          "base_uri": "https://localhost:8080/",
          "height": 173
        }
      },
      "source": [
        "import matplotlib as mpl\n",
        "import matplotlib.pyplot as plt\n",
        "%matplotlib inline\n",
        "import numpy as np\n",
        "import sklearn\n",
        "import pandas as pd\n",
        "import os\n",
        "import sys\n",
        "import time\n",
        "import tensorflow as tf\n",
        "\n",
        "from tensorflow import keras\n",
        "\n",
        "print(tf.__version__)\n",
        "print(sys.version_info)\n",
        "for module in mpl, np, pd, sklearn, tf, keras:\n",
        "    print(module.__name__, module.__version__)"
      ],
      "execution_count": 2,
      "outputs": [
        {
          "output_type": "stream",
          "text": [
            "2.0.0-alpha0\n",
            "sys.version_info(major=3, minor=6, micro=7, releaselevel='final', serial=0)\n",
            "matplotlib 3.0.3\n",
            "numpy 1.16.3\n",
            "pandas 0.24.2\n",
            "sklearn 0.21.1\n",
            "tensorflow 2.0.0-alpha0\n",
            "tensorflow.python.keras.api._v2.keras 2.2.4-tf\n"
          ],
          "name": "stdout"
        }
      ]
    },
    {
      "cell_type": "code",
      "metadata": {
        "id": "mD9guLXTk__z",
        "colab_type": "code",
        "colab": {}
      },
      "source": [
        "fashion_mnist = keras.datasets.fashion_mnist\n",
        "(x_train_all, y_train_all), (x_test, y_test) = fashion_mnist.load_data()"
      ],
      "execution_count": 0,
      "outputs": []
    },
    {
      "cell_type": "code",
      "metadata": {
        "id": "xFI2nQwOmb7H",
        "colab_type": "code",
        "outputId": "1d8410a7-6c13-48e7-97ad-665fa6c19f1e",
        "colab": {
          "base_uri": "https://localhost:8080/",
          "height": 68
        }
      },
      "source": [
        "x_valid, x_train = x_train_all[:5000], x_train_all[5000:]\n",
        "y_valid, y_train = y_train_all[:5000], y_train_all[5000:]\n",
        "\n",
        "print(x_valid.shape, y_valid.shape)\n",
        "print(x_train.shape, y_train.shape)\n",
        "print(x_test.shape, y_test.shape)"
      ],
      "execution_count": 4,
      "outputs": [
        {
          "output_type": "stream",
          "text": [
            "(5000, 28, 28) (5000,)\n",
            "(55000, 28, 28) (55000,)\n",
            "(10000, 28, 28) (10000,)\n"
          ],
          "name": "stdout"
        }
      ]
    },
    {
      "cell_type": "code",
      "metadata": {
        "id": "LRacnxd0v2gk",
        "colab_type": "code",
        "colab": {}
      },
      "source": [
        "# x = (x-u)/std\n",
        "from sklearn.preprocessing import StandardScaler\n",
        "\n",
        "scaler = StandardScaler()\n",
        "# x_train: [None, 28, 28] -> [None, 784]\n",
        "x_train_scaled = scaler.fit_transform(\n",
        "    x_train.astype(np.float32).reshape(-1,1)).reshape(-1, 28, 28)\n",
        "x_valid_scaled = scaler.transform(\n",
        "    x_valid.astype(np.float32).reshape(-1,1)).reshape(-1, 28, 28)\n",
        "x_test_scaled = scaler.transform(\n",
        "    x_test.astype(np.float32).reshape(-1,1)).reshape(-1, 28, 28)"
      ],
      "execution_count": 0,
      "outputs": []
    },
    {
      "cell_type": "code",
      "metadata": {
        "id": "0qo1dX2bon-7",
        "colab_type": "code",
        "colab": {}
      },
      "source": [
        "# tf.keras.models.Sequential()\n",
        "model = keras.models.Sequential()\n",
        "\n",
        "model.add(keras.layers.Flatten(input_shape = [28, 28]))\n",
        "model.add(keras.layers.Dense(300, activation='relu'))\n",
        "model.add(keras.layers.Dense(100, activation='relu'))\n",
        "model.add(keras.layers.Dense(10, activation='softmax'))\n",
        "\n",
        "# relu: y=max(0, x)\n",
        "# softmax: 将向量变为概率分布. x = [x1, x2, x3]\n",
        "#          y = [e^x1/sum, e^x2/sum, e^x3/sum]\n",
        "#          sum = e^x1 + e^x2 + e^x3\n",
        "\n",
        "# 第二种Sequential使用方式：\n",
        "# model = keras.model.Sequential([\n",
        "#     keras.layers.Flatten(input_shape = [28, 28]),\n",
        "#     keras.layers.Dense(300, activation='relu'),\n",
        "#     keras.layers.Dense(100, activation='relu'),\n",
        "#     keras.layers.Dense(10, activation='softmax')\n",
        "# ])\n",
        "\n",
        "\n",
        "# sparse的原因：因为y->index.\n",
        "model.compile(loss=\"sparse_categorical_crossentropy\",\n",
        "              optimizer = 'sgd',\n",
        "              metrics = ['accuracy'])\n"
      ],
      "execution_count": 0,
      "outputs": []
    },
    {
      "cell_type": "code",
      "metadata": {
        "id": "0JdT59XNrDXj",
        "colab_type": "code",
        "colab": {}
      },
      "source": [
        "# 第一层: [None, 784] * W + b -> [None, 300]\n",
        "# W.shape [784, 300], b.shape = [300, 1]"
      ],
      "execution_count": 0,
      "outputs": []
    },
    {
      "cell_type": "code",
      "metadata": {
        "id": "P9PM0CDOrV7j",
        "colab_type": "code",
        "outputId": "5ec7b2b3-2dcf-40ef-fa99-8cb22a954d3b",
        "colab": {
          "base_uri": "https://localhost:8080/",
          "height": 394
        }
      },
      "source": [
        "# Tensorboard, earlystopping, ModelCheckpoint\n",
        "logdir = './callbacks'\n",
        "if not os.path.exists(logdir):\n",
        "    os.mkdir(logdir)\n",
        "output_model_file = os.path.join(logdir,\n",
        "                                 \"fashion_mnist_model.h5\")\n",
        "\n",
        "callbacks = [\n",
        "    keras.callbacks.TensorBoard(logdir),\n",
        "    keras.callbacks.ModelCheckpoint(output_model_file,\n",
        "                                    save_best_only=True),\n",
        "    keras.callbacks.EarlyStopping(patience=5, min_delta=1e-3),\n",
        "]\n",
        "history = model.fit(x_train_scaled, y_train, epochs = 10,\n",
        "                    validation_data = (x_valid_scaled, y_valid),\n",
        "                    callbacks = callbacks)"
      ],
      "execution_count": 9,
      "outputs": [
        {
          "output_type": "stream",
          "text": [
            "Train on 55000 samples, validate on 5000 samples\n",
            "Epoch 1/10\n",
            "55000/55000 [==============================] - 5s 89us/sample - loss: 0.9459 - accuracy: 0.6928 - val_loss: 0.6353 - val_accuracy: 0.7862\n",
            "Epoch 2/10\n",
            "55000/55000 [==============================] - 5s 90us/sample - loss: 0.5933 - accuracy: 0.7912 - val_loss: 0.5338 - val_accuracy: 0.8170\n",
            "Epoch 3/10\n",
            "55000/55000 [==============================] - 5s 89us/sample - loss: 0.5212 - accuracy: 0.8171 - val_loss: 0.4869 - val_accuracy: 0.8308\n",
            "Epoch 4/10\n",
            "55000/55000 [==============================] - 5s 88us/sample - loss: 0.4829 - accuracy: 0.8301 - val_loss: 0.4598 - val_accuracy: 0.8398\n",
            "Epoch 5/10\n",
            "55000/55000 [==============================] - 5s 89us/sample - loss: 0.4577 - accuracy: 0.8382 - val_loss: 0.4417 - val_accuracy: 0.8464\n",
            "Epoch 6/10\n",
            "55000/55000 [==============================] - 5s 89us/sample - loss: 0.4390 - accuracy: 0.8455 - val_loss: 0.4283 - val_accuracy: 0.8510\n",
            "Epoch 7/10\n",
            "55000/55000 [==============================] - 5s 87us/sample - loss: 0.4246 - accuracy: 0.8500 - val_loss: 0.4162 - val_accuracy: 0.8564\n",
            "Epoch 8/10\n",
            "55000/55000 [==============================] - 5s 89us/sample - loss: 0.4127 - accuracy: 0.8542 - val_loss: 0.4083 - val_accuracy: 0.8572\n",
            "Epoch 9/10\n",
            "55000/55000 [==============================] - 5s 97us/sample - loss: 0.4029 - accuracy: 0.8582 - val_loss: 0.4018 - val_accuracy: 0.8582\n",
            "Epoch 10/10\n",
            "55000/55000 [==============================] - 6s 103us/sample - loss: 0.3941 - accuracy: 0.8621 - val_loss: 0.3949 - val_accuracy: 0.8594\n"
          ],
          "name": "stdout"
        }
      ]
    },
    {
      "cell_type": "code",
      "metadata": {
        "id": "zxEwPWYs2YZw",
        "colab_type": "code",
        "colab": {
          "base_uri": "https://localhost:8080/",
          "height": 34
        },
        "outputId": "3c280650-6bcf-49d0-afe3-56011369765c"
      },
      "source": [
        "!ls"
      ],
      "execution_count": 10,
      "outputs": [
        {
          "output_type": "stream",
          "text": [
            "callbacks  sample_data\n"
          ],
          "name": "stdout"
        }
      ]
    },
    {
      "cell_type": "code",
      "metadata": {
        "id": "S9atoy5A2byw",
        "colab_type": "code",
        "colab": {
          "base_uri": "https://localhost:8080/",
          "height": 54
        },
        "outputId": "285afd7c-b69b-4b69-d288-b2fe91ff5935"
      },
      "source": [
        "!tensorboard --logdir=callbacks"
      ],
      "execution_count": 12,
      "outputs": [
        {
          "output_type": "stream",
          "text": [
            "TensorBoard 1.14.0a20190301 at http://9ef6bbffb8a6:6006 (Press CTRL+C to quit)\n"
          ],
          "name": "stdout"
        }
      ]
    },
    {
      "cell_type": "code",
      "metadata": {
        "id": "Z2nx0e4WyP6o",
        "colab_type": "code",
        "colab": {}
      },
      "source": [
        "def plot_learning_curves(history):\n",
        "    pd.DataFrame(history.history).plot(figsize=(8, 5))\n",
        "    plt.grid(True)\n",
        "    plt.gca().set_ylim(0, 1)\n",
        "    plt.show()\n",
        "    \n",
        "plot_learning_curves(history)"
      ],
      "execution_count": 0,
      "outputs": []
    },
    {
      "cell_type": "code",
      "metadata": {
        "id": "p606-RsUygbH",
        "colab_type": "code",
        "colab": {}
      },
      "source": [
        "model.evaluate(x_test_scaled, y_test)"
      ],
      "execution_count": 0,
      "outputs": []
    }
  ]
}