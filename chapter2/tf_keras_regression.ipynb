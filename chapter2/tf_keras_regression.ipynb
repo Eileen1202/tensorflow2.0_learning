{
  "nbformat": 4,
  "nbformat_minor": 0,
  "metadata": {
    "colab": {
      "name": "tf_keras_regression.ipynb",
      "version": "0.3.2",
      "provenance": [],
      "include_colab_link": true
    },
    "kernelspec": {
      "name": "python3",
      "display_name": "Python 3"
    },
    "accelerator": "GPU"
  },
  "cells": [
    {
      "cell_type": "markdown",
      "metadata": {
        "id": "view-in-github",
        "colab_type": "text"
      },
      "source": [
        "<a href=\"https://colab.research.google.com/github/vvshyer/tensorflow2.0_learning/blob/master/tf_keras_regression.ipynb\" target=\"_parent\"><img src=\"https://colab.research.google.com/assets/colab-badge.svg\" alt=\"Open In Colab\"/></a>"
      ]
    },
    {
      "cell_type": "code",
      "metadata": {
        "id": "8ezK57pS6ZSF",
        "colab_type": "code",
        "colab": {
          "base_uri": "https://localhost:8080/",
          "height": 173
        },
        "outputId": "05cf3f7e-0246-4e9f-f1c9-c0b5c5bbca32"
      },
      "source": [
        "import matplotlib as mpl\n",
        "import matplotlib.pyplot as plt\n",
        "%matplotlib inline\n",
        "import numpy as np\n",
        "import sklearn\n",
        "import pandas as pd\n",
        "import os\n",
        "import sys\n",
        "import time\n",
        "import tensorflow as tf\n",
        "\n",
        "from tensorflow import keras\n",
        "\n",
        "print(tf.__version__)\n",
        "print(sys.version_info)\n",
        "for module in mpl, np, pd, sklearn, tf, keras:\n",
        "    print(module.__name__, module.__version__)"
      ],
      "execution_count": 1,
      "outputs": [
        {
          "output_type": "stream",
          "text": [
            "2.0.0-alpha0\n",
            "sys.version_info(major=3, minor=6, micro=7, releaselevel='final', serial=0)\n",
            "matplotlib 3.0.3\n",
            "numpy 1.16.3\n",
            "pandas 0.24.2\n",
            "sklearn 0.21.1\n",
            "tensorflow 2.0.0-alpha0\n",
            "tensorflow.python.keras.api._v2.keras 2.2.4-tf\n"
          ],
          "name": "stdout"
        }
      ]
    },
    {
      "cell_type": "code",
      "metadata": {
        "id": "hd13Iimm6j7Q",
        "colab_type": "code",
        "colab": {
          "base_uri": "https://localhost:8080/",
          "height": 768
        },
        "outputId": "f644918a-ce14-44bf-d663-f831e60b84cc"
      },
      "source": [
        "from sklearn.datasets import fetch_california_housing\n",
        "\n",
        "housing = fetch_california_housing()\n",
        "print(housing.DESCR)\n",
        "print(housing.data.shape)\n",
        "print(housing.target.shape)"
      ],
      "execution_count": 3,
      "outputs": [
        {
          "output_type": "stream",
          "text": [
            ".. _california_housing_dataset:\n",
            "\n",
            "California Housing dataset\n",
            "--------------------------\n",
            "\n",
            "**Data Set Characteristics:**\n",
            "\n",
            "    :Number of Instances: 20640\n",
            "\n",
            "    :Number of Attributes: 8 numeric, predictive attributes and the target\n",
            "\n",
            "    :Attribute Information:\n",
            "        - MedInc        median income in block\n",
            "        - HouseAge      median house age in block\n",
            "        - AveRooms      average number of rooms\n",
            "        - AveBedrms     average number of bedrooms\n",
            "        - Population    block population\n",
            "        - AveOccup      average house occupancy\n",
            "        - Latitude      house block latitude\n",
            "        - Longitude     house block longitude\n",
            "\n",
            "    :Missing Attribute Values: None\n",
            "\n",
            "This dataset was obtained from the StatLib repository.\n",
            "http://lib.stat.cmu.edu/datasets/\n",
            "\n",
            "The target variable is the median house value for California districts.\n",
            "\n",
            "This dataset was derived from the 1990 U.S. census, using one row per census\n",
            "block group. A block group is the smallest geographical unit for which the U.S.\n",
            "Census Bureau publishes sample data (a block group typically has a population\n",
            "of 600 to 3,000 people).\n",
            "\n",
            "It can be downloaded/loaded using the\n",
            ":func:`sklearn.datasets.fetch_california_housing` function.\n",
            "\n",
            ".. topic:: References\n",
            "\n",
            "    - Pace, R. Kelley and Ronald Barry, Sparse Spatial Autoregressions,\n",
            "      Statistics and Probability Letters, 33 (1997) 291-297\n",
            "\n",
            "(20640, 8)\n",
            "(20640,)\n"
          ],
          "name": "stdout"
        }
      ]
    },
    {
      "cell_type": "code",
      "metadata": {
        "id": "h-wf40jY60j9",
        "colab_type": "code",
        "colab": {
          "base_uri": "https://localhost:8080/",
          "height": 289
        },
        "outputId": "8a171d83-2ffa-4a03-ebdb-687f492af2d9"
      },
      "source": [
        "import pprint\n",
        "\n",
        "pprint.pprint(housing.data[0:5])\n",
        "pprint.pprint(housing.target[0:5])"
      ],
      "execution_count": 4,
      "outputs": [
        {
          "output_type": "stream",
          "text": [
            "array([[ 8.32520000e+00,  4.10000000e+01,  6.98412698e+00,\n",
            "         1.02380952e+00,  3.22000000e+02,  2.55555556e+00,\n",
            "         3.78800000e+01, -1.22230000e+02],\n",
            "       [ 8.30140000e+00,  2.10000000e+01,  6.23813708e+00,\n",
            "         9.71880492e-01,  2.40100000e+03,  2.10984183e+00,\n",
            "         3.78600000e+01, -1.22220000e+02],\n",
            "       [ 7.25740000e+00,  5.20000000e+01,  8.28813559e+00,\n",
            "         1.07344633e+00,  4.96000000e+02,  2.80225989e+00,\n",
            "         3.78500000e+01, -1.22240000e+02],\n",
            "       [ 5.64310000e+00,  5.20000000e+01,  5.81735160e+00,\n",
            "         1.07305936e+00,  5.58000000e+02,  2.54794521e+00,\n",
            "         3.78500000e+01, -1.22250000e+02],\n",
            "       [ 3.84620000e+00,  5.20000000e+01,  6.28185328e+00,\n",
            "         1.08108108e+00,  5.65000000e+02,  2.18146718e+00,\n",
            "         3.78500000e+01, -1.22250000e+02]])\n",
            "array([4.526, 3.585, 3.521, 3.413, 3.422])\n"
          ],
          "name": "stdout"
        }
      ]
    },
    {
      "cell_type": "code",
      "metadata": {
        "id": "sy2zeFXF7O6V",
        "colab_type": "code",
        "colab": {
          "base_uri": "https://localhost:8080/",
          "height": 68
        },
        "outputId": "58725674-8ade-4946-fbd8-7a9aff849271"
      },
      "source": [
        "from sklearn.model_selection import train_test_split\n",
        "\n",
        "# test_size默认为0.25\n",
        "x_train_all, x_test, y_train_all, y_test = train_test_split(\n",
        "    housing.data, housing.target, random_state = 7, test_size = 0.25)\n",
        "\n",
        "x_train, x_valid, y_train, y_valid = train_test_split(\n",
        "    x_train_all, y_train_all, random_state = 11)\n",
        "\n",
        "print(x_train.shape, y_train.shape)\n",
        "print(x_valid.shape, y_valid.shape)\n",
        "print(x_test.shape, y_test.shape)"
      ],
      "execution_count": 5,
      "outputs": [
        {
          "output_type": "stream",
          "text": [
            "(11610, 8) (11610,)\n",
            "(3870, 8) (3870,)\n",
            "(5160, 8) (5160,)\n"
          ],
          "name": "stdout"
        }
      ]
    },
    {
      "cell_type": "code",
      "metadata": {
        "id": "TvaW64pQ7418",
        "colab_type": "code",
        "colab": {}
      },
      "source": [
        "from sklearn.preprocessing import StandardScaler\n",
        "\n",
        "scaler = StandardScaler()\n",
        "x_train_scaled = scaler.fit_transform(x_train)\n",
        "x_valid_scaled = scaler.transform(x_valid)\n",
        "x_test_scaled = scaler.transform(x_test)"
      ],
      "execution_count": 0,
      "outputs": []
    },
    {
      "cell_type": "code",
      "metadata": {
        "id": "7IkL0UAt8Qzo",
        "colab_type": "code",
        "colab": {
          "base_uri": "https://localhost:8080/",
          "height": 221
        },
        "outputId": "2607a5bd-2c01-4505-de03-f5905d6b361f"
      },
      "source": [
        "model = keras.models.Sequential([\n",
        "    keras.layers.Dense(30, activation='relu',\n",
        "                       input_shape=x_train.shape[1:]),\n",
        "    keras.layers.Dense(1),\n",
        "])\n",
        "model.summary()\n",
        "model.compile(loss=\"mean_squared_error\", optimizer = \"sgd\")\n",
        "callbacks = [keras.callbacks.EarlyStopping(patience=5, min_delta=1e-3)]"
      ],
      "execution_count": 8,
      "outputs": [
        {
          "output_type": "stream",
          "text": [
            "Model: \"sequential\"\n",
            "_________________________________________________________________\n",
            "Layer (type)                 Output Shape              Param #   \n",
            "=================================================================\n",
            "dense (Dense)                (None, 30)                270       \n",
            "_________________________________________________________________\n",
            "dense_1 (Dense)              (None, 1)                 31        \n",
            "=================================================================\n",
            "Total params: 301\n",
            "Trainable params: 301\n",
            "Non-trainable params: 0\n",
            "_________________________________________________________________\n"
          ],
          "name": "stdout"
        }
      ]
    },
    {
      "cell_type": "code",
      "metadata": {
        "id": "P3g9RQd287SJ",
        "colab_type": "code",
        "colab": {
          "base_uri": "https://localhost:8080/",
          "height": 3454
        },
        "outputId": "cd8e40df-9e3b-4083-de8c-6f8fa29ed22e"
      },
      "source": [
        "history = model.fit(x_train_scaled, y_train,\n",
        "                   validation_data = (x_valid_scaled, y_valid),\n",
        "                   epochs = 100,\n",
        "                   callbacks = callbacks)"
      ],
      "execution_count": 9,
      "outputs": [
        {
          "output_type": "stream",
          "text": [
            "Train on 11610 samples, validate on 3870 samples\n",
            "Epoch 1/100\n",
            "11610/11610 [==============================] - 1s 48us/sample - loss: 2.0536 - val_loss: 0.9696\n",
            "Epoch 2/100\n",
            "11610/11610 [==============================] - 0s 34us/sample - loss: 0.7922 - val_loss: 0.7807\n",
            "Epoch 3/100\n",
            "11610/11610 [==============================] - 0s 34us/sample - loss: 0.7054 - val_loss: 0.7327\n",
            "Epoch 4/100\n",
            "11610/11610 [==============================] - 0s 36us/sample - loss: 0.6666 - val_loss: 0.7030\n",
            "Epoch 5/100\n",
            "11610/11610 [==============================] - 0s 36us/sample - loss: 0.6370 - val_loss: 0.6741\n",
            "Epoch 6/100\n",
            "11610/11610 [==============================] - 0s 37us/sample - loss: 0.6141 - val_loss: 0.6527\n",
            "Epoch 7/100\n",
            "11610/11610 [==============================] - 0s 35us/sample - loss: 0.5936 - val_loss: 0.6313\n",
            "Epoch 8/100\n",
            "11610/11610 [==============================] - 0s 38us/sample - loss: 0.5764 - val_loss: 0.6141\n",
            "Epoch 9/100\n",
            "11610/11610 [==============================] - 0s 36us/sample - loss: 0.5608 - val_loss: 0.5970\n",
            "Epoch 10/100\n",
            "11610/11610 [==============================] - 0s 36us/sample - loss: 0.5470 - val_loss: 0.5829\n",
            "Epoch 11/100\n",
            "11610/11610 [==============================] - 0s 37us/sample - loss: 0.5351 - val_loss: 0.5687\n",
            "Epoch 12/100\n",
            "11610/11610 [==============================] - 0s 35us/sample - loss: 0.5249 - val_loss: 0.5575\n",
            "Epoch 13/100\n",
            "11610/11610 [==============================] - 0s 36us/sample - loss: 0.5149 - val_loss: 0.5483\n",
            "Epoch 14/100\n",
            "11610/11610 [==============================] - 0s 36us/sample - loss: 0.5063 - val_loss: 0.5386\n",
            "Epoch 15/100\n",
            "11610/11610 [==============================] - 0s 36us/sample - loss: 0.4984 - val_loss: 0.5306\n",
            "Epoch 16/100\n",
            "11610/11610 [==============================] - 0s 36us/sample - loss: 0.4911 - val_loss: 0.5220\n",
            "Epoch 17/100\n",
            "11610/11610 [==============================] - 0s 36us/sample - loss: 0.4849 - val_loss: 0.5144\n",
            "Epoch 18/100\n",
            "11610/11610 [==============================] - 0s 37us/sample - loss: 0.4791 - val_loss: 0.5092\n",
            "Epoch 19/100\n",
            "11610/11610 [==============================] - 0s 37us/sample - loss: 0.4740 - val_loss: 0.5041\n",
            "Epoch 20/100\n",
            "11610/11610 [==============================] - 0s 37us/sample - loss: 0.4698 - val_loss: 0.4979\n",
            "Epoch 21/100\n",
            "11610/11610 [==============================] - 0s 36us/sample - loss: 0.4656 - val_loss: 0.4929\n",
            "Epoch 22/100\n",
            "11610/11610 [==============================] - 0s 35us/sample - loss: 0.4621 - val_loss: 0.4899\n",
            "Epoch 23/100\n",
            "11610/11610 [==============================] - 0s 36us/sample - loss: 0.4586 - val_loss: 0.4851\n",
            "Epoch 24/100\n",
            "11610/11610 [==============================] - 0s 35us/sample - loss: 0.4563 - val_loss: 0.4814\n",
            "Epoch 25/100\n",
            "11610/11610 [==============================] - 0s 35us/sample - loss: 0.4531 - val_loss: 0.4791\n",
            "Epoch 26/100\n",
            "11610/11610 [==============================] - 0s 35us/sample - loss: 0.4506 - val_loss: 0.4756\n",
            "Epoch 27/100\n",
            "11610/11610 [==============================] - 0s 35us/sample - loss: 0.4481 - val_loss: 0.4733\n",
            "Epoch 28/100\n",
            "11610/11610 [==============================] - 0s 36us/sample - loss: 0.4453 - val_loss: 0.4692\n",
            "Epoch 29/100\n",
            "11610/11610 [==============================] - 0s 35us/sample - loss: 0.4435 - val_loss: 0.4667\n",
            "Epoch 30/100\n",
            "11610/11610 [==============================] - 0s 34us/sample - loss: 0.4408 - val_loss: 0.4643\n",
            "Epoch 31/100\n",
            "11610/11610 [==============================] - 0s 36us/sample - loss: 0.4387 - val_loss: 0.4622\n",
            "Epoch 32/100\n",
            "11610/11610 [==============================] - 0s 35us/sample - loss: 0.4366 - val_loss: 0.4597\n",
            "Epoch 33/100\n",
            "11610/11610 [==============================] - 0s 36us/sample - loss: 0.4346 - val_loss: 0.4574\n",
            "Epoch 34/100\n",
            "11610/11610 [==============================] - 0s 35us/sample - loss: 0.4328 - val_loss: 0.4552\n",
            "Epoch 35/100\n",
            "11610/11610 [==============================] - 0s 35us/sample - loss: 0.4309 - val_loss: 0.4534\n",
            "Epoch 36/100\n",
            "11610/11610 [==============================] - 0s 36us/sample - loss: 0.4293 - val_loss: 0.4523\n",
            "Epoch 37/100\n",
            "11610/11610 [==============================] - 0s 36us/sample - loss: 0.4274 - val_loss: 0.4509\n",
            "Epoch 38/100\n",
            "11610/11610 [==============================] - 0s 36us/sample - loss: 0.4263 - val_loss: 0.4483\n",
            "Epoch 39/100\n",
            "11610/11610 [==============================] - 0s 35us/sample - loss: 0.4245 - val_loss: 0.4466\n",
            "Epoch 40/100\n",
            "11610/11610 [==============================] - 0s 36us/sample - loss: 0.4232 - val_loss: 0.4453\n",
            "Epoch 41/100\n",
            "11610/11610 [==============================] - 0s 35us/sample - loss: 0.4218 - val_loss: 0.4442\n",
            "Epoch 42/100\n",
            "11610/11610 [==============================] - 0s 35us/sample - loss: 0.4203 - val_loss: 0.4424\n",
            "Epoch 43/100\n",
            "11610/11610 [==============================] - 0s 35us/sample - loss: 0.4190 - val_loss: 0.4404\n",
            "Epoch 44/100\n",
            "11610/11610 [==============================] - 0s 36us/sample - loss: 0.4177 - val_loss: 0.4395\n",
            "Epoch 45/100\n",
            "11610/11610 [==============================] - 0s 36us/sample - loss: 0.4162 - val_loss: 0.4379\n",
            "Epoch 46/100\n",
            "11610/11610 [==============================] - 0s 35us/sample - loss: 0.4151 - val_loss: 0.4367\n",
            "Epoch 47/100\n",
            "11610/11610 [==============================] - 0s 34us/sample - loss: 0.4140 - val_loss: 0.4354\n",
            "Epoch 48/100\n",
            "11610/11610 [==============================] - 0s 35us/sample - loss: 0.4127 - val_loss: 0.4331\n",
            "Epoch 49/100\n",
            "11610/11610 [==============================] - 0s 34us/sample - loss: 0.4116 - val_loss: 0.4335\n",
            "Epoch 50/100\n",
            "11610/11610 [==============================] - 0s 35us/sample - loss: 0.4105 - val_loss: 0.4316\n",
            "Epoch 51/100\n",
            "11610/11610 [==============================] - 0s 35us/sample - loss: 0.4095 - val_loss: 0.4303\n",
            "Epoch 52/100\n",
            "11610/11610 [==============================] - 0s 35us/sample - loss: 0.4084 - val_loss: 0.4289\n",
            "Epoch 53/100\n",
            "11610/11610 [==============================] - 0s 35us/sample - loss: 0.4073 - val_loss: 0.4279\n",
            "Epoch 54/100\n",
            "11610/11610 [==============================] - 0s 34us/sample - loss: 0.4062 - val_loss: 0.4273\n",
            "Epoch 55/100\n",
            "11610/11610 [==============================] - 0s 34us/sample - loss: 0.4052 - val_loss: 0.4256\n",
            "Epoch 56/100\n",
            "11610/11610 [==============================] - 0s 34us/sample - loss: 0.4044 - val_loss: 0.4250\n",
            "Epoch 57/100\n",
            "11610/11610 [==============================] - 0s 34us/sample - loss: 0.4032 - val_loss: 0.4238\n",
            "Epoch 58/100\n",
            "11610/11610 [==============================] - 0s 35us/sample - loss: 0.4024 - val_loss: 0.4223\n",
            "Epoch 59/100\n",
            "11610/11610 [==============================] - 0s 37us/sample - loss: 0.4014 - val_loss: 0.4218\n",
            "Epoch 60/100\n",
            "11610/11610 [==============================] - 0s 37us/sample - loss: 0.4007 - val_loss: 0.4202\n",
            "Epoch 61/100\n",
            "11610/11610 [==============================] - 0s 35us/sample - loss: 0.3998 - val_loss: 0.4199\n",
            "Epoch 62/100\n",
            "11610/11610 [==============================] - 0s 36us/sample - loss: 0.3989 - val_loss: 0.4190\n",
            "Epoch 63/100\n",
            "11610/11610 [==============================] - 0s 35us/sample - loss: 0.3981 - val_loss: 0.4179\n",
            "Epoch 64/100\n",
            "11610/11610 [==============================] - 0s 35us/sample - loss: 0.3973 - val_loss: 0.4166\n",
            "Epoch 65/100\n",
            "11610/11610 [==============================] - 0s 35us/sample - loss: 0.3965 - val_loss: 0.4164\n",
            "Epoch 66/100\n",
            "11610/11610 [==============================] - 0s 35us/sample - loss: 0.3957 - val_loss: 0.4149\n",
            "Epoch 67/100\n",
            "11610/11610 [==============================] - 0s 35us/sample - loss: 0.3950 - val_loss: 0.4144\n",
            "Epoch 68/100\n",
            "11610/11610 [==============================] - 0s 36us/sample - loss: 0.3940 - val_loss: 0.4142\n",
            "Epoch 69/100\n",
            "11610/11610 [==============================] - 0s 35us/sample - loss: 0.3936 - val_loss: 0.4128\n",
            "Epoch 70/100\n",
            "11610/11610 [==============================] - 0s 35us/sample - loss: 0.3927 - val_loss: 0.4118\n",
            "Epoch 71/100\n",
            "11610/11610 [==============================] - 0s 36us/sample - loss: 0.3919 - val_loss: 0.4108\n",
            "Epoch 72/100\n",
            "11610/11610 [==============================] - 0s 35us/sample - loss: 0.3912 - val_loss: 0.4101\n",
            "Epoch 73/100\n",
            "11610/11610 [==============================] - 0s 36us/sample - loss: 0.3906 - val_loss: 0.4091\n",
            "Epoch 74/100\n",
            "11610/11610 [==============================] - 0s 35us/sample - loss: 0.3899 - val_loss: 0.4092\n",
            "Epoch 75/100\n",
            "11610/11610 [==============================] - 0s 35us/sample - loss: 0.3892 - val_loss: 0.4074\n",
            "Epoch 76/100\n",
            "11610/11610 [==============================] - 0s 37us/sample - loss: 0.3886 - val_loss: 0.4069\n",
            "Epoch 77/100\n",
            "11610/11610 [==============================] - 0s 36us/sample - loss: 0.3878 - val_loss: 0.4062\n",
            "Epoch 78/100\n",
            "11610/11610 [==============================] - 0s 36us/sample - loss: 0.3872 - val_loss: 0.4056\n",
            "Epoch 79/100\n",
            "11610/11610 [==============================] - 0s 35us/sample - loss: 0.3867 - val_loss: 0.4054\n",
            "Epoch 80/100\n",
            "11610/11610 [==============================] - 0s 35us/sample - loss: 0.3862 - val_loss: 0.4039\n",
            "Epoch 81/100\n",
            "11610/11610 [==============================] - 0s 35us/sample - loss: 0.3855 - val_loss: 0.4031\n",
            "Epoch 82/100\n",
            "11610/11610 [==============================] - 0s 35us/sample - loss: 0.3850 - val_loss: 0.4022\n",
            "Epoch 83/100\n",
            "11610/11610 [==============================] - 0s 35us/sample - loss: 0.3843 - val_loss: 0.4019\n",
            "Epoch 84/100\n",
            "11610/11610 [==============================] - 0s 35us/sample - loss: 0.3837 - val_loss: 0.4019\n",
            "Epoch 85/100\n",
            "11610/11610 [==============================] - 0s 35us/sample - loss: 0.3832 - val_loss: 0.4015\n",
            "Epoch 86/100\n",
            "11610/11610 [==============================] - 0s 36us/sample - loss: 0.3827 - val_loss: 0.4004\n",
            "Epoch 87/100\n",
            "11610/11610 [==============================] - 0s 35us/sample - loss: 0.3820 - val_loss: 0.3992\n",
            "Epoch 88/100\n",
            "11610/11610 [==============================] - 0s 36us/sample - loss: 0.3814 - val_loss: 0.3998\n",
            "Epoch 89/100\n",
            "11610/11610 [==============================] - 0s 35us/sample - loss: 0.3809 - val_loss: 0.3996\n",
            "Epoch 90/100\n",
            "11610/11610 [==============================] - 0s 36us/sample - loss: 0.3807 - val_loss: 0.3984\n",
            "Epoch 91/100\n",
            "11610/11610 [==============================] - 0s 35us/sample - loss: 0.3801 - val_loss: 0.3976\n",
            "Epoch 92/100\n",
            "11610/11610 [==============================] - 0s 35us/sample - loss: 0.3795 - val_loss: 0.3967\n",
            "Epoch 93/100\n",
            "11610/11610 [==============================] - 0s 35us/sample - loss: 0.3791 - val_loss: 0.3962\n",
            "Epoch 94/100\n",
            "11610/11610 [==============================] - 0s 35us/sample - loss: 0.3786 - val_loss: 0.3958\n",
            "Epoch 95/100\n",
            "11610/11610 [==============================] - 0s 35us/sample - loss: 0.3782 - val_loss: 0.3957\n",
            "Epoch 96/100\n",
            "11610/11610 [==============================] - 0s 35us/sample - loss: 0.3777 - val_loss: 0.3958\n",
            "Epoch 97/100\n",
            "11610/11610 [==============================] - 0s 35us/sample - loss: 0.3773 - val_loss: 0.3941\n",
            "Epoch 98/100\n",
            "11610/11610 [==============================] - 0s 35us/sample - loss: 0.3767 - val_loss: 0.3947\n",
            "Epoch 99/100\n",
            "11610/11610 [==============================] - 0s 35us/sample - loss: 0.3764 - val_loss: 0.3936\n",
            "Epoch 100/100\n",
            "11610/11610 [==============================] - 0s 35us/sample - loss: 0.3760 - val_loss: 0.3933\n"
          ],
          "name": "stdout"
        }
      ]
    },
    {
      "cell_type": "code",
      "metadata": {
        "id": "QMlYp_ol9Qmz",
        "colab_type": "code",
        "colab": {
          "base_uri": "https://localhost:8080/",
          "height": 324
        },
        "outputId": "999b413d-7cd5-4e2b-eeea-9cb825c55f62"
      },
      "source": [
        "def plot_learning_curves(history):\n",
        "    pd.DataFrame(history.history).plot(figsize=(8,5))\n",
        "    plt.grid(True)\n",
        "    plt.gca().set_ylim(0,1)\n",
        "    plt.show()\n",
        "\n",
        "plot_learning_curves(history)"
      ],
      "execution_count": 10,
      "outputs": [
        {
          "output_type": "display_data",
          "data": {
            "image/png": "[encoded data removed]",
            "text/plain": [
              "<Figure size 576x360 with 1 Axes>"
            ]
          },
          "metadata": {
            "tags": []
          }
        }
      ]
    },
    {
      "cell_type": "code",
      "metadata": {
        "id": "hP7LY8Sa9iX4",
        "colab_type": "code",
        "colab": {
          "base_uri": "https://localhost:8080/",
          "height": 71
        },
        "outputId": "d5cc2f72-4e45-49aa-8f9f-1999fed0a57c"
      },
      "source": [
        "model.evaluate(x_test_scaled, y_test)"
      ],
      "execution_count": 13,
      "outputs": [
        {
          "output_type": "stream",
          "text": [
            "5160/5160 [==============================] - 0s 23us/sample - loss: 0.3925\n"
          ],
          "name": "stdout"
        },
        {
          "output_type": "execute_result",
          "data": {
            "text/plain": [
              "0.3925278560135716"
            ]
          },
          "metadata": {
            "tags": []
          },
          "execution_count": 13
        }
      ]
    },
    {
      "cell_type": "code",
      "metadata": {
        "id": "qsIxnZqD9o3P",
        "colab_type": "code",
        "colab": {}
      },
      "source": [
        ""
      ],
      "execution_count": 0,
      "outputs": []
    }
  ]
}