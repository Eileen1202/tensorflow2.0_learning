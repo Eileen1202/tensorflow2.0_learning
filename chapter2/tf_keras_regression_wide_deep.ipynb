{
  "nbformat": 4,
  "nbformat_minor": 0,
  "metadata": {
    "colab": {
      "name": "tf_keras_regression_wide_deep.ipynb",
      "version": "0.3.2",
      "provenance": [],
      "include_colab_link": true
    },
    "kernelspec": {
      "name": "python3",
      "display_name": "Python 3"
    },
    "accelerator": "GPU"
  },
  "cells": [
    {
      "cell_type": "markdown",
      "metadata": {
        "id": "view-in-github",
        "colab_type": "text"
      },
      "source": [
        "<a href=\"https://colab.research.google.com/github/vvshyer/tensorflow2.0_learning/blob/master/tf_keras_regression_wide_deep.ipynb\" target=\"_parent\"><img src=\"https://colab.research.google.com/assets/colab-badge.svg\" alt=\"Open In Colab\"/></a>"
      ]
    },
    {
      "cell_type": "code",
      "metadata": {
        "id": "HUoJrGPpbb-h",
        "colab_type": "code",
        "colab": {
          "base_uri": "https://localhost:8080/",
          "height": 671
        },
        "outputId": "bff54715-6a35-4be2-b1d2-44a8c75a1d5b"
      },
      "source": [
        "!pip install tensorflow==2.0.0-alpha0 "
      ],
      "execution_count": 6,
      "outputs": [
        {
          "output_type": "stream",
          "text": [
            "Collecting tensorflow==2.0.0-alpha0\n",
            "\u001b[?25l  Downloading https://files.pythonhosted.org/packages/29/39/f99185d39131b8333afcfe1dcdb0629c2ffc4ecfb0e4c14ca210d620e56c/tensorflow-2.0.0a0-cp36-cp36m-manylinux1_x86_64.whl (79.9MB)\n",
            "\u001b[K     |████████████████████████████████| 79.9MB 1.5MB/s \n",
            "\u001b[?25hRequirement already satisfied: absl-py>=0.7.0 in /usr/local/lib/python3.6/dist-packages (from tensorflow==2.0.0-alpha0) (0.7.1)\n",
            "Requirement already satisfied: protobuf>=3.6.1 in /usr/local/lib/python3.6/dist-packages (from tensorflow==2.0.0-alpha0) (3.7.1)\n",
            "Requirement already satisfied: keras-applications>=1.0.6 in /usr/local/lib/python3.6/dist-packages (from tensorflow==2.0.0-alpha0) (1.0.7)\n",
            "Requirement already satisfied: numpy<2.0,>=1.14.5 in /usr/local/lib/python3.6/dist-packages (from tensorflow==2.0.0-alpha0) (1.16.3)\n",
            "Requirement already satisfied: termcolor>=1.1.0 in /usr/local/lib/python3.6/dist-packages (from tensorflow==2.0.0-alpha0) (1.1.0)\n",
            "Requirement already satisfied: gast>=0.2.0 in /usr/local/lib/python3.6/dist-packages (from tensorflow==2.0.0-alpha0) (0.2.2)\n",
            "Collecting tb-nightly<1.14.0a20190302,>=1.14.0a20190301 (from tensorflow==2.0.0-alpha0)\n",
            "\u001b[?25l  Downloading https://files.pythonhosted.org/packages/a9/51/aa1d756644bf4624c03844115e4ac4058eff77acd786b26315f051a4b195/tb_nightly-1.14.0a20190301-py3-none-any.whl (3.0MB)\n",
            "\u001b[K     |████████████████████████████████| 3.0MB 46.6MB/s \n",
            "\u001b[?25hRequirement already satisfied: grpcio>=1.8.6 in /usr/local/lib/python3.6/dist-packages (from tensorflow==2.0.0-alpha0) (1.15.0)\n",
            "Requirement already satisfied: astor>=0.6.0 in /usr/local/lib/python3.6/dist-packages (from tensorflow==2.0.0-alpha0) (0.8.0)\n",
            "Requirement already satisfied: six>=1.10.0 in /usr/local/lib/python3.6/dist-packages (from tensorflow==2.0.0-alpha0) (1.12.0)\n",
            "Collecting google-pasta>=0.1.2 (from tensorflow==2.0.0-alpha0)\n",
            "\u001b[?25l  Downloading https://files.pythonhosted.org/packages/f9/68/a14620bfb042691f532dcde8576ff82ee82e4c003cdc0a3dbee5f289cee6/google_pasta-0.1.6-py3-none-any.whl (51kB)\n",
            "\u001b[K     |████████████████████████████████| 61kB 25.6MB/s \n",
            "\u001b[?25hCollecting tf-estimator-nightly<1.14.0.dev2019030116,>=1.14.0.dev2019030115 (from tensorflow==2.0.0-alpha0)\n",
            "\u001b[?25l  Downloading https://files.pythonhosted.org/packages/13/82/f16063b4eed210dc2ab057930ac1da4fbe1e91b7b051a6c8370b401e6ae7/tf_estimator_nightly-1.14.0.dev2019030115-py2.py3-none-any.whl (411kB)\n",
            "\u001b[K     |████████████████████████████████| 419kB 52.5MB/s \n",
            "\u001b[?25hRequirement already satisfied: keras-preprocessing>=1.0.5 in /usr/local/lib/python3.6/dist-packages (from tensorflow==2.0.0-alpha0) (1.0.9)\n",
            "Requirement already satisfied: wheel>=0.26 in /usr/local/lib/python3.6/dist-packages (from tensorflow==2.0.0-alpha0) (0.33.4)\n",
            "Requirement already satisfied: setuptools in /usr/local/lib/python3.6/dist-packages (from protobuf>=3.6.1->tensorflow==2.0.0-alpha0) (41.0.1)\n",
            "Requirement already satisfied: h5py in /usr/local/lib/python3.6/dist-packages (from keras-applications>=1.0.6->tensorflow==2.0.0-alpha0) (2.8.0)\n",
            "Requirement already satisfied: werkzeug>=0.11.15 in /usr/local/lib/python3.6/dist-packages (from tb-nightly<1.14.0a20190302,>=1.14.0a20190301->tensorflow==2.0.0-alpha0) (0.15.4)\n",
            "Requirement already satisfied: markdown>=2.6.8 in /usr/local/lib/python3.6/dist-packages (from tb-nightly<1.14.0a20190302,>=1.14.0a20190301->tensorflow==2.0.0-alpha0) (3.1.1)\n",
            "Installing collected packages: tb-nightly, google-pasta, tf-estimator-nightly, tensorflow\n",
            "  Found existing installation: tensorflow 1.13.1\n",
            "    Uninstalling tensorflow-1.13.1:\n",
            "      Successfully uninstalled tensorflow-1.13.1\n",
            "Successfully installed google-pasta-0.1.6 tb-nightly-1.14.0a20190301 tensorflow-2.0.0a0 tf-estimator-nightly-1.14.0.dev2019030115\n"
          ],
          "name": "stdout"
        },
        {
          "output_type": "display_data",
          "data": {
            "application/vnd.colab-display-data+json": {
              "pip_warning": {
                "packages": [
                  "tensorflow",
                  "tensorflow_estimator"
                ]
              }
            }
          },
          "metadata": {
            "tags": []
          }
        }
      ]
    },
    {
      "cell_type": "code",
      "metadata": {
        "id": "8ezK57pS6ZSF",
        "colab_type": "code",
        "outputId": "a3b8a2ab-fb22-4c33-d48b-8770ef8db0da",
        "colab": {
          "base_uri": "https://localhost:8080/",
          "height": 173
        }
      },
      "source": [
        "import matplotlib as mpl\n",
        "import matplotlib.pyplot as plt\n",
        "%matplotlib inline\n",
        "import numpy as np\n",
        "import sklearn\n",
        "import pandas as pd\n",
        "import os\n",
        "import sys\n",
        "import time\n",
        "import tensorflow as tf\n",
        "\n",
        "from tensorflow import keras\n",
        "\n",
        "print(tf.__version__)\n",
        "print(sys.version_info)\n",
        "for module in mpl, np, pd, sklearn, tf, keras:\n",
        "    print(module.__name__, module.__version__)"
      ],
      "execution_count": 1,
      "outputs": [
        {
          "output_type": "stream",
          "text": [
            "2.0.0-alpha0\n",
            "sys.version_info(major=3, minor=6, micro=7, releaselevel='final', serial=0)\n",
            "matplotlib 3.0.3\n",
            "numpy 1.16.3\n",
            "pandas 0.24.2\n",
            "sklearn 0.21.1\n",
            "tensorflow 2.0.0-alpha0\n",
            "tensorflow.python.keras.api._v2.keras 2.2.4-tf\n"
          ],
          "name": "stdout"
        }
      ]
    },
    {
      "cell_type": "code",
      "metadata": {
        "id": "hd13Iimm6j7Q",
        "colab_type": "code",
        "outputId": "1b670240-4d5c-4792-b0b2-98873e97b53b",
        "colab": {
          "base_uri": "https://localhost:8080/",
          "height": 768
        }
      },
      "source": [
        "from sklearn.datasets import fetch_california_housing\n",
        "\n",
        "housing = fetch_california_housing()\n",
        "print(housing.DESCR)\n",
        "print(housing.data.shape)\n",
        "print(housing.target.shape)"
      ],
      "execution_count": 2,
      "outputs": [
        {
          "output_type": "stream",
          "text": [
            ".. _california_housing_dataset:\n",
            "\n",
            "California Housing dataset\n",
            "--------------------------\n",
            "\n",
            "**Data Set Characteristics:**\n",
            "\n",
            "    :Number of Instances: 20640\n",
            "\n",
            "    :Number of Attributes: 8 numeric, predictive attributes and the target\n",
            "\n",
            "    :Attribute Information:\n",
            "        - MedInc        median income in block\n",
            "        - HouseAge      median house age in block\n",
            "        - AveRooms      average number of rooms\n",
            "        - AveBedrms     average number of bedrooms\n",
            "        - Population    block population\n",
            "        - AveOccup      average house occupancy\n",
            "        - Latitude      house block latitude\n",
            "        - Longitude     house block longitude\n",
            "\n",
            "    :Missing Attribute Values: None\n",
            "\n",
            "This dataset was obtained from the StatLib repository.\n",
            "http://lib.stat.cmu.edu/datasets/\n",
            "\n",
            "The target variable is the median house value for California districts.\n",
            "\n",
            "This dataset was derived from the 1990 U.S. census, using one row per census\n",
            "block group. A block group is the smallest geographical unit for which the U.S.\n",
            "Census Bureau publishes sample data (a block group typically has a population\n",
            "of 600 to 3,000 people).\n",
            "\n",
            "It can be downloaded/loaded using the\n",
            ":func:`sklearn.datasets.fetch_california_housing` function.\n",
            "\n",
            ".. topic:: References\n",
            "\n",
            "    - Pace, R. Kelley and Ronald Barry, Sparse Spatial Autoregressions,\n",
            "      Statistics and Probability Letters, 33 (1997) 291-297\n",
            "\n",
            "(20640, 8)\n",
            "(20640,)\n"
          ],
          "name": "stdout"
        }
      ]
    },
    {
      "cell_type": "code",
      "metadata": {
        "id": "sy2zeFXF7O6V",
        "colab_type": "code",
        "outputId": "19ada0ee-1ffd-4e3a-abad-85b0e4d33683",
        "colab": {
          "base_uri": "https://localhost:8080/",
          "height": 68
        }
      },
      "source": [
        "from sklearn.model_selection import train_test_split\n",
        "\n",
        "# test_size默认为0.25\n",
        "x_train_all, x_test, y_train_all, y_test = train_test_split(\n",
        "    housing.data, housing.target, random_state = 7, test_size = 0.25)\n",
        "\n",
        "x_train, x_valid, y_train, y_valid = train_test_split(\n",
        "    x_train_all, y_train_all, random_state = 11)\n",
        "\n",
        "print(x_train.shape, y_train.shape)\n",
        "print(x_valid.shape, y_valid.shape)\n",
        "print(x_test.shape, y_test.shape)"
      ],
      "execution_count": 3,
      "outputs": [
        {
          "output_type": "stream",
          "text": [
            "(11610, 8) (11610,)\n",
            "(3870, 8) (3870,)\n",
            "(5160, 8) (5160,)\n"
          ],
          "name": "stdout"
        }
      ]
    },
    {
      "cell_type": "code",
      "metadata": {
        "id": "TvaW64pQ7418",
        "colab_type": "code",
        "colab": {}
      },
      "source": [
        "from sklearn.preprocessing import StandardScaler\n",
        "\n",
        "scaler = StandardScaler()\n",
        "x_train_scaled = scaler.fit_transform(x_train)\n",
        "x_valid_scaled = scaler.transform(x_valid)\n",
        "x_test_scaled = scaler.transform(x_test)"
      ],
      "execution_count": 0,
      "outputs": []
    },
    {
      "cell_type": "code",
      "metadata": {
        "id": "7IkL0UAt8Qzo",
        "colab_type": "code",
        "outputId": "83ad76da-c1e9-4477-bc31-6f52ee5539c3",
        "colab": {
          "base_uri": "https://localhost:8080/",
          "height": 360
        }
      },
      "source": [
        "# 函数式API\n",
        "input = keras.layers.Input(shape=x_train.shape[1:])\n",
        "hidden1 = keras.layers.Dense(30, activation='relu')(input)\n",
        "hidden2 = keras.layers.Dense(30, activation='relu')(hidden1)\n",
        "#复合函数: f(x) = h(g(x))\n",
        "\n",
        "concat = keras.layers.concatenate([input, hidden2])\n",
        "output = keras.layers.Dense(1)(concat)\n",
        "\n",
        "model = keras.models.Model(inputs = [input],\n",
        "                           outputs = [output])\n",
        "\n",
        "\n",
        "model.summary()\n",
        "model.compile(loss=\"mean_squared_error\", optimizer = \"sgd\")\n",
        "callbacks = [keras.callbacks.EarlyStopping(patience=5, min_delta=1e-3)]"
      ],
      "execution_count": 6,
      "outputs": [
        {
          "output_type": "stream",
          "text": [
            "Model: \"model\"\n",
            "__________________________________________________________________________________________________\n",
            "Layer (type)                    Output Shape         Param #     Connected to                     \n",
            "==================================================================================================\n",
            "input_2 (InputLayer)            [(None, 8)]          0                                            \n",
            "__________________________________________________________________________________________________\n",
            "dense_2 (Dense)                 (None, 30)           270         input_2[0][0]                    \n",
            "__________________________________________________________________________________________________\n",
            "dense_3 (Dense)                 (None, 30)           930         dense_2[0][0]                    \n",
            "__________________________________________________________________________________________________\n",
            "concatenate (Concatenate)       (None, 38)           0           input_2[0][0]                    \n",
            "                                                                 dense_3[0][0]                    \n",
            "__________________________________________________________________________________________________\n",
            "dense_4 (Dense)                 (None, 1)            39          concatenate[0][0]                \n",
            "==================================================================================================\n",
            "Total params: 1,239\n",
            "Trainable params: 1,239\n",
            "Non-trainable params: 0\n",
            "__________________________________________________________________________________________________\n"
          ],
          "name": "stdout"
        }
      ]
    },
    {
      "cell_type": "code",
      "metadata": {
        "id": "P3g9RQd287SJ",
        "colab_type": "code",
        "outputId": "99f68065-ba7a-414a-827c-0931fbe629e8",
        "colab": {
          "base_uri": "https://localhost:8080/",
          "height": 3318
        }
      },
      "source": [
        "history = model.fit(x_train_scaled, y_train,\n",
        "                   validation_data = (x_valid_scaled, y_valid),\n",
        "                   epochs = 100,\n",
        "                   callbacks = callbacks)"
      ],
      "execution_count": 7,
      "outputs": [
        {
          "output_type": "stream",
          "text": [
            "Train on 11610 samples, validate on 3870 samples\n",
            "Epoch 1/100\n",
            "11610/11610 [==============================] - 1s 52us/sample - loss: 1.8928 - val_loss: 0.8464\n",
            "Epoch 2/100\n",
            "11610/11610 [==============================] - 0s 38us/sample - loss: 0.7162 - val_loss: 0.7472\n",
            "Epoch 3/100\n",
            "11610/11610 [==============================] - 0s 36us/sample - loss: 0.6652 - val_loss: 0.7025\n",
            "Epoch 4/100\n",
            "11610/11610 [==============================] - 0s 38us/sample - loss: 0.6290 - val_loss: 0.6670\n",
            "Epoch 5/100\n",
            "11610/11610 [==============================] - 0s 40us/sample - loss: 0.6007 - val_loss: 0.6358\n",
            "Epoch 6/100\n",
            "11610/11610 [==============================] - 0s 39us/sample - loss: 0.5769 - val_loss: 0.6120\n",
            "Epoch 7/100\n",
            "11610/11610 [==============================] - 0s 38us/sample - loss: 0.5569 - val_loss: 0.5934\n",
            "Epoch 8/100\n",
            "11610/11610 [==============================] - 0s 39us/sample - loss: 0.5402 - val_loss: 0.5743\n",
            "Epoch 9/100\n",
            "11610/11610 [==============================] - 0s 40us/sample - loss: 0.5249 - val_loss: 0.5580\n",
            "Epoch 10/100\n",
            "11610/11610 [==============================] - 0s 38us/sample - loss: 0.5118 - val_loss: 0.5414\n",
            "Epoch 11/100\n",
            "11610/11610 [==============================] - 0s 39us/sample - loss: 0.5016 - val_loss: 0.5303\n",
            "Epoch 12/100\n",
            "11610/11610 [==============================] - 0s 39us/sample - loss: 0.4918 - val_loss: 0.5192\n",
            "Epoch 13/100\n",
            "11610/11610 [==============================] - 0s 39us/sample - loss: 0.4832 - val_loss: 0.5148\n",
            "Epoch 14/100\n",
            "11610/11610 [==============================] - 0s 38us/sample - loss: 0.4761 - val_loss: 0.5015\n",
            "Epoch 15/100\n",
            "11610/11610 [==============================] - 0s 39us/sample - loss: 0.4709 - val_loss: 0.4954\n",
            "Epoch 16/100\n",
            "11610/11610 [==============================] - 0s 37us/sample - loss: 0.4645 - val_loss: 0.4883\n",
            "Epoch 17/100\n",
            "11610/11610 [==============================] - 0s 39us/sample - loss: 0.4598 - val_loss: 0.4855\n",
            "Epoch 18/100\n",
            "11610/11610 [==============================] - 0s 38us/sample - loss: 0.4541 - val_loss: 0.4779\n",
            "Epoch 19/100\n",
            "11610/11610 [==============================] - 0s 38us/sample - loss: 0.4501 - val_loss: 0.4722\n",
            "Epoch 20/100\n",
            "11610/11610 [==============================] - 0s 38us/sample - loss: 0.4463 - val_loss: 0.4672\n",
            "Epoch 21/100\n",
            "11610/11610 [==============================] - 0s 37us/sample - loss: 0.4417 - val_loss: 0.4616\n",
            "Epoch 22/100\n",
            "11610/11610 [==============================] - 0s 38us/sample - loss: 0.4388 - val_loss: 0.4610\n",
            "Epoch 23/100\n",
            "11610/11610 [==============================] - 0s 38us/sample - loss: 0.4355 - val_loss: 0.4573\n",
            "Epoch 24/100\n",
            "11610/11610 [==============================] - 0s 39us/sample - loss: 0.4309 - val_loss: 0.4516\n",
            "Epoch 25/100\n",
            "11610/11610 [==============================] - 0s 37us/sample - loss: 0.4292 - val_loss: 0.4466\n",
            "Epoch 26/100\n",
            "11610/11610 [==============================] - 0s 38us/sample - loss: 0.4259 - val_loss: 0.4470\n",
            "Epoch 27/100\n",
            "11610/11610 [==============================] - 0s 39us/sample - loss: 0.4238 - val_loss: 0.4567\n",
            "Epoch 28/100\n",
            "11610/11610 [==============================] - 0s 38us/sample - loss: 0.4207 - val_loss: 0.4396\n",
            "Epoch 29/100\n",
            "11610/11610 [==============================] - 0s 39us/sample - loss: 0.4178 - val_loss: 0.4356\n",
            "Epoch 30/100\n",
            "11610/11610 [==============================] - 0s 38us/sample - loss: 0.4159 - val_loss: 0.4318\n",
            "Epoch 31/100\n",
            "11610/11610 [==============================] - 0s 39us/sample - loss: 0.4132 - val_loss: 0.4305\n",
            "Epoch 32/100\n",
            "11610/11610 [==============================] - 0s 38us/sample - loss: 0.4115 - val_loss: 0.4283\n",
            "Epoch 33/100\n",
            "11610/11610 [==============================] - 0s 37us/sample - loss: 0.4097 - val_loss: 0.4505\n",
            "Epoch 34/100\n",
            "11610/11610 [==============================] - 0s 38us/sample - loss: 0.4080 - val_loss: 0.4247\n",
            "Epoch 35/100\n",
            "11610/11610 [==============================] - 0s 38us/sample - loss: 0.4051 - val_loss: 0.4217\n",
            "Epoch 36/100\n",
            "11610/11610 [==============================] - 0s 38us/sample - loss: 0.4031 - val_loss: 0.4224\n",
            "Epoch 37/100\n",
            "11610/11610 [==============================] - 0s 38us/sample - loss: 0.4011 - val_loss: 0.4164\n",
            "Epoch 38/100\n",
            "11610/11610 [==============================] - 0s 39us/sample - loss: 0.4002 - val_loss: 0.4180\n",
            "Epoch 39/100\n",
            "11610/11610 [==============================] - 0s 37us/sample - loss: 0.3976 - val_loss: 0.4152\n",
            "Epoch 40/100\n",
            "11610/11610 [==============================] - 0s 38us/sample - loss: 0.3960 - val_loss: 0.4205\n",
            "Epoch 41/100\n",
            "11610/11610 [==============================] - 0s 37us/sample - loss: 0.3944 - val_loss: 0.4105\n",
            "Epoch 42/100\n",
            "11610/11610 [==============================] - 0s 37us/sample - loss: 0.3931 - val_loss: 0.4097\n",
            "Epoch 43/100\n",
            "11610/11610 [==============================] - 0s 39us/sample - loss: 0.3911 - val_loss: 0.4088\n",
            "Epoch 44/100\n",
            "11610/11610 [==============================] - 0s 37us/sample - loss: 0.3898 - val_loss: 0.4066\n",
            "Epoch 45/100\n",
            "11610/11610 [==============================] - 0s 39us/sample - loss: 0.3884 - val_loss: 0.4068\n",
            "Epoch 46/100\n",
            "11610/11610 [==============================] - 0s 39us/sample - loss: 0.3863 - val_loss: 0.4016\n",
            "Epoch 47/100\n",
            "11610/11610 [==============================] - 0s 40us/sample - loss: 0.3856 - val_loss: 0.4025\n",
            "Epoch 48/100\n",
            "11610/11610 [==============================] - 0s 38us/sample - loss: 0.3839 - val_loss: 0.3994\n",
            "Epoch 49/100\n",
            "11610/11610 [==============================] - 0s 38us/sample - loss: 0.3826 - val_loss: 0.3991\n",
            "Epoch 50/100\n",
            "11610/11610 [==============================] - 0s 38us/sample - loss: 0.3814 - val_loss: 0.3959\n",
            "Epoch 51/100\n",
            "11610/11610 [==============================] - 0s 38us/sample - loss: 0.3793 - val_loss: 0.3985\n",
            "Epoch 52/100\n",
            "11610/11610 [==============================] - 0s 38us/sample - loss: 0.3789 - val_loss: 0.3943\n",
            "Epoch 53/100\n",
            "11610/11610 [==============================] - 0s 38us/sample - loss: 0.3774 - val_loss: 0.3929\n",
            "Epoch 54/100\n",
            "11610/11610 [==============================] - 0s 38us/sample - loss: 0.3763 - val_loss: 0.3924\n",
            "Epoch 55/100\n",
            "11610/11610 [==============================] - 0s 38us/sample - loss: 0.3757 - val_loss: 0.3909\n",
            "Epoch 56/100\n",
            "11610/11610 [==============================] - 0s 38us/sample - loss: 0.3737 - val_loss: 0.3905\n",
            "Epoch 57/100\n",
            "11610/11610 [==============================] - 0s 39us/sample - loss: 0.3726 - val_loss: 0.3887\n",
            "Epoch 58/100\n",
            "11610/11610 [==============================] - 0s 38us/sample - loss: 0.3724 - val_loss: 0.3866\n",
            "Epoch 59/100\n",
            "11610/11610 [==============================] - 0s 38us/sample - loss: 0.3712 - val_loss: 0.3879\n",
            "Epoch 60/100\n",
            "11610/11610 [==============================] - 0s 38us/sample - loss: 0.3700 - val_loss: 0.3850\n",
            "Epoch 61/100\n",
            "11610/11610 [==============================] - 0s 38us/sample - loss: 0.3685 - val_loss: 0.3852\n",
            "Epoch 62/100\n",
            "11610/11610 [==============================] - 0s 38us/sample - loss: 0.3686 - val_loss: 0.3843\n",
            "Epoch 63/100\n",
            "11610/11610 [==============================] - 0s 38us/sample - loss: 0.3671 - val_loss: 0.3834\n",
            "Epoch 64/100\n",
            "11610/11610 [==============================] - 0s 38us/sample - loss: 0.3658 - val_loss: 0.3826\n",
            "Epoch 65/100\n",
            "11610/11610 [==============================] - 0s 38us/sample - loss: 0.3656 - val_loss: 0.3827\n",
            "Epoch 66/100\n",
            "11610/11610 [==============================] - 0s 38us/sample - loss: 0.3645 - val_loss: 0.3789\n",
            "Epoch 67/100\n",
            "11610/11610 [==============================] - 0s 38us/sample - loss: 0.3640 - val_loss: 0.3808\n",
            "Epoch 68/100\n",
            "11610/11610 [==============================] - 0s 39us/sample - loss: 0.3628 - val_loss: 0.3786\n",
            "Epoch 69/100\n",
            "11610/11610 [==============================] - 0s 38us/sample - loss: 0.3623 - val_loss: 0.3782\n",
            "Epoch 70/100\n",
            "11610/11610 [==============================] - 0s 38us/sample - loss: 0.3608 - val_loss: 0.3768\n",
            "Epoch 71/100\n",
            "11610/11610 [==============================] - 0s 37us/sample - loss: 0.3605 - val_loss: 0.3758\n",
            "Epoch 72/100\n",
            "11610/11610 [==============================] - 0s 37us/sample - loss: 0.3596 - val_loss: 0.3778\n",
            "Epoch 73/100\n",
            "11610/11610 [==============================] - 0s 38us/sample - loss: 0.3600 - val_loss: 0.3755\n",
            "Epoch 74/100\n",
            "11610/11610 [==============================] - 0s 38us/sample - loss: 0.3585 - val_loss: 0.3755\n",
            "Epoch 75/100\n",
            "11610/11610 [==============================] - 0s 38us/sample - loss: 0.3578 - val_loss: 0.3743\n",
            "Epoch 76/100\n",
            "11610/11610 [==============================] - 0s 38us/sample - loss: 0.3572 - val_loss: 0.3732\n",
            "Epoch 77/100\n",
            "11610/11610 [==============================] - 0s 40us/sample - loss: 0.3564 - val_loss: 0.3719\n",
            "Epoch 78/100\n",
            "11610/11610 [==============================] - 0s 38us/sample - loss: 0.3559 - val_loss: 0.3729\n",
            "Epoch 79/100\n",
            "11610/11610 [==============================] - 0s 38us/sample - loss: 0.3556 - val_loss: 0.3720\n",
            "Epoch 80/100\n",
            "11610/11610 [==============================] - 0s 39us/sample - loss: 0.3540 - val_loss: 0.3696\n",
            "Epoch 81/100\n",
            "11610/11610 [==============================] - 0s 38us/sample - loss: 0.3541 - val_loss: 0.3724\n",
            "Epoch 82/100\n",
            "11610/11610 [==============================] - 0s 37us/sample - loss: 0.3541 - val_loss: 0.3707\n",
            "Epoch 83/100\n",
            "11610/11610 [==============================] - 0s 38us/sample - loss: 0.3531 - val_loss: 0.3696\n",
            "Epoch 84/100\n",
            "11610/11610 [==============================] - 0s 38us/sample - loss: 0.3520 - val_loss: 0.3692\n",
            "Epoch 85/100\n",
            "11610/11610 [==============================] - 0s 38us/sample - loss: 0.3508 - val_loss: 0.3676\n",
            "Epoch 86/100\n",
            "11610/11610 [==============================] - 0s 39us/sample - loss: 0.3507 - val_loss: 0.3679\n",
            "Epoch 87/100\n",
            "11610/11610 [==============================] - 0s 38us/sample - loss: 0.3511 - val_loss: 0.3680\n",
            "Epoch 88/100\n",
            "11610/11610 [==============================] - 0s 38us/sample - loss: 0.3496 - val_loss: 0.3649\n",
            "Epoch 89/100\n",
            "11610/11610 [==============================] - 0s 38us/sample - loss: 0.3490 - val_loss: 0.3674\n",
            "Epoch 90/100\n",
            "11610/11610 [==============================] - 0s 38us/sample - loss: 0.3490 - val_loss: 0.3644\n",
            "Epoch 91/100\n",
            "11610/11610 [==============================] - 0s 38us/sample - loss: 0.3487 - val_loss: 0.3638\n",
            "Epoch 92/100\n",
            "11610/11610 [==============================] - 0s 38us/sample - loss: 0.3470 - val_loss: 0.3634\n",
            "Epoch 93/100\n",
            "11610/11610 [==============================] - 0s 38us/sample - loss: 0.3471 - val_loss: 0.3637\n",
            "Epoch 94/100\n",
            "11610/11610 [==============================] - 0s 38us/sample - loss: 0.3471 - val_loss: 0.3628\n",
            "Epoch 95/100\n",
            "11610/11610 [==============================] - 0s 38us/sample - loss: 0.3457 - val_loss: 0.3633\n",
            "Epoch 96/100\n",
            "11610/11610 [==============================] - 0s 38us/sample - loss: 0.3459 - val_loss: 0.3637\n"
          ],
          "name": "stdout"
        }
      ]
    },
    {
      "cell_type": "code",
      "metadata": {
        "id": "QMlYp_ol9Qmz",
        "colab_type": "code",
        "outputId": "a5a355f0-1712-45da-e74d-072aacccefcc",
        "colab": {
          "base_uri": "https://localhost:8080/",
          "height": 324
        }
      },
      "source": [
        "def plot_learning_curves(history):\n",
        "    pd.DataFrame(history.history).plot(figsize=(8,5))\n",
        "    plt.grid(True)\n",
        "    plt.gca().set_ylim(0,1)\n",
        "    plt.show()\n",
        "\n",
        "plot_learning_curves(history)"
      ],
      "execution_count": 8,
      "outputs": [
        {
          "output_type": "display_data",
          "data": {
            "image/png": "[encoded data removed]",
            "text/plain": [
              "<Figure size 576x360 with 1 Axes>"
            ]
          },
          "metadata": {
            "tags": []
          }
        }
      ]
    },
    {
      "cell_type": "code",
      "metadata": {
        "id": "hP7LY8Sa9iX4",
        "colab_type": "code",
        "outputId": "a2d07bba-04ff-474b-fcee-b97c441eddf9",
        "colab": {
          "base_uri": "https://localhost:8080/",
          "height": 71
        }
      },
      "source": [
        "model.evaluate(x_test_scaled, y_test)"
      ],
      "execution_count": 9,
      "outputs": [
        {
          "output_type": "stream",
          "text": [
            "5160/5160 [==============================] - 0s 24us/sample - loss: 0.3717\n"
          ],
          "name": "stdout"
        },
        {
          "output_type": "execute_result",
          "data": {
            "text/plain": [
              "0.3716965292775354"
            ]
          },
          "metadata": {
            "tags": []
          },
          "execution_count": 9
        }
      ]
    },
    {
      "cell_type": "code",
      "metadata": {
        "id": "qsIxnZqD9o3P",
        "colab_type": "code",
        "colab": {}
      },
      "source": [
        ""
      ],
      "execution_count": 0,
      "outputs": []
    }
  ]
}